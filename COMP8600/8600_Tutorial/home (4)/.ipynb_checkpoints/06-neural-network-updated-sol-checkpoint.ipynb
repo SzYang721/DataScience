{
 "cells": [
  {
   "cell_type": "markdown",
   "metadata": {},
   "source": [
    "# Neural networks"
   ]
  },
  {
   "cell_type": "markdown",
   "metadata": {},
   "source": [
    "###### COMP4670/8600 - Statistical Machine Learning - Tutorial"
   ]
  },
  {
   "cell_type": "markdown",
   "metadata": {},
   "source": [
    "\n",
    "\n",
    "Setting up the environment\n",
    "\n",
    "In this lab, we will train a neural network as a classifer.\n",
    "\n",
    "## Textbook Questions\n",
    "These questions are hand picked to both be of reasonable difficulty and demonstrate what you are expected to be able to solve. The questions are labelled in Bishop as either $\\star$, $\\star\\star$, or $\\star\\star\\star$ to rate its difficulty.\n",
    "\n",
    "- **Question 5.1**: First derive the relationship between $\\tanh(\\alpha)$ and $\\sigma(\\alpha)$, then use Eq. 5.4 in Bishop to compare those two neural networks. The key point is having a clear definition of the notations you will use.\n",
    "\n",
    "- **Question 5.2**: Please figure out which parts of Gaussian distribution have parameters when taking the logarithm.\n",
    "\n",
    "- **Question 5.6**: Students should always know where the activation comes from and express the derivative of logistic sigmoid function in terms of the sigmoid function itself.\n",
    "\n",
    "- **Question 5.15**: Use the symmetry between backpropagation and forward propagation.\n",
    "\n",
    "- **Question 5.25**: Challenging but important question. Show you in which case gradient descent really work. First represent the current weight with its previous value and then use mathematical induction to prove Eq. 5.197.\n",
    "\n",
    "- **Question 5.27**: Follow what Section 5.5.5 did.\n",
    "\n",
    "- **Question 5.29**: Students should understand how to take the derivative of Gaussian distribution.\n",
    "\n",
    "- **Question 5.40**: Maping binary classfication domain to multiclass domain is a very practical demand.\n",
    "\n",
    "### Assumed knowledge\n",
    "- Neural networks (lectures)\n",
    "- Classifiers (lab)\n",
    "\n",
    "### After this lab, you should be comfortable with:\n",
    "- Implementing a neural network and a simple optimizer\n",
    "- Calculating back-propogation formulas"
   ]
  },
  {
   "cell_type": "code",
   "execution_count": 1,
   "metadata": {
    "ExecuteTime": {
     "end_time": "2019-03-20T08:29:27.529906Z",
     "start_time": "2019-03-20T08:29:27.346073Z"
    }
   },
   "outputs": [],
   "source": [
    "import matplotlib.pyplot as plt\n",
    "import numpy as np\n",
    "import scipy.optimize as opt\n",
    "%matplotlib inline"
   ]
  },
  {
   "cell_type": "markdown",
   "metadata": {},
   "source": [
    "## Load the data\n",
    "\n",
    "We will be working with a similar dataset to the one used in the Classification lab.\n",
    "This is a census-income dataset, which shows income levels for people in the 1994 US Census. We will predict whether a person has $\\leq \\$50000$ or $> \\$50000$ income per year.\n",
    "\n",
    "Unlike in the Classification lab, this data is not linearly separable. That is, the linear classification techniques you learnt about in previous weeks are not effective on this data.\n",
    "\n",
    "The data is included with this notebook as `05-dataset.tsv`. Load the data into a NumPy array called `data` using numpy genfromtxt function.\n",
    "The column names are given in the variable `columns` below."
   ]
  },
  {
   "cell_type": "code",
   "execution_count": 2,
   "metadata": {
    "ExecuteTime": {
     "end_time": "2019-03-20T08:29:27.533246Z",
     "start_time": "2019-03-20T08:29:27.531409Z"
    }
   },
   "outputs": [],
   "source": [
    "columns = ['income', 'age', 'education', 'private-work', 'married', 'capital-gain', 'capital-loss', 'hours-per-week']"
   ]
  },
  {
   "cell_type": "code",
   "execution_count": 3,
   "metadata": {
    "ExecuteTime": {
     "end_time": "2019-03-20T08:29:27.719934Z",
     "start_time": "2019-03-20T08:29:27.534318Z"
    }
   },
   "outputs": [
    {
     "data": {
      "text/plain": [
       "(32561, 8)"
      ]
     },
     "execution_count": 3,
     "metadata": {},
     "output_type": "execute_result"
    }
   ],
   "source": [
    "data = np.genfromtxt(\"05-dataset.tsv\")\n",
    "data.shape"
   ]
  },
  {
   "cell_type": "markdown",
   "metadata": {},
   "source": [
    "In this tutorial we will implement a neural network using only numpy functions."
   ]
  },
  {
   "cell_type": "markdown",
   "metadata": {},
   "source": [
    "## Building blocks for a neural network\n",
    "\n",
    "Neural network libraries like PyTorch and TensorFlow seal different functionalities into different classes.\n",
    "\n",
    "First, implement the fully connected layer which does $\\mathbf{y} = X\\mathbf{w} + \\mathbf{b}$.\n",
    "It is also called Linear layer in PyTorch or Dense layer in TensorFlow."
   ]
  },
  {
   "cell_type": "code",
   "execution_count": 4,
   "metadata": {},
   "outputs": [],
   "source": [
    "# Solution\n",
    "\n",
    "class FullyConnectedLayer():\n",
    "    \"\"\"\n",
    "    This is a class skeleton provided.\n",
    "    It should perform y = Xw + b and its correspongding gradient.\n",
    "    If you never defined any classes in python before, you probably want to read other tutorials.\n",
    "    \"\"\"\n",
    "    def __init__(self, in_features, out_features):\n",
    "        \"\"\"\n",
    "        This is the init function where you have all the attributes needed defined.\n",
    "        You don't have to modify any thing in this function but you should read it carefully.\n",
    "        What each represents will be explained in the next few functions.\n",
    "        \"\"\"\n",
    "        self.in_features = in_features\n",
    "        self.out_features = out_features\n",
    "        self.weight = np.zeros((in_features, out_features))\n",
    "        self.bias = np.zeros((out_features, 1))\n",
    "        self.g_weight = np.zeros((in_features, out_features))\n",
    "        self.g_bias = np.zeros((out_features, 1))\n",
    "        self.input = None\n",
    "\n",
    "    def init_weights(self):\n",
    "        \"\"\"\n",
    "        Currently, the weight and bias of this layer is initilized to zero, which is terrible.\n",
    "        You want to re-initilize the weight with standard normal distribution \n",
    "        and the bias with uniform distribution defined on range 0 to 1.\n",
    "        Or you can try different initilization methods.\n",
    "        After you finish, comment out raise NotImplementedError.\n",
    "        No return value is needed.\n",
    "        \"\"\"\n",
    "        \n",
    "        self.weight = np.random.randn(self.in_features, self.out_features)\n",
    "        self.bias = np.random.rand(self.out_features, 1)\n",
    "\n",
    "    def forward_pass(self, X):\n",
    "        \"\"\"\n",
    "        Take the output of last layer as X and return the result.\n",
    "        Don't forget to save the input X to self.input. You will need the input for gradient calculation.\n",
    "        After you finish, comment out raise NotImplementedError.\n",
    "        If you are new to python/numpy, you probably want to figure out what is broadcasting \n",
    "        (see http://cs231n.github.io/python-numpy-tutorial/#numpy-broadcasting).\n",
    "        \"\"\"\n",
    "\n",
    "        \n",
    "        self.input = X\n",
    "        \n",
    "        out = np.dot(X, self.weight) + self.bias.T\n",
    "      \n",
    "        return out\n",
    "        \n",
    "\n",
    "    def backward_pass(self, g_next_layer):\n",
    "        \"\"\"\n",
    "        g_next_layer is the gradient passed from next layer (the layer after current layer in forward pass).\n",
    "        You need to calculate 3 things.\n",
    "        First, the gradient with respect to bias, self.g_bias.\n",
    "        Second, the gradient with respect to weights, self.g_weight.\n",
    "        Third, the gradient with respect to last layer (the layer formed by the current weight and bias), g_last_layer.\n",
    "        Save the gradient with respect to bias and the gradient with respect to weight.\n",
    "        Return the gradient with respect to last layer.\n",
    "        \"\"\"\n",
    "\n",
    "        self.g_weight = np.dot(self.input.T, g_next_layer)\n",
    "        self.g_bias = np.sum(g_next_layer, axis=0, keepdims=True)\n",
    "\n",
    "        g_last_layer = np.dot(g_next_layer, self.weight.T)\n",
    "\n",
    "        return g_last_layer\n",
    "\n",
    "    def update(self, learning_rate):\n",
    "        \"\"\"\n",
    "        Update the weight and bias use the gradient that you just calculated.\n",
    "        No return is needed.\n",
    "        \"\"\"\n",
    "        \n",
    "        self.weight -= learning_rate*self.g_weight\n",
    "        self.bias -= learning_rate*self.g_bias.T\n"
   ]
  },
  {
   "cell_type": "markdown",
   "metadata": {},
   "source": [
    "### Question 1:\n",
    "\n",
    "Why is initialising weights and biases to zero terrible?"
   ]
  },
  {
   "cell_type": "markdown",
   "metadata": {},
   "source": [
    "### Solution\n",
    "\n",
    "Intialising every value in the weights and biases to the same value is terrible, as then the gradient update is the same for all of them, so the weights and biases will remain a uniform value."
   ]
  },
  {
   "cell_type": "markdown",
   "metadata": {},
   "source": [
    " "
   ]
  },
  {
   "cell_type": "markdown",
   "metadata": {},
   "source": [
    "Now let's implement sigmoid function and sigmoid layer."
   ]
  },
  {
   "cell_type": "code",
   "execution_count": 5,
   "metadata": {
    "ExecuteTime": {
     "end_time": "2019-03-20T08:29:27.758551Z",
     "start_time": "2019-03-20T08:29:27.754100Z"
    }
   },
   "outputs": [],
   "source": [
    "# Solution\n",
    "\n",
    "def sigmoid(X):\n",
    "    \"\"\"\n",
    "    Make sure that you function works with X being matrix.\n",
    "    Use functions in numpy instead of functions in math.\n",
    "    \"\"\"\n",
    "    return 1/(1 + np.exp(-X))"
   ]
  },
  {
   "cell_type": "code",
   "execution_count": 6,
   "metadata": {
    "ExecuteTime": {
     "end_time": "2019-03-20T08:29:27.763958Z",
     "start_time": "2019-03-20T08:29:27.759529Z"
    }
   },
   "outputs": [],
   "source": [
    "# Solution\n",
    "\n",
    "class Sigmoid():\n",
    "    def __init__(self):\n",
    "        \"\"\"\n",
    "        This is the init function where you have all the attributes needed defined.\n",
    "        You don't have to modify any thing in this function but you should read it carefully.\n",
    "        \"\"\"\n",
    "        self.input = None\n",
    "        self.ctx = None\n",
    "\n",
    "    def forward_pass(self, X):\n",
    "        \"\"\"\n",
    "        Apply sigmoid function to input and save the input for later.\n",
    "        \"\"\"\n",
    "        \n",
    "        self.input = X\n",
    "        self.ctx = sigmoid(X)\n",
    "\n",
    "        return self.ctx\n",
    "\n",
    "    def backward_pass(self, g_next_layer):\n",
    "        \"\"\"\n",
    "        Calculate the gradient with respect to the input.\n",
    "        g_next_layer is the gradient passed from next layer (the layer after current layer in forward pass).\n",
    "        Return the gradient with respect to the output of the last layer.\n",
    "        \"\"\"\n",
    "        g_last_layer = self.ctx * (1 - self.ctx) * g_next_layer\n",
    "\n",
    "        return g_last_layer\n",
    "\n",
    "    def update(self, learning_rate):\n",
    "        \"\"\"\n",
    "        There is no parameter to update for this layer, but we still define this function to maintain a uniform interface.\n",
    "        \"\"\"\n",
    "        pass"
   ]
  },
  {
   "cell_type": "markdown",
   "metadata": {},
   "source": [
    "### Question 2:\n",
    "\n",
    "Why do we need the activation function to be non-linear?"
   ]
  },
  {
   "cell_type": "markdown",
   "metadata": {},
   "source": [
    "### Solution\n",
    "Writing out the math operation executed by two consecutive fully connected layers with the identity transformation we get that:\n",
    "\n",
    "$$(\\mathbf{x}\\mathbf{W}_1 + \\mathbf{b}_1)\\mathbf{W}_2 + \\mathbf{b_2} = \\mathbf{x}\\mathbf{W}_1\\mathbf{W}_2 + \\mathbf{b}_1\\mathbf{W}_2 + \\mathbf{b}_2$$\n",
    "\n",
    "Denote $\\mathbf{W}_3 = \\mathbf{W}_1\\mathbf{W}_2$ and $\\mathbf{b}_3 = \\mathbf{b}_1\\mathbf{W}_2 + \\mathbf{b}_2$\n",
    "\n",
    "Then we get \n",
    "\n",
    "$$(\\mathbf{x}\\mathbf{W}_1 + \\mathbf{b}_1)\\mathbf{W}_2 + \\mathbf{b}_2 = \\mathbf{x}\\mathbf{W}_3 + \\mathbf{b}_3$$\n",
    "\n",
    "so our two layer network is actually equivalent to some other network with only one fully connected layer.\n",
    "\n",
    "Likewise if the activation function is a general linear transformation, we could represent it as another matrix $\\mathbf{W}_4$ which we could factor into $\\mathbf{W}_2$ and get the same result.\n",
    "\n",
    "However we could not have factorised our two layer network into an equivalent one layer network if there was a non-linear activation function."
   ]
  },
  {
   "cell_type": "markdown",
   "metadata": {},
   "source": [
    "Now let's implement binary cross entropy loss and yes, this is the same loss that you used in logistic regression.\n",
    "Binary cross entropy loss can only deal with two classes. For more than two classes you need softmax function and cross entropy, but let's not worry about that."
   ]
  },
  {
   "cell_type": "code",
   "execution_count": 7,
   "metadata": {
    "ExecuteTime": {
     "end_time": "2019-03-20T08:29:27.779173Z",
     "start_time": "2019-03-20T08:29:27.772356Z"
    }
   },
   "outputs": [],
   "source": [
    "# Solution\n",
    "\n",
    "class BinaryCrossEntropyLoss():\n",
    "    def __init__(self):\n",
    "        \"\"\"\n",
    "        This is the init function where you have all the attributes needed defined.\n",
    "        You don't have to modify any thing in this function but you should read it carefully.\n",
    "        \"\"\"\n",
    "        self.input_y = None\n",
    "        self.input_t = None\n",
    "        self.input_N = None\n",
    "\n",
    "\n",
    "    def forward_pass(self, y, t):\n",
    "        \"\"\"\n",
    "        y: batch_size * 1  0 <= y <= 1, the predictions\n",
    "        t: batch_size * 1 , the targets\n",
    "        (make sure y and t have the same shape. (N,) and (N,1) are different!)\n",
    "        \n",
    "        Save the input y, t and batch size N and calculate the loss.\n",
    "        Return the mean of the loss (a scalar).\n",
    "        \"\"\"\n",
    "        \n",
    "        if len(t.shape) == 1:\n",
    "            t = t[:, None]\n",
    "\n",
    "        self.input_y = y\n",
    "        self.input_t = t\n",
    "        self.input_N = X.shape[0]\n",
    "\n",
    "        loss = -(t*np.log(y) + (1-t)*np.log(1 - y))\n",
    "\n",
    "        return np.mean(loss)\n",
    "    \n",
    "    def backward_pass(self, g_next_layer = 1):\n",
    "        \"\"\"\n",
    "        Nomrally, loss layer is the last layer in a neural network. Thus, we set the g_next_layer to 1.\n",
    "        Calculate the loss of the input y.\n",
    "        \"\"\"\n",
    "        g_last_layer = - (self.input_t/self.input_y - (1 - self.input_t)/(1 - self.input_y))/self.input_N * g_next_layer\n",
    "\n",
    "        return g_last_layer\n",
    "\n",
    "    def update(self, learning_rate):\n",
    "        \"\"\"\n",
    "        There is no parameter to update for this layer, but we still define this function to maintain a uniform interface.\n",
    "        \"\"\"\n",
    "        pass\n",
    "    "
   ]
  },
  {
   "cell_type": "markdown",
   "metadata": {},
   "source": [
    "Let's implement a neural network with one hidden layer to solve this classification problem. \n",
    "\n",
    "### Question 3\n",
    "How many input units would there be? How many output units?"
   ]
  },
  {
   "cell_type": "markdown",
   "metadata": {},
   "source": [
    "### Solution\n",
    "\n",
    "7 input units, 1 output unit."
   ]
  },
  {
   "cell_type": "markdown",
   "metadata": {},
   "source": [
    "## Put them together\n",
    "\n",
    "Put the bulding block together to form a neural network."
   ]
  },
  {
   "cell_type": "code",
   "execution_count": 8,
   "metadata": {
    "ExecuteTime": {
     "end_time": "2019-03-20T08:29:27.794516Z",
     "start_time": "2019-03-20T08:29:27.788037Z"
    }
   },
   "outputs": [],
   "source": [
    "# Solution\n",
    "\n",
    "class Network():\n",
    "    def __init__(self):\n",
    "        \"\"\"\n",
    "        Since our simple nerual network acts sequentially, \n",
    "        we can put all layers in a list for convenient traversal\n",
    "        Initialize all layers that you need (two fully connected layers, two sigmoid layers).\n",
    "        Append them to the list in the correct order.\n",
    "        Don't forget to initilize the weights for fully connected layers. Choose a sensible hidden layer size.\n",
    "        \"\"\"\n",
    "        self.sequential = []\n",
    "        \n",
    "        fc1 = FullyConnectedLayer(7, 16)\n",
    "        fc1.init_weights()\n",
    "        self.sequential.append(fc1)\n",
    "\n",
    "        sigmoid1 = Sigmoid()\n",
    "        self.sequential.append(sigmoid1)\n",
    "\n",
    "        fc2 = FullyConnectedLayer(16, 1)\n",
    "        fc2.init_weights()\n",
    "        self.sequential.append(fc2)\n",
    "\n",
    "        sigmoid2 = Sigmoid()\n",
    "        self.sequential.append(sigmoid2)\n",
    "        \n",
    "        \n",
    "    def forward_pass(self, X):\n",
    "\n",
    "        for l in self.sequential:\n",
    "\n",
    "            X = l.forward_pass(X)\n",
    "\n",
    "        return X\n",
    "\n",
    "    def backward_pass(self, grad):\n",
    "        \n",
    "        for l in reversed(self.sequential):\n",
    "\n",
    "            grad = l.backward_pass(grad)\n",
    "            \n",
    "\n",
    "    def update(self, learning_rate):\n",
    "\n",
    "        for l in self.sequential:\n",
    "\n",
    "            l.update(learning_rate)"
   ]
  },
  {
   "cell_type": "code",
   "execution_count": 9,
   "metadata": {
    "ExecuteTime": {
     "end_time": "2019-03-20T08:29:27.802105Z",
     "start_time": "2019-03-20T08:29:27.795497Z"
    }
   },
   "outputs": [],
   "source": [
    "np.random.seed(1)\n",
    "net = Network()\n",
    "bce = BinaryCrossEntropyLoss()"
   ]
  },
  {
   "cell_type": "markdown",
   "metadata": {},
   "source": [
    "You have already set up a neural network.\n",
    "In the backward_pass function of each layer, you calculated the gradient of the input and the gradient of the weight.\n",
    "Now, get a pen and a paper and try to replace g_next_layer with the backward_pass function of the next layer, all the way back to binary cross entropy loss. Don't change any code, just write it down.\n",
    "\n",
    "Compare the results with the text book.\n",
    "I hope you can see how this layer structure naturally implements the chain rule. "
   ]
  },
  {
   "cell_type": "markdown",
   "metadata": {},
   "source": [
    "## Training the neural network\n",
    "\n",
    "Split your data in half randomly, into a test set and a training set. Train the neural network on your training set. You may want to google train_test_split and accuracy_score of sklearn.\n",
    "If you get any memory error, make sure that all vectors in you calculate have shape (D, 1). (D, 1) and (D,) are different.\n",
    "Don't forget to normalize each feature to get mean 0 and variance 1."
   ]
  },
  {
   "cell_type": "code",
   "execution_count": 10,
   "metadata": {},
   "outputs": [],
   "source": [
    "\"\"\" Generate train and testing set \"\"\"\n",
    "\n",
    "from sklearn.model_selection import train_test_split\n",
    "from sklearn.metrics import accuracy_score\n",
    "data = np.genfromtxt(\"05-dataset.tsv\")\n",
    "\n",
    "y = data[:, 0]\n",
    "X = data[:, 1:]\n",
    "\n",
    "X_mean = X.mean(axis = 0)\n",
    "\n",
    "X -= X_mean\n",
    "X /= np.var(X, axis = 0)\n",
    "\n",
    "X_train, X_test, y_train, y_test = train_test_split(X, y, test_size = 0.5)\n",
    "\n",
    "training_epoch = 1000\n",
    "\n",
    "train_acc_list = np.zeros(training_epoch)\n",
    "train_loss_list = np.zeros(training_epoch)\n",
    "test_acc_list = np.zeros(training_epoch)\n",
    "test_loss_list = np.zeros(training_epoch)\n",
    "\n",
    "training_epoch = 1000\n",
    "\n",
    "train_acc_list = np.zeros(training_epoch)\n",
    "train_loss_list = np.zeros(training_epoch)\n",
    "test_acc_list = np.zeros(training_epoch)\n",
    "test_loss_list = np.zeros(training_epoch)"
   ]
  },
  {
   "cell_type": "code",
   "execution_count": 11,
   "metadata": {
    "ExecuteTime": {
     "end_time": "2019-03-20T08:30:13.340163Z",
     "start_time": "2019-03-20T08:29:27.808303Z"
    }
   },
   "outputs": [
    {
     "name": "stdout",
     "output_type": "stream",
     "text": [
      "iteration 1: train_acc 0.259705, train_loss 0.824344, test_acc 0.514649, test_loss 0.789516\n",
      "iteration 2: train_acc 0.512162, train_loss 0.790993, test_acc 0.655427, test_loss 0.760039\n",
      "iteration 3: train_acc 0.652826, train_loss 0.762136, test_acc 0.659849, test_loss 0.734452\n",
      "iteration 4: train_acc 0.651044, train_loss 0.737104, test_acc 0.652540, test_loss 0.712171\n",
      "iteration 5: train_acc 0.642568, train_loss 0.715318, test_acc 0.650144, test_loss 0.692695\n",
      "iteration 6: train_acc 0.639988, train_loss 0.696286, test_acc 0.650021, test_loss 0.675601\n",
      "iteration 7: train_acc 0.639803, train_loss 0.679592, test_acc 0.650021, test_loss 0.660532\n",
      "iteration 8: train_acc 0.639926, train_loss 0.664882, test_acc 0.650021, test_loss 0.647187\n",
      "iteration 9: train_acc 0.639926, train_loss 0.651861, test_acc 0.650021, test_loss 0.635314\n",
      "iteration 10: train_acc 0.639865, train_loss 0.640280, test_acc 0.649960, test_loss 0.624701\n",
      "iteration 11: train_acc 0.640049, train_loss 0.629932, test_acc 0.649960, test_loss 0.615170\n",
      "iteration 12: train_acc 0.640049, train_loss 0.620640, test_acc 0.649837, test_loss 0.606571\n",
      "iteration 13: train_acc 0.639926, train_loss 0.612259, test_acc 0.650206, test_loss 0.598777\n",
      "iteration 14: train_acc 0.640049, train_loss 0.604663, test_acc 0.651680, test_loss 0.591683\n",
      "iteration 15: train_acc 0.642138, train_loss 0.597748, test_acc 0.656471, test_loss 0.585198\n",
      "iteration 16: train_acc 0.646683, train_loss 0.591427, test_acc 0.663288, test_loss 0.579246\n",
      "iteration 17: train_acc 0.653624, train_loss 0.585623, test_acc 0.673730, test_loss 0.573761\n",
      "iteration 18: train_acc 0.663882, train_loss 0.580274, test_acc 0.678521, test_loss 0.568689\n",
      "iteration 19: train_acc 0.668182, train_loss 0.575325, test_acc 0.683128, test_loss 0.563981\n",
      "iteration 20: train_acc 0.674079, train_loss 0.570730, test_acc 0.690252, test_loss 0.559597\n",
      "iteration 21: train_acc 0.682432, train_loss 0.566449, test_acc 0.704072, test_loss 0.555503\n",
      "iteration 22: train_acc 0.695885, train_loss 0.562448, test_acc 0.718936, test_loss 0.551667\n",
      "iteration 23: train_acc 0.710197, train_loss 0.558698, test_acc 0.735029, test_loss 0.548065\n",
      "iteration 24: train_acc 0.726351, train_loss 0.555173, test_acc 0.744733, test_loss 0.544672\n",
      "iteration 25: train_acc 0.735074, train_loss 0.551852, test_acc 0.748603, test_loss 0.541470\n",
      "iteration 26: train_acc 0.739619, train_loss 0.548715, test_acc 0.750630, test_loss 0.538442\n",
      "iteration 27: train_acc 0.742076, train_loss 0.545745, test_acc 0.752656, test_loss 0.535571\n",
      "iteration 28: train_acc 0.744287, train_loss 0.542929, test_acc 0.754868, test_loss 0.532845\n",
      "iteration 29: train_acc 0.746007, train_loss 0.540252, test_acc 0.757079, test_loss 0.530253\n",
      "iteration 30: train_acc 0.748526, train_loss 0.537704, test_acc 0.758983, test_loss 0.527783\n",
      "iteration 31: train_acc 0.749939, train_loss 0.535275, test_acc 0.760641, test_loss 0.525427\n",
      "iteration 32: train_acc 0.751781, train_loss 0.532956, test_acc 0.761317, test_loss 0.523175\n",
      "iteration 33: train_acc 0.752457, train_loss 0.530739, test_acc 0.762054, test_loss 0.521022\n",
      "iteration 34: train_acc 0.753256, train_loss 0.528616, test_acc 0.762484, test_loss 0.518960\n",
      "iteration 35: train_acc 0.753686, train_loss 0.526582, test_acc 0.762914, test_loss 0.516983\n",
      "iteration 36: train_acc 0.754054, train_loss 0.524630, test_acc 0.763282, test_loss 0.515087\n",
      "iteration 37: train_acc 0.754238, train_loss 0.522756, test_acc 0.763405, test_loss 0.513265\n",
      "iteration 38: train_acc 0.754484, train_loss 0.520955, test_acc 0.763467, test_loss 0.511514\n",
      "iteration 39: train_acc 0.754545, train_loss 0.519223, test_acc 0.763467, test_loss 0.509829\n",
      "iteration 40: train_acc 0.754607, train_loss 0.517555, test_acc 0.763467, test_loss 0.508207\n",
      "iteration 41: train_acc 0.754791, train_loss 0.515948, test_acc 0.763467, test_loss 0.506644\n",
      "iteration 42: train_acc 0.754914, train_loss 0.514399, test_acc 0.763467, test_loss 0.505138\n",
      "iteration 43: train_acc 0.754914, train_loss 0.512905, test_acc 0.763467, test_loss 0.503685\n",
      "iteration 44: train_acc 0.754914, train_loss 0.511463, test_acc 0.763467, test_loss 0.502283\n",
      "iteration 45: train_acc 0.754914, train_loss 0.510070, test_acc 0.763467, test_loss 0.500928\n",
      "iteration 46: train_acc 0.754914, train_loss 0.508725, test_acc 0.763467, test_loss 0.499620\n",
      "iteration 47: train_acc 0.754914, train_loss 0.507424, test_acc 0.763467, test_loss 0.498355\n",
      "iteration 48: train_acc 0.754914, train_loss 0.506166, test_acc 0.763467, test_loss 0.497131\n",
      "iteration 49: train_acc 0.754914, train_loss 0.504948, test_acc 0.763467, test_loss 0.495947\n",
      "iteration 50: train_acc 0.754914, train_loss 0.503770, test_acc 0.763467, test_loss 0.494801\n",
      "iteration 51: train_acc 0.754914, train_loss 0.502629, test_acc 0.763467, test_loss 0.493692\n",
      "iteration 52: train_acc 0.754914, train_loss 0.501523, test_acc 0.763467, test_loss 0.492617\n",
      "iteration 53: train_acc 0.754914, train_loss 0.500451, test_acc 0.763467, test_loss 0.491575\n",
      "iteration 54: train_acc 0.754914, train_loss 0.499412, test_acc 0.763467, test_loss 0.490564\n",
      "iteration 55: train_acc 0.754914, train_loss 0.498404, test_acc 0.763467, test_loss 0.489584\n",
      "iteration 56: train_acc 0.754914, train_loss 0.497426, test_acc 0.763467, test_loss 0.488634\n",
      "iteration 57: train_acc 0.754914, train_loss 0.496477, test_acc 0.763467, test_loss 0.487711\n",
      "iteration 58: train_acc 0.754914, train_loss 0.495555, test_acc 0.763467, test_loss 0.486815\n",
      "iteration 59: train_acc 0.754914, train_loss 0.494660, test_acc 0.763467, test_loss 0.485944\n",
      "iteration 60: train_acc 0.754914, train_loss 0.493790, test_acc 0.763467, test_loss 0.485099\n",
      "iteration 61: train_acc 0.754914, train_loss 0.492945, test_acc 0.763467, test_loss 0.484277\n",
      "iteration 62: train_acc 0.754914, train_loss 0.492123, test_acc 0.763467, test_loss 0.483478\n",
      "iteration 63: train_acc 0.754914, train_loss 0.491324, test_acc 0.763467, test_loss 0.482701\n",
      "iteration 64: train_acc 0.754914, train_loss 0.490546, test_acc 0.763467, test_loss 0.481945\n",
      "iteration 65: train_acc 0.754914, train_loss 0.489790, test_acc 0.763467, test_loss 0.481209\n",
      "iteration 66: train_acc 0.754914, train_loss 0.489053, test_acc 0.763467, test_loss 0.480492\n",
      "iteration 67: train_acc 0.754914, train_loss 0.488336, test_acc 0.763467, test_loss 0.479795\n",
      "iteration 68: train_acc 0.754914, train_loss 0.487637, test_acc 0.763467, test_loss 0.479116\n",
      "iteration 69: train_acc 0.754914, train_loss 0.486957, test_acc 0.763467, test_loss 0.478454\n",
      "iteration 70: train_acc 0.754914, train_loss 0.486294, test_acc 0.763467, test_loss 0.477808\n",
      "iteration 71: train_acc 0.754914, train_loss 0.485647, test_acc 0.763467, test_loss 0.477179\n",
      "iteration 72: train_acc 0.754914, train_loss 0.485017, test_acc 0.763467, test_loss 0.476566\n",
      "iteration 73: train_acc 0.754853, train_loss 0.484402, test_acc 0.763467, test_loss 0.475968\n",
      "iteration 74: train_acc 0.754853, train_loss 0.483802, test_acc 0.763467, test_loss 0.475384\n",
      "iteration 75: train_acc 0.754853, train_loss 0.483217, test_acc 0.763467, test_loss 0.474814\n",
      "iteration 76: train_acc 0.754853, train_loss 0.482645, test_acc 0.763467, test_loss 0.474258\n",
      "iteration 77: train_acc 0.754853, train_loss 0.482087, test_acc 0.763467, test_loss 0.473715\n",
      "iteration 78: train_acc 0.754853, train_loss 0.481542, test_acc 0.763467, test_loss 0.473184\n",
      "iteration 79: train_acc 0.754853, train_loss 0.481010, test_acc 0.763467, test_loss 0.472666\n",
      "iteration 80: train_acc 0.754853, train_loss 0.480490, test_acc 0.763467, test_loss 0.472159\n",
      "iteration 81: train_acc 0.754791, train_loss 0.479981, test_acc 0.763467, test_loss 0.471664\n",
      "iteration 82: train_acc 0.754791, train_loss 0.479484, test_acc 0.763467, test_loss 0.471180\n",
      "iteration 83: train_acc 0.754791, train_loss 0.478998, test_acc 0.763467, test_loss 0.470706\n",
      "iteration 84: train_acc 0.754791, train_loss 0.478523, test_acc 0.763467, test_loss 0.470243\n",
      "iteration 85: train_acc 0.754791, train_loss 0.478057, test_acc 0.763467, test_loss 0.469790\n",
      "iteration 86: train_acc 0.754791, train_loss 0.477602, test_acc 0.763467, test_loss 0.469346\n",
      "iteration 87: train_acc 0.754791, train_loss 0.477156, test_acc 0.763467, test_loss 0.468912\n",
      "iteration 88: train_acc 0.754791, train_loss 0.476720, test_acc 0.763467, test_loss 0.468487\n",
      "iteration 89: train_acc 0.754791, train_loss 0.476293, test_acc 0.763467, test_loss 0.468070\n",
      "iteration 90: train_acc 0.754791, train_loss 0.475874, test_acc 0.763467, test_loss 0.467662\n",
      "iteration 91: train_acc 0.754791, train_loss 0.475464, test_acc 0.763467, test_loss 0.467262\n",
      "iteration 92: train_acc 0.754791, train_loss 0.475062, test_acc 0.763467, test_loss 0.466870\n",
      "iteration 93: train_acc 0.754791, train_loss 0.474668, test_acc 0.763467, test_loss 0.466486\n",
      "iteration 94: train_acc 0.754791, train_loss 0.474282, test_acc 0.763467, test_loss 0.466109\n",
      "iteration 95: train_acc 0.754791, train_loss 0.473903, test_acc 0.763467, test_loss 0.465739\n",
      "iteration 96: train_acc 0.754791, train_loss 0.473532, test_acc 0.763467, test_loss 0.465377\n",
      "iteration 97: train_acc 0.754791, train_loss 0.473167, test_acc 0.763467, test_loss 0.465021\n",
      "iteration 98: train_acc 0.754791, train_loss 0.472810, test_acc 0.763467, test_loss 0.464672\n",
      "iteration 99: train_acc 0.754791, train_loss 0.472459, test_acc 0.763467, test_loss 0.464329\n",
      "iteration 100: train_acc 0.754791, train_loss 0.472114, test_acc 0.763467, test_loss 0.463993\n",
      "iteration 101: train_acc 0.754791, train_loss 0.471776, test_acc 0.763467, test_loss 0.463662\n",
      "iteration 102: train_acc 0.754791, train_loss 0.471443, test_acc 0.763467, test_loss 0.463338\n",
      "iteration 103: train_acc 0.754791, train_loss 0.471117, test_acc 0.763467, test_loss 0.463019\n",
      "iteration 104: train_acc 0.754791, train_loss 0.470796, test_acc 0.763467, test_loss 0.462706\n",
      "iteration 105: train_acc 0.754791, train_loss 0.470481, test_acc 0.763467, test_loss 0.462398\n",
      "iteration 106: train_acc 0.754791, train_loss 0.470172, test_acc 0.763467, test_loss 0.462095\n",
      "iteration 107: train_acc 0.754791, train_loss 0.469867, test_acc 0.763467, test_loss 0.461798\n",
      "iteration 108: train_acc 0.754791, train_loss 0.469568, test_acc 0.763467, test_loss 0.461505\n",
      "iteration 109: train_acc 0.754791, train_loss 0.469273, test_acc 0.763467, test_loss 0.461218\n",
      "iteration 110: train_acc 0.754791, train_loss 0.468984, test_acc 0.763467, test_loss 0.460935\n",
      "iteration 111: train_acc 0.754791, train_loss 0.468699, test_acc 0.763467, test_loss 0.460656\n",
      "iteration 112: train_acc 0.754791, train_loss 0.468419, test_acc 0.763467, test_loss 0.460382\n",
      "iteration 113: train_acc 0.754791, train_loss 0.468143, test_acc 0.763467, test_loss 0.460112\n",
      "iteration 114: train_acc 0.754791, train_loss 0.467872, test_acc 0.763467, test_loss 0.459847\n",
      "iteration 115: train_acc 0.754791, train_loss 0.467605, test_acc 0.763467, test_loss 0.459586\n",
      "iteration 116: train_acc 0.754791, train_loss 0.467341, test_acc 0.763467, test_loss 0.459328\n",
      "iteration 117: train_acc 0.754791, train_loss 0.467082, test_acc 0.763467, test_loss 0.459075\n",
      "iteration 118: train_acc 0.754791, train_loss 0.466827, test_acc 0.763467, test_loss 0.458825\n",
      "iteration 119: train_acc 0.754791, train_loss 0.466576, test_acc 0.763467, test_loss 0.458579\n",
      "iteration 120: train_acc 0.754791, train_loss 0.466328, test_acc 0.763467, test_loss 0.458336\n",
      "iteration 121: train_acc 0.754791, train_loss 0.466084, test_acc 0.763467, test_loss 0.458098\n",
      "iteration 122: train_acc 0.754791, train_loss 0.465844, test_acc 0.763467, test_loss 0.457862\n",
      "iteration 123: train_acc 0.754791, train_loss 0.465607, test_acc 0.763467, test_loss 0.457630\n",
      "iteration 124: train_acc 0.754791, train_loss 0.465373, test_acc 0.763467, test_loss 0.457401\n",
      "iteration 125: train_acc 0.754791, train_loss 0.465143, test_acc 0.763467, test_loss 0.457175\n",
      "iteration 126: train_acc 0.754791, train_loss 0.464915, test_acc 0.763467, test_loss 0.456953\n",
      "iteration 127: train_acc 0.754791, train_loss 0.464691, test_acc 0.763467, test_loss 0.456733\n",
      "iteration 128: train_acc 0.754791, train_loss 0.464470, test_acc 0.763467, test_loss 0.456517\n",
      "iteration 129: train_acc 0.754791, train_loss 0.464252, test_acc 0.763467, test_loss 0.456303\n",
      "iteration 130: train_acc 0.754791, train_loss 0.464037, test_acc 0.763467, test_loss 0.456092\n",
      "iteration 131: train_acc 0.754791, train_loss 0.463825, test_acc 0.763467, test_loss 0.455884\n",
      "iteration 132: train_acc 0.754791, train_loss 0.463615, test_acc 0.763467, test_loss 0.455678\n",
      "iteration 133: train_acc 0.754791, train_loss 0.463408, test_acc 0.763467, test_loss 0.455476\n",
      "iteration 134: train_acc 0.754791, train_loss 0.463204, test_acc 0.763467, test_loss 0.455275\n",
      "iteration 135: train_acc 0.754791, train_loss 0.463003, test_acc 0.763467, test_loss 0.455077\n",
      "iteration 136: train_acc 0.754791, train_loss 0.462804, test_acc 0.763467, test_loss 0.454882\n",
      "iteration 137: train_acc 0.754791, train_loss 0.462607, test_acc 0.763467, test_loss 0.454689\n",
      "iteration 138: train_acc 0.754791, train_loss 0.462413, test_acc 0.763467, test_loss 0.454499\n",
      "iteration 139: train_acc 0.754791, train_loss 0.462221, test_acc 0.763467, test_loss 0.454310\n",
      "iteration 140: train_acc 0.754791, train_loss 0.462031, test_acc 0.763467, test_loss 0.454124\n",
      "iteration 141: train_acc 0.754791, train_loss 0.461844, test_acc 0.763467, test_loss 0.453941\n",
      "iteration 142: train_acc 0.754791, train_loss 0.461659, test_acc 0.763467, test_loss 0.453759\n",
      "iteration 143: train_acc 0.754791, train_loss 0.461476, test_acc 0.763467, test_loss 0.453579\n",
      "iteration 144: train_acc 0.754791, train_loss 0.461296, test_acc 0.763467, test_loss 0.453402\n",
      "iteration 145: train_acc 0.754791, train_loss 0.461117, test_acc 0.763467, test_loss 0.453226\n",
      "iteration 146: train_acc 0.754853, train_loss 0.460940, test_acc 0.763467, test_loss 0.453053\n",
      "iteration 147: train_acc 0.754914, train_loss 0.460766, test_acc 0.763467, test_loss 0.452881\n",
      "iteration 148: train_acc 0.754914, train_loss 0.460593, test_acc 0.763467, test_loss 0.452711\n",
      "iteration 149: train_acc 0.754914, train_loss 0.460422, test_acc 0.763528, test_loss 0.452543\n",
      "iteration 150: train_acc 0.754914, train_loss 0.460253, test_acc 0.763589, test_loss 0.452377\n",
      "iteration 151: train_acc 0.754914, train_loss 0.460086, test_acc 0.763589, test_loss 0.452213\n",
      "iteration 152: train_acc 0.754853, train_loss 0.459921, test_acc 0.763589, test_loss 0.452050\n",
      "iteration 153: train_acc 0.754853, train_loss 0.459757, test_acc 0.763651, test_loss 0.451889\n",
      "iteration 154: train_acc 0.754853, train_loss 0.459595, test_acc 0.763651, test_loss 0.451730\n",
      "iteration 155: train_acc 0.754853, train_loss 0.459435, test_acc 0.763651, test_loss 0.451572\n",
      "iteration 156: train_acc 0.754975, train_loss 0.459276, test_acc 0.763774, test_loss 0.451416\n",
      "iteration 157: train_acc 0.755037, train_loss 0.459120, test_acc 0.763712, test_loss 0.451262\n",
      "iteration 158: train_acc 0.754975, train_loss 0.458964, test_acc 0.763774, test_loss 0.451109\n",
      "iteration 159: train_acc 0.755037, train_loss 0.458811, test_acc 0.763835, test_loss 0.450958\n",
      "iteration 160: train_acc 0.755098, train_loss 0.458658, test_acc 0.763897, test_loss 0.450808\n",
      "iteration 161: train_acc 0.755160, train_loss 0.458508, test_acc 0.763897, test_loss 0.450659\n",
      "iteration 162: train_acc 0.755160, train_loss 0.458358, test_acc 0.763897, test_loss 0.450512\n",
      "iteration 163: train_acc 0.755344, train_loss 0.458211, test_acc 0.763835, test_loss 0.450367\n",
      "iteration 164: train_acc 0.755344, train_loss 0.458064, test_acc 0.763897, test_loss 0.450223\n",
      "iteration 165: train_acc 0.755528, train_loss 0.457919, test_acc 0.763958, test_loss 0.450080\n",
      "iteration 166: train_acc 0.755651, train_loss 0.457775, test_acc 0.764081, test_loss 0.449938\n",
      "iteration 167: train_acc 0.755590, train_loss 0.457633, test_acc 0.764081, test_loss 0.449798\n",
      "iteration 168: train_acc 0.755651, train_loss 0.457492, test_acc 0.764081, test_loss 0.449659\n",
      "iteration 169: train_acc 0.755651, train_loss 0.457352, test_acc 0.764019, test_loss 0.449521\n",
      "iteration 170: train_acc 0.755774, train_loss 0.457214, test_acc 0.764081, test_loss 0.449384\n",
      "iteration 171: train_acc 0.755835, train_loss 0.457077, test_acc 0.764204, test_loss 0.449249\n",
      "iteration 172: train_acc 0.755958, train_loss 0.456941, test_acc 0.764327, test_loss 0.449115\n",
      "iteration 173: train_acc 0.755958, train_loss 0.456806, test_acc 0.764449, test_loss 0.448982\n",
      "iteration 174: train_acc 0.756020, train_loss 0.456672, test_acc 0.764449, test_loss 0.448850\n",
      "iteration 175: train_acc 0.756143, train_loss 0.456540, test_acc 0.764572, test_loss 0.448719\n",
      "iteration 176: train_acc 0.756204, train_loss 0.456409, test_acc 0.764634, test_loss 0.448589\n",
      "iteration 177: train_acc 0.756388, train_loss 0.456278, test_acc 0.764818, test_loss 0.448461\n",
      "iteration 178: train_acc 0.756450, train_loss 0.456149, test_acc 0.764879, test_loss 0.448333\n",
      "iteration 179: train_acc 0.756572, train_loss 0.456021, test_acc 0.764879, test_loss 0.448207\n",
      "iteration 180: train_acc 0.756572, train_loss 0.455894, test_acc 0.765125, test_loss 0.448081\n",
      "iteration 181: train_acc 0.756634, train_loss 0.455768, test_acc 0.765186, test_loss 0.447957\n",
      "iteration 182: train_acc 0.756880, train_loss 0.455644, test_acc 0.765371, test_loss 0.447833\n",
      "iteration 183: train_acc 0.756941, train_loss 0.455520, test_acc 0.765494, test_loss 0.447711\n",
      "iteration 184: train_acc 0.756941, train_loss 0.455397, test_acc 0.765923, test_loss 0.447589\n",
      "iteration 185: train_acc 0.757187, train_loss 0.455275, test_acc 0.765923, test_loss 0.447469\n",
      "iteration 186: train_acc 0.757187, train_loss 0.455154, test_acc 0.766046, test_loss 0.447349\n",
      "iteration 187: train_acc 0.757371, train_loss 0.455034, test_acc 0.766231, test_loss 0.447230\n",
      "iteration 188: train_acc 0.757432, train_loss 0.454915, test_acc 0.766476, test_loss 0.447112\n",
      "iteration 189: train_acc 0.758170, train_loss 0.454796, test_acc 0.766599, test_loss 0.446995\n",
      "iteration 190: train_acc 0.758292, train_loss 0.454679, test_acc 0.766906, test_loss 0.446879\n",
      "iteration 191: train_acc 0.758477, train_loss 0.454563, test_acc 0.767152, test_loss 0.446764\n",
      "iteration 192: train_acc 0.758784, train_loss 0.454447, test_acc 0.767336, test_loss 0.446649\n",
      "iteration 193: train_acc 0.758968, train_loss 0.454332, test_acc 0.767336, test_loss 0.446536\n",
      "iteration 194: train_acc 0.759029, train_loss 0.454218, test_acc 0.767398, test_loss 0.446423\n",
      "iteration 195: train_acc 0.759214, train_loss 0.454105, test_acc 0.767520, test_loss 0.446311\n",
      "iteration 196: train_acc 0.759275, train_loss 0.453993, test_acc 0.767582, test_loss 0.446200\n",
      "iteration 197: train_acc 0.759828, train_loss 0.453882, test_acc 0.767828, test_loss 0.446089\n",
      "iteration 198: train_acc 0.759767, train_loss 0.453771, test_acc 0.767950, test_loss 0.445979\n",
      "iteration 199: train_acc 0.759889, train_loss 0.453661, test_acc 0.767950, test_loss 0.445870\n",
      "iteration 200: train_acc 0.759951, train_loss 0.453552, test_acc 0.768380, test_loss 0.445762\n",
      "iteration 201: train_acc 0.760074, train_loss 0.453443, test_acc 0.768565, test_loss 0.445654\n",
      "iteration 202: train_acc 0.760135, train_loss 0.453336, test_acc 0.768565, test_loss 0.445548\n",
      "iteration 203: train_acc 0.760319, train_loss 0.453229, test_acc 0.768626, test_loss 0.445441\n",
      "iteration 204: train_acc 0.760565, train_loss 0.453123, test_acc 0.768810, test_loss 0.445336\n",
      "iteration 205: train_acc 0.760627, train_loss 0.453017, test_acc 0.768749, test_loss 0.445231\n",
      "iteration 206: train_acc 0.760688, train_loss 0.452912, test_acc 0.769056, test_loss 0.445127\n",
      "iteration 207: train_acc 0.760688, train_loss 0.452808, test_acc 0.769056, test_loss 0.445024\n",
      "iteration 208: train_acc 0.760749, train_loss 0.452705, test_acc 0.769240, test_loss 0.444921\n",
      "iteration 209: train_acc 0.760872, train_loss 0.452602, test_acc 0.769363, test_loss 0.444819\n",
      "iteration 210: train_acc 0.761179, train_loss 0.452500, test_acc 0.769424, test_loss 0.444717\n",
      "iteration 211: train_acc 0.761364, train_loss 0.452398, test_acc 0.769547, test_loss 0.444616\n",
      "iteration 212: train_acc 0.761548, train_loss 0.452297, test_acc 0.769302, test_loss 0.444516\n",
      "iteration 213: train_acc 0.761671, train_loss 0.452197, test_acc 0.769424, test_loss 0.444416\n",
      "iteration 214: train_acc 0.761916, train_loss 0.452097, test_acc 0.769363, test_loss 0.444317\n",
      "iteration 215: train_acc 0.761978, train_loss 0.451998, test_acc 0.769670, test_loss 0.444218\n",
      "iteration 216: train_acc 0.762285, train_loss 0.451900, test_acc 0.769793, test_loss 0.444120\n",
      "iteration 217: train_acc 0.762531, train_loss 0.451802, test_acc 0.769793, test_loss 0.444023\n",
      "iteration 218: train_acc 0.762838, train_loss 0.451705, test_acc 0.769916, test_loss 0.443926\n",
      "iteration 219: train_acc 0.762838, train_loss 0.451608, test_acc 0.770100, test_loss 0.443830\n",
      "iteration 220: train_acc 0.762838, train_loss 0.451512, test_acc 0.770223, test_loss 0.443734\n",
      "iteration 221: train_acc 0.762899, train_loss 0.451416, test_acc 0.770223, test_loss 0.443639\n",
      "iteration 222: train_acc 0.762899, train_loss 0.451321, test_acc 0.770162, test_loss 0.443544\n",
      "iteration 223: train_acc 0.763022, train_loss 0.451227, test_acc 0.770100, test_loss 0.443450\n",
      "iteration 224: train_acc 0.762899, train_loss 0.451133, test_acc 0.770162, test_loss 0.443356\n",
      "iteration 225: train_acc 0.763022, train_loss 0.451039, test_acc 0.770469, test_loss 0.443263\n",
      "iteration 226: train_acc 0.763329, train_loss 0.450946, test_acc 0.770407, test_loss 0.443170\n",
      "iteration 227: train_acc 0.763514, train_loss 0.450854, test_acc 0.770591, test_loss 0.443078\n",
      "iteration 228: train_acc 0.763698, train_loss 0.450762, test_acc 0.770653, test_loss 0.442987\n",
      "iteration 229: train_acc 0.763636, train_loss 0.450670, test_acc 0.771021, test_loss 0.442895\n",
      "iteration 230: train_acc 0.763698, train_loss 0.450579, test_acc 0.771206, test_loss 0.442805\n",
      "iteration 231: train_acc 0.763575, train_loss 0.450489, test_acc 0.771390, test_loss 0.442714\n",
      "iteration 232: train_acc 0.763452, train_loss 0.450399, test_acc 0.771574, test_loss 0.442624\n",
      "iteration 233: train_acc 0.763514, train_loss 0.450309, test_acc 0.771758, test_loss 0.442535\n",
      "iteration 234: train_acc 0.763636, train_loss 0.450220, test_acc 0.771881, test_loss 0.442446\n",
      "iteration 235: train_acc 0.763575, train_loss 0.450132, test_acc 0.771943, test_loss 0.442358\n",
      "iteration 236: train_acc 0.763943, train_loss 0.450044, test_acc 0.771943, test_loss 0.442269\n",
      "iteration 237: train_acc 0.763943, train_loss 0.449956, test_acc 0.772004, test_loss 0.442182\n",
      "iteration 238: train_acc 0.764005, train_loss 0.449868, test_acc 0.772066, test_loss 0.442095\n",
      "iteration 239: train_acc 0.764128, train_loss 0.449782, test_acc 0.772127, test_loss 0.442008\n",
      "iteration 240: train_acc 0.764312, train_loss 0.449695, test_acc 0.772311, test_loss 0.441921\n",
      "iteration 241: train_acc 0.764373, train_loss 0.449609, test_acc 0.772373, test_loss 0.441835\n",
      "iteration 242: train_acc 0.764435, train_loss 0.449524, test_acc 0.772434, test_loss 0.441750\n",
      "iteration 243: train_acc 0.764558, train_loss 0.449438, test_acc 0.772496, test_loss 0.441665\n",
      "iteration 244: train_acc 0.764742, train_loss 0.449354, test_acc 0.772618, test_loss 0.441580\n",
      "iteration 245: train_acc 0.764865, train_loss 0.449269, test_acc 0.772741, test_loss 0.441495\n",
      "iteration 246: train_acc 0.764865, train_loss 0.449185, test_acc 0.772803, test_loss 0.441411\n",
      "iteration 247: train_acc 0.765172, train_loss 0.449102, test_acc 0.772803, test_loss 0.441327\n",
      "iteration 248: train_acc 0.765418, train_loss 0.449018, test_acc 0.772987, test_loss 0.441244\n",
      "iteration 249: train_acc 0.765786, train_loss 0.448936, test_acc 0.773110, test_loss 0.441161\n",
      "iteration 250: train_acc 0.766155, train_loss 0.448853, test_acc 0.773171, test_loss 0.441079\n",
      "iteration 251: train_acc 0.766155, train_loss 0.448771, test_acc 0.773417, test_loss 0.440996\n",
      "iteration 252: train_acc 0.766339, train_loss 0.448689, test_acc 0.773540, test_loss 0.440914\n",
      "iteration 253: train_acc 0.766523, train_loss 0.448608, test_acc 0.773908, test_loss 0.440833\n",
      "iteration 254: train_acc 0.767076, train_loss 0.448527, test_acc 0.774277, test_loss 0.440752\n",
      "iteration 255: train_acc 0.767138, train_loss 0.448446, test_acc 0.774461, test_loss 0.440671\n",
      "iteration 256: train_acc 0.767199, train_loss 0.448366, test_acc 0.774830, test_loss 0.440590\n",
      "iteration 257: train_acc 0.767506, train_loss 0.448286, test_acc 0.774891, test_loss 0.440510\n",
      "iteration 258: train_acc 0.767752, train_loss 0.448206, test_acc 0.774952, test_loss 0.440430\n",
      "iteration 259: train_acc 0.767813, train_loss 0.448127, test_acc 0.774952, test_loss 0.440351\n",
      "iteration 260: train_acc 0.768120, train_loss 0.448048, test_acc 0.774952, test_loss 0.440271\n",
      "iteration 261: train_acc 0.768120, train_loss 0.447969, test_acc 0.775014, test_loss 0.440192\n",
      "iteration 262: train_acc 0.768366, train_loss 0.447891, test_acc 0.775198, test_loss 0.440114\n",
      "iteration 263: train_acc 0.768366, train_loss 0.447813, test_acc 0.775444, test_loss 0.440036\n",
      "iteration 264: train_acc 0.768735, train_loss 0.447735, test_acc 0.775444, test_loss 0.439958\n",
      "iteration 265: train_acc 0.768919, train_loss 0.447658, test_acc 0.775505, test_loss 0.439880\n",
      "iteration 266: train_acc 0.769287, train_loss 0.447581, test_acc 0.775567, test_loss 0.439802\n",
      "iteration 267: train_acc 0.769410, train_loss 0.447504, test_acc 0.775382, test_loss 0.439725\n",
      "iteration 268: train_acc 0.769472, train_loss 0.447427, test_acc 0.775444, test_loss 0.439648\n",
      "iteration 269: train_acc 0.769595, train_loss 0.447351, test_acc 0.775505, test_loss 0.439572\n",
      "iteration 270: train_acc 0.769656, train_loss 0.447275, test_acc 0.775628, test_loss 0.439496\n",
      "iteration 271: train_acc 0.769717, train_loss 0.447200, test_acc 0.775567, test_loss 0.439420\n",
      "iteration 272: train_acc 0.769963, train_loss 0.447124, test_acc 0.775751, test_loss 0.439344\n",
      "iteration 273: train_acc 0.770086, train_loss 0.447049, test_acc 0.776058, test_loss 0.439269\n",
      "iteration 274: train_acc 0.770332, train_loss 0.446974, test_acc 0.776242, test_loss 0.439193\n",
      "iteration 275: train_acc 0.770577, train_loss 0.446900, test_acc 0.776181, test_loss 0.439118\n",
      "iteration 276: train_acc 0.770762, train_loss 0.446826, test_acc 0.776549, test_loss 0.439044\n",
      "iteration 277: train_acc 0.770823, train_loss 0.446752, test_acc 0.776672, test_loss 0.438969\n",
      "iteration 278: train_acc 0.771007, train_loss 0.446678, test_acc 0.776918, test_loss 0.438895\n",
      "iteration 279: train_acc 0.771069, train_loss 0.446605, test_acc 0.776979, test_loss 0.438821\n",
      "iteration 280: train_acc 0.771376, train_loss 0.446532, test_acc 0.777225, test_loss 0.438748\n",
      "iteration 281: train_acc 0.771376, train_loss 0.446459, test_acc 0.777348, test_loss 0.438674\n",
      "iteration 282: train_acc 0.771314, train_loss 0.446386, test_acc 0.777286, test_loss 0.438601\n",
      "iteration 283: train_acc 0.771499, train_loss 0.446314, test_acc 0.777409, test_loss 0.438528\n",
      "iteration 284: train_acc 0.771560, train_loss 0.446241, test_acc 0.777225, test_loss 0.438456\n",
      "iteration 285: train_acc 0.771560, train_loss 0.446170, test_acc 0.777471, test_loss 0.438383\n",
      "iteration 286: train_acc 0.771683, train_loss 0.446098, test_acc 0.777471, test_loss 0.438311\n",
      "iteration 287: train_acc 0.771622, train_loss 0.446027, test_acc 0.777532, test_loss 0.438239\n",
      "iteration 288: train_acc 0.772174, train_loss 0.445955, test_acc 0.777594, test_loss 0.438168\n",
      "iteration 289: train_acc 0.772174, train_loss 0.445884, test_acc 0.777594, test_loss 0.438096\n",
      "iteration 290: train_acc 0.772174, train_loss 0.445814, test_acc 0.777716, test_loss 0.438025\n",
      "iteration 291: train_acc 0.772850, train_loss 0.445743, test_acc 0.777839, test_loss 0.437954\n",
      "iteration 292: train_acc 0.773096, train_loss 0.445673, test_acc 0.777839, test_loss 0.437883\n",
      "iteration 293: train_acc 0.773464, train_loss 0.445603, test_acc 0.777839, test_loss 0.437813\n",
      "iteration 294: train_acc 0.773526, train_loss 0.445533, test_acc 0.777901, test_loss 0.437742\n",
      "iteration 295: train_acc 0.773710, train_loss 0.445464, test_acc 0.777778, test_loss 0.437672\n",
      "iteration 296: train_acc 0.773526, train_loss 0.445394, test_acc 0.777716, test_loss 0.437602\n",
      "iteration 297: train_acc 0.773771, train_loss 0.445325, test_acc 0.777839, test_loss 0.437532\n",
      "iteration 298: train_acc 0.773771, train_loss 0.445256, test_acc 0.777839, test_loss 0.437463\n",
      "iteration 299: train_acc 0.773710, train_loss 0.445188, test_acc 0.778085, test_loss 0.437394\n",
      "iteration 300: train_acc 0.773956, train_loss 0.445119, test_acc 0.778208, test_loss 0.437325\n",
      "iteration 301: train_acc 0.774201, train_loss 0.445051, test_acc 0.778392, test_loss 0.437256\n",
      "iteration 302: train_acc 0.774140, train_loss 0.444983, test_acc 0.778453, test_loss 0.437187\n",
      "iteration 303: train_acc 0.774201, train_loss 0.444915, test_acc 0.778515, test_loss 0.437119\n",
      "iteration 304: train_acc 0.774201, train_loss 0.444847, test_acc 0.778515, test_loss 0.437050\n",
      "iteration 305: train_acc 0.774263, train_loss 0.444780, test_acc 0.778761, test_loss 0.436982\n",
      "iteration 306: train_acc 0.774386, train_loss 0.444712, test_acc 0.778576, test_loss 0.436914\n",
      "iteration 307: train_acc 0.774631, train_loss 0.444645, test_acc 0.778515, test_loss 0.436847\n",
      "iteration 308: train_acc 0.774816, train_loss 0.444578, test_acc 0.778576, test_loss 0.436779\n",
      "iteration 309: train_acc 0.774754, train_loss 0.444512, test_acc 0.778638, test_loss 0.436712\n",
      "iteration 310: train_acc 0.774939, train_loss 0.444445, test_acc 0.778331, test_loss 0.436645\n",
      "iteration 311: train_acc 0.774877, train_loss 0.444379, test_acc 0.778392, test_loss 0.436578\n",
      "iteration 312: train_acc 0.774816, train_loss 0.444313, test_acc 0.778453, test_loss 0.436511\n",
      "iteration 313: train_acc 0.774877, train_loss 0.444247, test_acc 0.778269, test_loss 0.436444\n",
      "iteration 314: train_acc 0.775184, train_loss 0.444181, test_acc 0.778208, test_loss 0.436378\n",
      "iteration 315: train_acc 0.775123, train_loss 0.444116, test_acc 0.778146, test_loss 0.436312\n",
      "iteration 316: train_acc 0.775000, train_loss 0.444050, test_acc 0.778269, test_loss 0.436245\n",
      "iteration 317: train_acc 0.774939, train_loss 0.443985, test_acc 0.778331, test_loss 0.436180\n",
      "iteration 318: train_acc 0.774877, train_loss 0.443920, test_acc 0.778331, test_loss 0.436114\n",
      "iteration 319: train_acc 0.774877, train_loss 0.443855, test_acc 0.778392, test_loss 0.436048\n",
      "iteration 320: train_acc 0.774939, train_loss 0.443791, test_acc 0.778392, test_loss 0.435983\n",
      "iteration 321: train_acc 0.775061, train_loss 0.443726, test_acc 0.778515, test_loss 0.435918\n",
      "iteration 322: train_acc 0.775307, train_loss 0.443662, test_acc 0.778576, test_loss 0.435853\n",
      "iteration 323: train_acc 0.775369, train_loss 0.443598, test_acc 0.778392, test_loss 0.435788\n",
      "iteration 324: train_acc 0.775430, train_loss 0.443534, test_acc 0.778453, test_loss 0.435723\n",
      "iteration 325: train_acc 0.775307, train_loss 0.443470, test_acc 0.778638, test_loss 0.435659\n",
      "iteration 326: train_acc 0.775369, train_loss 0.443406, test_acc 0.778699, test_loss 0.435594\n",
      "iteration 327: train_acc 0.775491, train_loss 0.443343, test_acc 0.778761, test_loss 0.435530\n",
      "iteration 328: train_acc 0.775553, train_loss 0.443279, test_acc 0.778822, test_loss 0.435466\n",
      "iteration 329: train_acc 0.775737, train_loss 0.443216, test_acc 0.778883, test_loss 0.435402\n",
      "iteration 330: train_acc 0.775799, train_loss 0.443153, test_acc 0.778822, test_loss 0.435338\n",
      "iteration 331: train_acc 0.776044, train_loss 0.443090, test_acc 0.778945, test_loss 0.435275\n",
      "iteration 332: train_acc 0.775983, train_loss 0.443028, test_acc 0.779129, test_loss 0.435211\n",
      "iteration 333: train_acc 0.776106, train_loss 0.442965, test_acc 0.779190, test_loss 0.435148\n",
      "iteration 334: train_acc 0.776351, train_loss 0.442903, test_acc 0.779252, test_loss 0.435085\n",
      "iteration 335: train_acc 0.776536, train_loss 0.442840, test_acc 0.779252, test_loss 0.435022\n",
      "iteration 336: train_acc 0.776474, train_loss 0.442778, test_acc 0.779252, test_loss 0.434959\n",
      "iteration 337: train_acc 0.776474, train_loss 0.442716, test_acc 0.779313, test_loss 0.434896\n",
      "iteration 338: train_acc 0.776351, train_loss 0.442655, test_acc 0.779190, test_loss 0.434834\n",
      "iteration 339: train_acc 0.776720, train_loss 0.442593, test_acc 0.779190, test_loss 0.434771\n",
      "iteration 340: train_acc 0.776904, train_loss 0.442532, test_acc 0.779190, test_loss 0.434709\n",
      "iteration 341: train_acc 0.777150, train_loss 0.442470, test_acc 0.779313, test_loss 0.434647\n",
      "iteration 342: train_acc 0.777150, train_loss 0.442409, test_acc 0.779313, test_loss 0.434585\n",
      "iteration 343: train_acc 0.777273, train_loss 0.442348, test_acc 0.779436, test_loss 0.434523\n",
      "iteration 344: train_acc 0.777273, train_loss 0.442287, test_acc 0.779375, test_loss 0.434462\n",
      "iteration 345: train_acc 0.777396, train_loss 0.442226, test_acc 0.779498, test_loss 0.434400\n",
      "iteration 346: train_acc 0.777580, train_loss 0.442166, test_acc 0.779375, test_loss 0.434339\n",
      "iteration 347: train_acc 0.777703, train_loss 0.442105, test_acc 0.779375, test_loss 0.434277\n",
      "iteration 348: train_acc 0.777641, train_loss 0.442045, test_acc 0.779436, test_loss 0.434216\n",
      "iteration 349: train_acc 0.777703, train_loss 0.441985, test_acc 0.779375, test_loss 0.434155\n",
      "iteration 350: train_acc 0.777703, train_loss 0.441925, test_acc 0.779436, test_loss 0.434094\n",
      "iteration 351: train_acc 0.777826, train_loss 0.441865, test_acc 0.780050, test_loss 0.434034\n",
      "iteration 352: train_acc 0.778194, train_loss 0.441805, test_acc 0.779989, test_loss 0.433973\n",
      "iteration 353: train_acc 0.778133, train_loss 0.441745, test_acc 0.779989, test_loss 0.433913\n",
      "iteration 354: train_acc 0.778133, train_loss 0.441686, test_acc 0.780050, test_loss 0.433852\n",
      "iteration 355: train_acc 0.778133, train_loss 0.441626, test_acc 0.780050, test_loss 0.433792\n",
      "iteration 356: train_acc 0.778133, train_loss 0.441567, test_acc 0.780112, test_loss 0.433732\n",
      "iteration 357: train_acc 0.778071, train_loss 0.441508, test_acc 0.780173, test_loss 0.433672\n",
      "iteration 358: train_acc 0.778071, train_loss 0.441449, test_acc 0.780235, test_loss 0.433612\n",
      "iteration 359: train_acc 0.778256, train_loss 0.441390, test_acc 0.780173, test_loss 0.433553\n",
      "iteration 360: train_acc 0.778256, train_loss 0.441331, test_acc 0.780357, test_loss 0.433493\n",
      "iteration 361: train_acc 0.778256, train_loss 0.441273, test_acc 0.780357, test_loss 0.433434\n",
      "iteration 362: train_acc 0.778256, train_loss 0.441214, test_acc 0.780296, test_loss 0.433374\n",
      "iteration 363: train_acc 0.778256, train_loss 0.441156, test_acc 0.780112, test_loss 0.433315\n",
      "iteration 364: train_acc 0.778256, train_loss 0.441098, test_acc 0.780173, test_loss 0.433256\n",
      "iteration 365: train_acc 0.778071, train_loss 0.441039, test_acc 0.780296, test_loss 0.433197\n",
      "iteration 366: train_acc 0.778256, train_loss 0.440981, test_acc 0.780357, test_loss 0.433138\n",
      "iteration 367: train_acc 0.778317, train_loss 0.440924, test_acc 0.780235, test_loss 0.433080\n",
      "iteration 368: train_acc 0.778563, train_loss 0.440866, test_acc 0.780235, test_loss 0.433021\n",
      "iteration 369: train_acc 0.778624, train_loss 0.440808, test_acc 0.780296, test_loss 0.432963\n",
      "iteration 370: train_acc 0.778624, train_loss 0.440751, test_acc 0.780296, test_loss 0.432904\n",
      "iteration 371: train_acc 0.778624, train_loss 0.440693, test_acc 0.780296, test_loss 0.432846\n",
      "iteration 372: train_acc 0.778624, train_loss 0.440636, test_acc 0.780235, test_loss 0.432788\n",
      "iteration 373: train_acc 0.778624, train_loss 0.440579, test_acc 0.780542, test_loss 0.432730\n",
      "iteration 374: train_acc 0.778931, train_loss 0.440522, test_acc 0.780419, test_loss 0.432672\n",
      "iteration 375: train_acc 0.778993, train_loss 0.440465, test_acc 0.780419, test_loss 0.432614\n",
      "iteration 376: train_acc 0.778993, train_loss 0.440408, test_acc 0.780419, test_loss 0.432557\n",
      "iteration 377: train_acc 0.779054, train_loss 0.440351, test_acc 0.780357, test_loss 0.432499\n",
      "iteration 378: train_acc 0.778870, train_loss 0.440295, test_acc 0.780357, test_loss 0.432442\n",
      "iteration 379: train_acc 0.778870, train_loss 0.440238, test_acc 0.780480, test_loss 0.432384\n",
      "iteration 380: train_acc 0.778870, train_loss 0.440182, test_acc 0.780603, test_loss 0.432327\n",
      "iteration 381: train_acc 0.779054, train_loss 0.440125, test_acc 0.780603, test_loss 0.432270\n",
      "iteration 382: train_acc 0.779177, train_loss 0.440069, test_acc 0.780726, test_loss 0.432213\n",
      "iteration 383: train_acc 0.779115, train_loss 0.440013, test_acc 0.780726, test_loss 0.432156\n",
      "iteration 384: train_acc 0.778993, train_loss 0.439957, test_acc 0.780665, test_loss 0.432099\n",
      "iteration 385: train_acc 0.778993, train_loss 0.439901, test_acc 0.780603, test_loss 0.432043\n",
      "iteration 386: train_acc 0.778993, train_loss 0.439846, test_acc 0.780603, test_loss 0.431986\n",
      "iteration 387: train_acc 0.778931, train_loss 0.439790, test_acc 0.780480, test_loss 0.431930\n",
      "iteration 388: train_acc 0.779115, train_loss 0.439735, test_acc 0.780419, test_loss 0.431873\n",
      "iteration 389: train_acc 0.779238, train_loss 0.439679, test_acc 0.780726, test_loss 0.431817\n",
      "iteration 390: train_acc 0.779484, train_loss 0.439624, test_acc 0.780787, test_loss 0.431761\n",
      "iteration 391: train_acc 0.779484, train_loss 0.439569, test_acc 0.780849, test_loss 0.431705\n",
      "iteration 392: train_acc 0.779484, train_loss 0.439514, test_acc 0.780787, test_loss 0.431649\n",
      "iteration 393: train_acc 0.779423, train_loss 0.439459, test_acc 0.780787, test_loss 0.431593\n",
      "iteration 394: train_acc 0.779423, train_loss 0.439404, test_acc 0.780787, test_loss 0.431538\n",
      "iteration 395: train_acc 0.779423, train_loss 0.439349, test_acc 0.780726, test_loss 0.431482\n",
      "iteration 396: train_acc 0.779361, train_loss 0.439294, test_acc 0.780787, test_loss 0.431426\n",
      "iteration 397: train_acc 0.779300, train_loss 0.439240, test_acc 0.780665, test_loss 0.431371\n",
      "iteration 398: train_acc 0.779423, train_loss 0.439185, test_acc 0.780665, test_loss 0.431316\n",
      "iteration 399: train_acc 0.779484, train_loss 0.439131, test_acc 0.780787, test_loss 0.431260\n",
      "iteration 400: train_acc 0.779484, train_loss 0.439077, test_acc 0.780849, test_loss 0.431205\n",
      "iteration 401: train_acc 0.779484, train_loss 0.439022, test_acc 0.780849, test_loss 0.431150\n",
      "iteration 402: train_acc 0.779545, train_loss 0.438968, test_acc 0.780787, test_loss 0.431095\n",
      "iteration 403: train_acc 0.779545, train_loss 0.438914, test_acc 0.780787, test_loss 0.431041\n",
      "iteration 404: train_acc 0.779607, train_loss 0.438861, test_acc 0.780787, test_loss 0.430986\n",
      "iteration 405: train_acc 0.779668, train_loss 0.438807, test_acc 0.780849, test_loss 0.430931\n",
      "iteration 406: train_acc 0.779668, train_loss 0.438753, test_acc 0.781033, test_loss 0.430877\n",
      "iteration 407: train_acc 0.779484, train_loss 0.438699, test_acc 0.781095, test_loss 0.430822\n",
      "iteration 408: train_acc 0.779545, train_loss 0.438646, test_acc 0.781095, test_loss 0.430768\n",
      "iteration 409: train_acc 0.779545, train_loss 0.438593, test_acc 0.781095, test_loss 0.430714\n",
      "iteration 410: train_acc 0.779545, train_loss 0.438539, test_acc 0.781095, test_loss 0.430660\n",
      "iteration 411: train_acc 0.779545, train_loss 0.438486, test_acc 0.781095, test_loss 0.430606\n",
      "iteration 412: train_acc 0.779545, train_loss 0.438433, test_acc 0.781156, test_loss 0.430552\n",
      "iteration 413: train_acc 0.779607, train_loss 0.438380, test_acc 0.781156, test_loss 0.430498\n",
      "iteration 414: train_acc 0.779607, train_loss 0.438327, test_acc 0.781156, test_loss 0.430444\n",
      "iteration 415: train_acc 0.779668, train_loss 0.438274, test_acc 0.781279, test_loss 0.430390\n",
      "iteration 416: train_acc 0.779853, train_loss 0.438221, test_acc 0.781279, test_loss 0.430337\n",
      "iteration 417: train_acc 0.779914, train_loss 0.438169, test_acc 0.781402, test_loss 0.430283\n",
      "iteration 418: train_acc 0.779914, train_loss 0.438116, test_acc 0.781463, test_loss 0.430230\n",
      "iteration 419: train_acc 0.779914, train_loss 0.438064, test_acc 0.781463, test_loss 0.430177\n",
      "iteration 420: train_acc 0.779914, train_loss 0.438011, test_acc 0.781463, test_loss 0.430123\n",
      "iteration 421: train_acc 0.779914, train_loss 0.437959, test_acc 0.781463, test_loss 0.430070\n",
      "iteration 422: train_acc 0.779853, train_loss 0.437907, test_acc 0.781463, test_loss 0.430017\n",
      "iteration 423: train_acc 0.779853, train_loss 0.437855, test_acc 0.781586, test_loss 0.429964\n",
      "iteration 424: train_acc 0.779791, train_loss 0.437803, test_acc 0.781586, test_loss 0.429912\n",
      "iteration 425: train_acc 0.779791, train_loss 0.437751, test_acc 0.781647, test_loss 0.429859\n",
      "iteration 426: train_acc 0.779914, train_loss 0.437699, test_acc 0.781647, test_loss 0.429806\n",
      "iteration 427: train_acc 0.779975, train_loss 0.437647, test_acc 0.781647, test_loss 0.429754\n",
      "iteration 428: train_acc 0.779975, train_loss 0.437596, test_acc 0.781586, test_loss 0.429701\n",
      "iteration 429: train_acc 0.779975, train_loss 0.437544, test_acc 0.781586, test_loss 0.429649\n",
      "iteration 430: train_acc 0.780037, train_loss 0.437492, test_acc 0.781586, test_loss 0.429596\n",
      "iteration 431: train_acc 0.779975, train_loss 0.437441, test_acc 0.781586, test_loss 0.429544\n",
      "iteration 432: train_acc 0.780037, train_loss 0.437390, test_acc 0.781647, test_loss 0.429492\n",
      "iteration 433: train_acc 0.779975, train_loss 0.437338, test_acc 0.781770, test_loss 0.429440\n",
      "iteration 434: train_acc 0.779975, train_loss 0.437287, test_acc 0.781832, test_loss 0.429388\n",
      "iteration 435: train_acc 0.779914, train_loss 0.437236, test_acc 0.782200, test_loss 0.429336\n",
      "iteration 436: train_acc 0.780283, train_loss 0.437185, test_acc 0.782200, test_loss 0.429284\n",
      "iteration 437: train_acc 0.780344, train_loss 0.437134, test_acc 0.782200, test_loss 0.429232\n",
      "iteration 438: train_acc 0.780405, train_loss 0.437084, test_acc 0.782262, test_loss 0.429181\n",
      "iteration 439: train_acc 0.780344, train_loss 0.437033, test_acc 0.782262, test_loss 0.429129\n",
      "iteration 440: train_acc 0.780344, train_loss 0.436982, test_acc 0.782323, test_loss 0.429078\n",
      "iteration 441: train_acc 0.780344, train_loss 0.436932, test_acc 0.782384, test_loss 0.429026\n",
      "iteration 442: train_acc 0.780344, train_loss 0.436881, test_acc 0.782384, test_loss 0.428975\n",
      "iteration 443: train_acc 0.780344, train_loss 0.436831, test_acc 0.782384, test_loss 0.428924\n",
      "iteration 444: train_acc 0.780344, train_loss 0.436780, test_acc 0.782446, test_loss 0.428873\n",
      "iteration 445: train_acc 0.780344, train_loss 0.436730, test_acc 0.782446, test_loss 0.428822\n",
      "iteration 446: train_acc 0.780405, train_loss 0.436680, test_acc 0.782691, test_loss 0.428771\n",
      "iteration 447: train_acc 0.780467, train_loss 0.436630, test_acc 0.782753, test_loss 0.428720\n",
      "iteration 448: train_acc 0.780590, train_loss 0.436580, test_acc 0.782753, test_loss 0.428669\n",
      "iteration 449: train_acc 0.780590, train_loss 0.436530, test_acc 0.782814, test_loss 0.428618\n",
      "iteration 450: train_acc 0.780590, train_loss 0.436480, test_acc 0.782814, test_loss 0.428568\n",
      "iteration 451: train_acc 0.780713, train_loss 0.436430, test_acc 0.782876, test_loss 0.428517\n",
      "iteration 452: train_acc 0.780713, train_loss 0.436381, test_acc 0.782876, test_loss 0.428467\n",
      "iteration 453: train_acc 0.780774, train_loss 0.436331, test_acc 0.782876, test_loss 0.428416\n",
      "iteration 454: train_acc 0.780774, train_loss 0.436282, test_acc 0.782876, test_loss 0.428366\n",
      "iteration 455: train_acc 0.780774, train_loss 0.436232, test_acc 0.782937, test_loss 0.428316\n",
      "iteration 456: train_acc 0.780774, train_loss 0.436183, test_acc 0.782999, test_loss 0.428265\n",
      "iteration 457: train_acc 0.780774, train_loss 0.436133, test_acc 0.783244, test_loss 0.428215\n",
      "iteration 458: train_acc 0.780774, train_loss 0.436084, test_acc 0.783306, test_loss 0.428165\n",
      "iteration 459: train_acc 0.780897, train_loss 0.436035, test_acc 0.783306, test_loss 0.428115\n",
      "iteration 460: train_acc 0.780835, train_loss 0.435986, test_acc 0.783367, test_loss 0.428065\n",
      "iteration 461: train_acc 0.780897, train_loss 0.435937, test_acc 0.783429, test_loss 0.428016\n",
      "iteration 462: train_acc 0.780897, train_loss 0.435888, test_acc 0.783429, test_loss 0.427966\n",
      "iteration 463: train_acc 0.780897, train_loss 0.435839, test_acc 0.783367, test_loss 0.427916\n",
      "iteration 464: train_acc 0.780897, train_loss 0.435791, test_acc 0.783429, test_loss 0.427867\n",
      "iteration 465: train_acc 0.780897, train_loss 0.435742, test_acc 0.783429, test_loss 0.427817\n",
      "iteration 466: train_acc 0.780958, train_loss 0.435693, test_acc 0.783429, test_loss 0.427768\n",
      "iteration 467: train_acc 0.781020, train_loss 0.435645, test_acc 0.783429, test_loss 0.427719\n",
      "iteration 468: train_acc 0.781143, train_loss 0.435596, test_acc 0.783490, test_loss 0.427669\n",
      "iteration 469: train_acc 0.781265, train_loss 0.435548, test_acc 0.783490, test_loss 0.427620\n",
      "iteration 470: train_acc 0.781327, train_loss 0.435500, test_acc 0.783429, test_loss 0.427571\n",
      "iteration 471: train_acc 0.781327, train_loss 0.435451, test_acc 0.783490, test_loss 0.427522\n",
      "iteration 472: train_acc 0.781265, train_loss 0.435403, test_acc 0.783490, test_loss 0.427473\n",
      "iteration 473: train_acc 0.781143, train_loss 0.435355, test_acc 0.783429, test_loss 0.427424\n",
      "iteration 474: train_acc 0.781204, train_loss 0.435307, test_acc 0.783429, test_loss 0.427375\n",
      "iteration 475: train_acc 0.781265, train_loss 0.435259, test_acc 0.783429, test_loss 0.427327\n",
      "iteration 476: train_acc 0.781265, train_loss 0.435211, test_acc 0.783490, test_loss 0.427278\n",
      "iteration 477: train_acc 0.781265, train_loss 0.435164, test_acc 0.783551, test_loss 0.427229\n",
      "iteration 478: train_acc 0.781327, train_loss 0.435116, test_acc 0.783551, test_loss 0.427181\n",
      "iteration 479: train_acc 0.781388, train_loss 0.435068, test_acc 0.783551, test_loss 0.427132\n",
      "iteration 480: train_acc 0.781388, train_loss 0.435021, test_acc 0.783674, test_loss 0.427084\n",
      "iteration 481: train_acc 0.781388, train_loss 0.434973, test_acc 0.783858, test_loss 0.427036\n",
      "iteration 482: train_acc 0.781450, train_loss 0.434926, test_acc 0.783858, test_loss 0.426988\n",
      "iteration 483: train_acc 0.781450, train_loss 0.434878, test_acc 0.783858, test_loss 0.426939\n",
      "iteration 484: train_acc 0.781511, train_loss 0.434831, test_acc 0.783858, test_loss 0.426891\n",
      "iteration 485: train_acc 0.781511, train_loss 0.434784, test_acc 0.783858, test_loss 0.426843\n",
      "iteration 486: train_acc 0.781450, train_loss 0.434737, test_acc 0.783920, test_loss 0.426795\n",
      "iteration 487: train_acc 0.781450, train_loss 0.434690, test_acc 0.783920, test_loss 0.426748\n",
      "iteration 488: train_acc 0.781634, train_loss 0.434643, test_acc 0.784166, test_loss 0.426700\n",
      "iteration 489: train_acc 0.781695, train_loss 0.434596, test_acc 0.784166, test_loss 0.426652\n",
      "iteration 490: train_acc 0.781695, train_loss 0.434549, test_acc 0.784166, test_loss 0.426604\n",
      "iteration 491: train_acc 0.781695, train_loss 0.434502, test_acc 0.784227, test_loss 0.426557\n",
      "iteration 492: train_acc 0.781572, train_loss 0.434455, test_acc 0.784227, test_loss 0.426509\n",
      "iteration 493: train_acc 0.781572, train_loss 0.434409, test_acc 0.784166, test_loss 0.426462\n",
      "iteration 494: train_acc 0.781634, train_loss 0.434362, test_acc 0.784166, test_loss 0.426415\n",
      "iteration 495: train_acc 0.781572, train_loss 0.434315, test_acc 0.784227, test_loss 0.426367\n",
      "iteration 496: train_acc 0.781572, train_loss 0.434269, test_acc 0.784288, test_loss 0.426320\n",
      "iteration 497: train_acc 0.781450, train_loss 0.434223, test_acc 0.784288, test_loss 0.426273\n",
      "iteration 498: train_acc 0.781511, train_loss 0.434176, test_acc 0.784288, test_loss 0.426226\n",
      "iteration 499: train_acc 0.781511, train_loss 0.434130, test_acc 0.784350, test_loss 0.426179\n",
      "iteration 500: train_acc 0.781450, train_loss 0.434084, test_acc 0.784350, test_loss 0.426132\n",
      "iteration 501: train_acc 0.781511, train_loss 0.434038, test_acc 0.784411, test_loss 0.426085\n",
      "iteration 502: train_acc 0.781572, train_loss 0.433992, test_acc 0.784596, test_loss 0.426038\n",
      "iteration 503: train_acc 0.781695, train_loss 0.433946, test_acc 0.784657, test_loss 0.425991\n",
      "iteration 504: train_acc 0.781757, train_loss 0.433900, test_acc 0.784718, test_loss 0.425945\n",
      "iteration 505: train_acc 0.781880, train_loss 0.433854, test_acc 0.784718, test_loss 0.425898\n",
      "iteration 506: train_acc 0.781880, train_loss 0.433808, test_acc 0.784780, test_loss 0.425851\n",
      "iteration 507: train_acc 0.781511, train_loss 0.433762, test_acc 0.784780, test_loss 0.425805\n",
      "iteration 508: train_acc 0.781450, train_loss 0.433717, test_acc 0.784903, test_loss 0.425759\n",
      "iteration 509: train_acc 0.781450, train_loss 0.433671, test_acc 0.784964, test_loss 0.425712\n",
      "iteration 510: train_acc 0.781511, train_loss 0.433626, test_acc 0.784964, test_loss 0.425666\n",
      "iteration 511: train_acc 0.781511, train_loss 0.433580, test_acc 0.785148, test_loss 0.425620\n",
      "iteration 512: train_acc 0.781511, train_loss 0.433535, test_acc 0.785148, test_loss 0.425574\n",
      "iteration 513: train_acc 0.781511, train_loss 0.433489, test_acc 0.785087, test_loss 0.425528\n",
      "iteration 514: train_acc 0.781450, train_loss 0.433444, test_acc 0.785271, test_loss 0.425482\n",
      "iteration 515: train_acc 0.781450, train_loss 0.433399, test_acc 0.785333, test_loss 0.425436\n",
      "iteration 516: train_acc 0.781511, train_loss 0.433354, test_acc 0.785271, test_loss 0.425390\n",
      "iteration 517: train_acc 0.781511, train_loss 0.433309, test_acc 0.785333, test_loss 0.425344\n",
      "iteration 518: train_acc 0.781634, train_loss 0.433264, test_acc 0.785394, test_loss 0.425298\n",
      "iteration 519: train_acc 0.781757, train_loss 0.433219, test_acc 0.785455, test_loss 0.425252\n",
      "iteration 520: train_acc 0.781818, train_loss 0.433174, test_acc 0.785394, test_loss 0.425207\n",
      "iteration 521: train_acc 0.781880, train_loss 0.433129, test_acc 0.785333, test_loss 0.425161\n",
      "iteration 522: train_acc 0.782002, train_loss 0.433084, test_acc 0.785210, test_loss 0.425116\n",
      "iteration 523: train_acc 0.781880, train_loss 0.433040, test_acc 0.785333, test_loss 0.425070\n",
      "iteration 524: train_acc 0.782002, train_loss 0.432995, test_acc 0.785333, test_loss 0.425025\n",
      "iteration 525: train_acc 0.782125, train_loss 0.432950, test_acc 0.785394, test_loss 0.424980\n",
      "iteration 526: train_acc 0.782248, train_loss 0.432906, test_acc 0.785517, test_loss 0.424934\n",
      "iteration 527: train_acc 0.782310, train_loss 0.432862, test_acc 0.785701, test_loss 0.424889\n",
      "iteration 528: train_acc 0.782371, train_loss 0.432817, test_acc 0.785763, test_loss 0.424844\n",
      "iteration 529: train_acc 0.782371, train_loss 0.432773, test_acc 0.785885, test_loss 0.424799\n",
      "iteration 530: train_acc 0.782371, train_loss 0.432729, test_acc 0.785885, test_loss 0.424754\n",
      "iteration 531: train_acc 0.782432, train_loss 0.432684, test_acc 0.786008, test_loss 0.424709\n",
      "iteration 532: train_acc 0.782432, train_loss 0.432640, test_acc 0.786008, test_loss 0.424664\n",
      "iteration 533: train_acc 0.782494, train_loss 0.432596, test_acc 0.785947, test_loss 0.424620\n",
      "iteration 534: train_acc 0.782555, train_loss 0.432552, test_acc 0.785824, test_loss 0.424575\n",
      "iteration 535: train_acc 0.782617, train_loss 0.432508, test_acc 0.785824, test_loss 0.424530\n",
      "iteration 536: train_acc 0.782371, train_loss 0.432464, test_acc 0.785885, test_loss 0.424486\n",
      "iteration 537: train_acc 0.782432, train_loss 0.432421, test_acc 0.786008, test_loss 0.424441\n",
      "iteration 538: train_acc 0.782555, train_loss 0.432377, test_acc 0.786070, test_loss 0.424397\n",
      "iteration 539: train_acc 0.782740, train_loss 0.432333, test_acc 0.786131, test_loss 0.424352\n",
      "iteration 540: train_acc 0.782801, train_loss 0.432289, test_acc 0.786131, test_loss 0.424308\n",
      "iteration 541: train_acc 0.782924, train_loss 0.432246, test_acc 0.786070, test_loss 0.424263\n",
      "iteration 542: train_acc 0.782985, train_loss 0.432202, test_acc 0.786254, test_loss 0.424219\n",
      "iteration 543: train_acc 0.783170, train_loss 0.432159, test_acc 0.786192, test_loss 0.424175\n",
      "iteration 544: train_acc 0.783354, train_loss 0.432116, test_acc 0.786192, test_loss 0.424131\n",
      "iteration 545: train_acc 0.783600, train_loss 0.432072, test_acc 0.786131, test_loss 0.424087\n",
      "iteration 546: train_acc 0.783661, train_loss 0.432029, test_acc 0.786131, test_loss 0.424043\n",
      "iteration 547: train_acc 0.783784, train_loss 0.431986, test_acc 0.786254, test_loss 0.423999\n",
      "iteration 548: train_acc 0.783784, train_loss 0.431943, test_acc 0.786254, test_loss 0.423955\n",
      "iteration 549: train_acc 0.783784, train_loss 0.431899, test_acc 0.786377, test_loss 0.423911\n",
      "iteration 550: train_acc 0.783845, train_loss 0.431856, test_acc 0.786438, test_loss 0.423867\n",
      "iteration 551: train_acc 0.783845, train_loss 0.431813, test_acc 0.786745, test_loss 0.423824\n",
      "iteration 552: train_acc 0.783968, train_loss 0.431771, test_acc 0.786684, test_loss 0.423780\n",
      "iteration 553: train_acc 0.783845, train_loss 0.431728, test_acc 0.786684, test_loss 0.423737\n",
      "iteration 554: train_acc 0.783907, train_loss 0.431685, test_acc 0.786807, test_loss 0.423693\n",
      "iteration 555: train_acc 0.784091, train_loss 0.431642, test_acc 0.786868, test_loss 0.423650\n",
      "iteration 556: train_acc 0.784275, train_loss 0.431599, test_acc 0.787175, test_loss 0.423606\n",
      "iteration 557: train_acc 0.784459, train_loss 0.431557, test_acc 0.787175, test_loss 0.423563\n",
      "iteration 558: train_acc 0.784521, train_loss 0.431514, test_acc 0.787114, test_loss 0.423520\n",
      "iteration 559: train_acc 0.784767, train_loss 0.431472, test_acc 0.787237, test_loss 0.423476\n",
      "iteration 560: train_acc 0.784767, train_loss 0.431429, test_acc 0.787237, test_loss 0.423433\n",
      "iteration 561: train_acc 0.784767, train_loss 0.431387, test_acc 0.787421, test_loss 0.423390\n",
      "iteration 562: train_acc 0.784889, train_loss 0.431345, test_acc 0.787421, test_loss 0.423347\n",
      "iteration 563: train_acc 0.785074, train_loss 0.431302, test_acc 0.787482, test_loss 0.423304\n",
      "iteration 564: train_acc 0.785135, train_loss 0.431260, test_acc 0.787544, test_loss 0.423261\n",
      "iteration 565: train_acc 0.785012, train_loss 0.431218, test_acc 0.787544, test_loss 0.423218\n",
      "iteration 566: train_acc 0.784951, train_loss 0.431176, test_acc 0.787482, test_loss 0.423176\n",
      "iteration 567: train_acc 0.785135, train_loss 0.431134, test_acc 0.787544, test_loss 0.423133\n",
      "iteration 568: train_acc 0.785381, train_loss 0.431092, test_acc 0.787728, test_loss 0.423090\n",
      "iteration 569: train_acc 0.785442, train_loss 0.431050, test_acc 0.787974, test_loss 0.423047\n",
      "iteration 570: train_acc 0.785381, train_loss 0.431008, test_acc 0.788035, test_loss 0.423005\n",
      "iteration 571: train_acc 0.785504, train_loss 0.430966, test_acc 0.787974, test_loss 0.422962\n",
      "iteration 572: train_acc 0.785442, train_loss 0.430924, test_acc 0.787974, test_loss 0.422920\n",
      "iteration 573: train_acc 0.785504, train_loss 0.430883, test_acc 0.788097, test_loss 0.422878\n",
      "iteration 574: train_acc 0.785811, train_loss 0.430841, test_acc 0.788158, test_loss 0.422835\n",
      "iteration 575: train_acc 0.785811, train_loss 0.430799, test_acc 0.788342, test_loss 0.422793\n",
      "iteration 576: train_acc 0.785995, train_loss 0.430758, test_acc 0.788772, test_loss 0.422751\n",
      "iteration 577: train_acc 0.786118, train_loss 0.430716, test_acc 0.788834, test_loss 0.422708\n",
      "iteration 578: train_acc 0.786118, train_loss 0.430675, test_acc 0.788956, test_loss 0.422666\n",
      "iteration 579: train_acc 0.786364, train_loss 0.430633, test_acc 0.789018, test_loss 0.422624\n",
      "iteration 580: train_acc 0.786486, train_loss 0.430592, test_acc 0.789202, test_loss 0.422582\n",
      "iteration 581: train_acc 0.786978, train_loss 0.430551, test_acc 0.789202, test_loss 0.422540\n",
      "iteration 582: train_acc 0.786855, train_loss 0.430510, test_acc 0.789264, test_loss 0.422498\n",
      "iteration 583: train_acc 0.787039, train_loss 0.430468, test_acc 0.789386, test_loss 0.422457\n",
      "iteration 584: train_acc 0.787162, train_loss 0.430427, test_acc 0.789386, test_loss 0.422415\n",
      "iteration 585: train_acc 0.787346, train_loss 0.430386, test_acc 0.789571, test_loss 0.422373\n",
      "iteration 586: train_acc 0.787531, train_loss 0.430345, test_acc 0.789571, test_loss 0.422331\n",
      "iteration 587: train_acc 0.787531, train_loss 0.430304, test_acc 0.789694, test_loss 0.422290\n",
      "iteration 588: train_acc 0.787776, train_loss 0.430263, test_acc 0.790001, test_loss 0.422248\n",
      "iteration 589: train_acc 0.787838, train_loss 0.430223, test_acc 0.790001, test_loss 0.422207\n",
      "iteration 590: train_acc 0.787961, train_loss 0.430182, test_acc 0.790001, test_loss 0.422165\n",
      "iteration 591: train_acc 0.788084, train_loss 0.430141, test_acc 0.790062, test_loss 0.422124\n",
      "iteration 592: train_acc 0.788084, train_loss 0.430100, test_acc 0.790123, test_loss 0.422082\n",
      "iteration 593: train_acc 0.788206, train_loss 0.430060, test_acc 0.790369, test_loss 0.422041\n",
      "iteration 594: train_acc 0.788145, train_loss 0.430019, test_acc 0.790492, test_loss 0.422000\n",
      "iteration 595: train_acc 0.788329, train_loss 0.429979, test_acc 0.790615, test_loss 0.421959\n",
      "iteration 596: train_acc 0.788575, train_loss 0.429938, test_acc 0.790553, test_loss 0.421918\n",
      "iteration 597: train_acc 0.788452, train_loss 0.429898, test_acc 0.790553, test_loss 0.421877\n",
      "iteration 598: train_acc 0.788452, train_loss 0.429858, test_acc 0.790676, test_loss 0.421836\n",
      "iteration 599: train_acc 0.788452, train_loss 0.429817, test_acc 0.790983, test_loss 0.421795\n",
      "iteration 600: train_acc 0.788575, train_loss 0.429777, test_acc 0.791168, test_loss 0.421754\n",
      "iteration 601: train_acc 0.788636, train_loss 0.429737, test_acc 0.791168, test_loss 0.421713\n",
      "iteration 602: train_acc 0.788821, train_loss 0.429697, test_acc 0.791536, test_loss 0.421672\n",
      "iteration 603: train_acc 0.789005, train_loss 0.429657, test_acc 0.791598, test_loss 0.421631\n",
      "iteration 604: train_acc 0.788943, train_loss 0.429617, test_acc 0.791659, test_loss 0.421591\n",
      "iteration 605: train_acc 0.789066, train_loss 0.429577, test_acc 0.791659, test_loss 0.421550\n",
      "iteration 606: train_acc 0.789128, train_loss 0.429537, test_acc 0.791720, test_loss 0.421509\n",
      "iteration 607: train_acc 0.789128, train_loss 0.429497, test_acc 0.791352, test_loss 0.421469\n",
      "iteration 608: train_acc 0.789005, train_loss 0.429457, test_acc 0.791413, test_loss 0.421428\n",
      "iteration 609: train_acc 0.789005, train_loss 0.429417, test_acc 0.791720, test_loss 0.421388\n",
      "iteration 610: train_acc 0.789066, train_loss 0.429377, test_acc 0.791720, test_loss 0.421348\n",
      "iteration 611: train_acc 0.789066, train_loss 0.429338, test_acc 0.792028, test_loss 0.421307\n",
      "iteration 612: train_acc 0.789128, train_loss 0.429298, test_acc 0.792028, test_loss 0.421267\n",
      "iteration 613: train_acc 0.789066, train_loss 0.429259, test_acc 0.792089, test_loss 0.421227\n",
      "iteration 614: train_acc 0.789373, train_loss 0.429219, test_acc 0.792212, test_loss 0.421187\n",
      "iteration 615: train_acc 0.789435, train_loss 0.429180, test_acc 0.792335, test_loss 0.421146\n",
      "iteration 616: train_acc 0.789558, train_loss 0.429140, test_acc 0.792396, test_loss 0.421106\n",
      "iteration 617: train_acc 0.789619, train_loss 0.429101, test_acc 0.792273, test_loss 0.421066\n",
      "iteration 618: train_acc 0.789496, train_loss 0.429062, test_acc 0.792273, test_loss 0.421026\n",
      "iteration 619: train_acc 0.789619, train_loss 0.429022, test_acc 0.792580, test_loss 0.420986\n",
      "iteration 620: train_acc 0.789742, train_loss 0.428983, test_acc 0.792580, test_loss 0.420947\n",
      "iteration 621: train_acc 0.789803, train_loss 0.428944, test_acc 0.792703, test_loss 0.420907\n",
      "iteration 622: train_acc 0.789803, train_loss 0.428905, test_acc 0.792703, test_loss 0.420867\n",
      "iteration 623: train_acc 0.789926, train_loss 0.428866, test_acc 0.792949, test_loss 0.420827\n",
      "iteration 624: train_acc 0.789988, train_loss 0.428827, test_acc 0.792949, test_loss 0.420788\n",
      "iteration 625: train_acc 0.790049, train_loss 0.428788, test_acc 0.793195, test_loss 0.420748\n",
      "iteration 626: train_acc 0.790418, train_loss 0.428749, test_acc 0.793256, test_loss 0.420709\n",
      "iteration 627: train_acc 0.790541, train_loss 0.428710, test_acc 0.793195, test_loss 0.420669\n",
      "iteration 628: train_acc 0.790663, train_loss 0.428671, test_acc 0.793256, test_loss 0.420630\n",
      "iteration 629: train_acc 0.790663, train_loss 0.428632, test_acc 0.793256, test_loss 0.420590\n",
      "iteration 630: train_acc 0.790725, train_loss 0.428594, test_acc 0.793256, test_loss 0.420551\n",
      "iteration 631: train_acc 0.790848, train_loss 0.428555, test_acc 0.793256, test_loss 0.420512\n",
      "iteration 632: train_acc 0.791155, train_loss 0.428516, test_acc 0.793379, test_loss 0.420472\n",
      "iteration 633: train_acc 0.791032, train_loss 0.428478, test_acc 0.793256, test_loss 0.420433\n",
      "iteration 634: train_acc 0.791216, train_loss 0.428439, test_acc 0.793379, test_loss 0.420394\n",
      "iteration 635: train_acc 0.791216, train_loss 0.428401, test_acc 0.793563, test_loss 0.420355\n",
      "iteration 636: train_acc 0.791339, train_loss 0.428363, test_acc 0.793563, test_loss 0.420316\n",
      "iteration 637: train_acc 0.791462, train_loss 0.428324, test_acc 0.793809, test_loss 0.420277\n",
      "iteration 638: train_acc 0.791462, train_loss 0.428286, test_acc 0.793870, test_loss 0.420238\n",
      "iteration 639: train_acc 0.791462, train_loss 0.428248, test_acc 0.793932, test_loss 0.420199\n",
      "iteration 640: train_acc 0.791646, train_loss 0.428209, test_acc 0.794300, test_loss 0.420160\n",
      "iteration 641: train_acc 0.791708, train_loss 0.428171, test_acc 0.794362, test_loss 0.420121\n",
      "iteration 642: train_acc 0.791769, train_loss 0.428133, test_acc 0.794423, test_loss 0.420083\n",
      "iteration 643: train_acc 0.792015, train_loss 0.428095, test_acc 0.794484, test_loss 0.420044\n",
      "iteration 644: train_acc 0.792076, train_loss 0.428057, test_acc 0.794669, test_loss 0.420005\n",
      "iteration 645: train_acc 0.792076, train_loss 0.428019, test_acc 0.794853, test_loss 0.419967\n",
      "iteration 646: train_acc 0.791953, train_loss 0.427981, test_acc 0.795160, test_loss 0.419928\n",
      "iteration 647: train_acc 0.792138, train_loss 0.427943, test_acc 0.795221, test_loss 0.419890\n",
      "iteration 648: train_acc 0.792138, train_loss 0.427905, test_acc 0.795406, test_loss 0.419851\n",
      "iteration 649: train_acc 0.792383, train_loss 0.427868, test_acc 0.795283, test_loss 0.419813\n",
      "iteration 650: train_acc 0.792322, train_loss 0.427830, test_acc 0.795283, test_loss 0.419775\n",
      "iteration 651: train_acc 0.792383, train_loss 0.427792, test_acc 0.795283, test_loss 0.419736\n",
      "iteration 652: train_acc 0.792629, train_loss 0.427755, test_acc 0.795283, test_loss 0.419698\n",
      "iteration 653: train_acc 0.792629, train_loss 0.427717, test_acc 0.795651, test_loss 0.419660\n",
      "iteration 654: train_acc 0.792813, train_loss 0.427680, test_acc 0.795836, test_loss 0.419622\n",
      "iteration 655: train_acc 0.792813, train_loss 0.427642, test_acc 0.796020, test_loss 0.419584\n",
      "iteration 656: train_acc 0.792752, train_loss 0.427605, test_acc 0.796143, test_loss 0.419545\n",
      "iteration 657: train_acc 0.792875, train_loss 0.427567, test_acc 0.796204, test_loss 0.419507\n",
      "iteration 658: train_acc 0.792936, train_loss 0.427530, test_acc 0.796266, test_loss 0.419469\n",
      "iteration 659: train_acc 0.792936, train_loss 0.427493, test_acc 0.796266, test_loss 0.419432\n",
      "iteration 660: train_acc 0.793120, train_loss 0.427455, test_acc 0.796573, test_loss 0.419394\n",
      "iteration 661: train_acc 0.793366, train_loss 0.427418, test_acc 0.796573, test_loss 0.419356\n",
      "iteration 662: train_acc 0.793489, train_loss 0.427381, test_acc 0.796818, test_loss 0.419318\n",
      "iteration 663: train_acc 0.793612, train_loss 0.427344, test_acc 0.797064, test_loss 0.419280\n",
      "iteration 664: train_acc 0.793857, train_loss 0.427307, test_acc 0.797371, test_loss 0.419243\n",
      "iteration 665: train_acc 0.793980, train_loss 0.427270, test_acc 0.797433, test_loss 0.419205\n",
      "iteration 666: train_acc 0.794226, train_loss 0.427233, test_acc 0.797555, test_loss 0.419168\n",
      "iteration 667: train_acc 0.794349, train_loss 0.427196, test_acc 0.797494, test_loss 0.419130\n",
      "iteration 668: train_acc 0.794349, train_loss 0.427159, test_acc 0.797494, test_loss 0.419093\n",
      "iteration 669: train_acc 0.794349, train_loss 0.427122, test_acc 0.797555, test_loss 0.419055\n",
      "iteration 670: train_acc 0.794226, train_loss 0.427085, test_acc 0.797555, test_loss 0.419018\n",
      "iteration 671: train_acc 0.794349, train_loss 0.427049, test_acc 0.797740, test_loss 0.418980\n",
      "iteration 672: train_acc 0.794349, train_loss 0.427012, test_acc 0.798231, test_loss 0.418943\n",
      "iteration 673: train_acc 0.794287, train_loss 0.426975, test_acc 0.798108, test_loss 0.418906\n",
      "iteration 674: train_acc 0.794287, train_loss 0.426939, test_acc 0.798170, test_loss 0.418869\n",
      "iteration 675: train_acc 0.794656, train_loss 0.426902, test_acc 0.798231, test_loss 0.418831\n",
      "iteration 676: train_acc 0.794779, train_loss 0.426866, test_acc 0.798415, test_loss 0.418794\n",
      "iteration 677: train_acc 0.794717, train_loss 0.426829, test_acc 0.798354, test_loss 0.418757\n",
      "iteration 678: train_acc 0.794717, train_loss 0.426793, test_acc 0.798415, test_loss 0.418720\n",
      "iteration 679: train_acc 0.794717, train_loss 0.426756, test_acc 0.798538, test_loss 0.418683\n",
      "iteration 680: train_acc 0.794779, train_loss 0.426720, test_acc 0.798722, test_loss 0.418646\n",
      "iteration 681: train_acc 0.794840, train_loss 0.426684, test_acc 0.798968, test_loss 0.418610\n",
      "iteration 682: train_acc 0.795086, train_loss 0.426648, test_acc 0.799152, test_loss 0.418573\n",
      "iteration 683: train_acc 0.795086, train_loss 0.426611, test_acc 0.798968, test_loss 0.418536\n",
      "iteration 684: train_acc 0.795332, train_loss 0.426575, test_acc 0.799091, test_loss 0.418499\n",
      "iteration 685: train_acc 0.795455, train_loss 0.426539, test_acc 0.799030, test_loss 0.418462\n",
      "iteration 686: train_acc 0.795455, train_loss 0.426503, test_acc 0.799398, test_loss 0.418426\n",
      "iteration 687: train_acc 0.795823, train_loss 0.426467, test_acc 0.799459, test_loss 0.418389\n",
      "iteration 688: train_acc 0.796007, train_loss 0.426431, test_acc 0.799705, test_loss 0.418353\n",
      "iteration 689: train_acc 0.796314, train_loss 0.426395, test_acc 0.799828, test_loss 0.418316\n",
      "iteration 690: train_acc 0.796437, train_loss 0.426359, test_acc 0.799951, test_loss 0.418280\n",
      "iteration 691: train_acc 0.796437, train_loss 0.426324, test_acc 0.799951, test_loss 0.418243\n",
      "iteration 692: train_acc 0.796499, train_loss 0.426288, test_acc 0.799951, test_loss 0.418207\n",
      "iteration 693: train_acc 0.796622, train_loss 0.426252, test_acc 0.800012, test_loss 0.418171\n",
      "iteration 694: train_acc 0.796622, train_loss 0.426216, test_acc 0.800135, test_loss 0.418134\n",
      "iteration 695: train_acc 0.796683, train_loss 0.426181, test_acc 0.800258, test_loss 0.418098\n",
      "iteration 696: train_acc 0.797052, train_loss 0.426145, test_acc 0.800197, test_loss 0.418062\n",
      "iteration 697: train_acc 0.797359, train_loss 0.426110, test_acc 0.800565, test_loss 0.418026\n",
      "iteration 698: train_acc 0.798096, train_loss 0.426074, test_acc 0.801179, test_loss 0.417990\n",
      "iteration 699: train_acc 0.798096, train_loss 0.426039, test_acc 0.801302, test_loss 0.417954\n",
      "iteration 700: train_acc 0.798280, train_loss 0.426003, test_acc 0.801179, test_loss 0.417918\n",
      "iteration 701: train_acc 0.798280, train_loss 0.425968, test_acc 0.801179, test_loss 0.417882\n",
      "iteration 702: train_acc 0.798219, train_loss 0.425932, test_acc 0.801118, test_loss 0.417846\n",
      "iteration 703: train_acc 0.798219, train_loss 0.425897, test_acc 0.801241, test_loss 0.417810\n",
      "iteration 704: train_acc 0.798342, train_loss 0.425862, test_acc 0.801241, test_loss 0.417774\n",
      "iteration 705: train_acc 0.798587, train_loss 0.425827, test_acc 0.801486, test_loss 0.417738\n",
      "iteration 706: train_acc 0.798771, train_loss 0.425791, test_acc 0.801364, test_loss 0.417702\n",
      "iteration 707: train_acc 0.799140, train_loss 0.425756, test_acc 0.801609, test_loss 0.417667\n",
      "iteration 708: train_acc 0.799140, train_loss 0.425721, test_acc 0.801855, test_loss 0.417631\n",
      "iteration 709: train_acc 0.799386, train_loss 0.425686, test_acc 0.801855, test_loss 0.417595\n",
      "iteration 710: train_acc 0.799447, train_loss 0.425651, test_acc 0.802101, test_loss 0.417560\n",
      "iteration 711: train_acc 0.799386, train_loss 0.425616, test_acc 0.802101, test_loss 0.417524\n",
      "iteration 712: train_acc 0.799447, train_loss 0.425581, test_acc 0.802223, test_loss 0.417489\n",
      "iteration 713: train_acc 0.799447, train_loss 0.425547, test_acc 0.802285, test_loss 0.417453\n",
      "iteration 714: train_acc 0.799509, train_loss 0.425512, test_acc 0.802531, test_loss 0.417418\n",
      "iteration 715: train_acc 0.799754, train_loss 0.425477, test_acc 0.802715, test_loss 0.417383\n",
      "iteration 716: train_acc 0.799754, train_loss 0.425442, test_acc 0.802715, test_loss 0.417347\n",
      "iteration 717: train_acc 0.799939, train_loss 0.425408, test_acc 0.802715, test_loss 0.417312\n",
      "iteration 718: train_acc 0.799816, train_loss 0.425373, test_acc 0.803022, test_loss 0.417277\n",
      "iteration 719: train_acc 0.800369, train_loss 0.425338, test_acc 0.803268, test_loss 0.417242\n",
      "iteration 720: train_acc 0.800491, train_loss 0.425304, test_acc 0.803329, test_loss 0.417207\n",
      "iteration 721: train_acc 0.800860, train_loss 0.425269, test_acc 0.803452, test_loss 0.417172\n",
      "iteration 722: train_acc 0.800860, train_loss 0.425235, test_acc 0.803882, test_loss 0.417137\n",
      "iteration 723: train_acc 0.800921, train_loss 0.425200, test_acc 0.803943, test_loss 0.417102\n",
      "iteration 724: train_acc 0.801413, train_loss 0.425166, test_acc 0.804005, test_loss 0.417067\n",
      "iteration 725: train_acc 0.801413, train_loss 0.425132, test_acc 0.804066, test_loss 0.417032\n",
      "iteration 726: train_acc 0.801536, train_loss 0.425097, test_acc 0.804066, test_loss 0.416997\n",
      "iteration 727: train_acc 0.801597, train_loss 0.425063, test_acc 0.804189, test_loss 0.416962\n",
      "iteration 728: train_acc 0.801474, train_loss 0.425029, test_acc 0.804250, test_loss 0.416927\n",
      "iteration 729: train_acc 0.801597, train_loss 0.424995, test_acc 0.804312, test_loss 0.416892\n",
      "iteration 730: train_acc 0.801597, train_loss 0.424960, test_acc 0.804128, test_loss 0.416858\n",
      "iteration 731: train_acc 0.801720, train_loss 0.424926, test_acc 0.804250, test_loss 0.416823\n",
      "iteration 732: train_acc 0.801781, train_loss 0.424892, test_acc 0.804312, test_loss 0.416788\n",
      "iteration 733: train_acc 0.802088, train_loss 0.424858, test_acc 0.804435, test_loss 0.416754\n",
      "iteration 734: train_acc 0.802457, train_loss 0.424824, test_acc 0.804557, test_loss 0.416719\n",
      "iteration 735: train_acc 0.802518, train_loss 0.424790, test_acc 0.804557, test_loss 0.416685\n",
      "iteration 736: train_acc 0.802518, train_loss 0.424757, test_acc 0.804496, test_loss 0.416650\n",
      "iteration 737: train_acc 0.802580, train_loss 0.424723, test_acc 0.804496, test_loss 0.416616\n",
      "iteration 738: train_acc 0.802703, train_loss 0.424689, test_acc 0.804435, test_loss 0.416582\n",
      "iteration 739: train_acc 0.802703, train_loss 0.424655, test_acc 0.804435, test_loss 0.416547\n",
      "iteration 740: train_acc 0.802764, train_loss 0.424621, test_acc 0.804435, test_loss 0.416513\n",
      "iteration 741: train_acc 0.802703, train_loss 0.424588, test_acc 0.804619, test_loss 0.416479\n",
      "iteration 742: train_acc 0.803010, train_loss 0.424554, test_acc 0.804926, test_loss 0.416445\n",
      "iteration 743: train_acc 0.803133, train_loss 0.424520, test_acc 0.804987, test_loss 0.416411\n",
      "iteration 744: train_acc 0.803317, train_loss 0.424487, test_acc 0.804926, test_loss 0.416376\n",
      "iteration 745: train_acc 0.803501, train_loss 0.424453, test_acc 0.804926, test_loss 0.416342\n",
      "iteration 746: train_acc 0.803563, train_loss 0.424420, test_acc 0.804926, test_loss 0.416308\n",
      "iteration 747: train_acc 0.803747, train_loss 0.424387, test_acc 0.804865, test_loss 0.416274\n",
      "iteration 748: train_acc 0.803808, train_loss 0.424353, test_acc 0.804865, test_loss 0.416240\n",
      "iteration 749: train_acc 0.803931, train_loss 0.424320, test_acc 0.804926, test_loss 0.416206\n",
      "iteration 750: train_acc 0.803993, train_loss 0.424286, test_acc 0.804926, test_loss 0.416173\n",
      "iteration 751: train_acc 0.803993, train_loss 0.424253, test_acc 0.805049, test_loss 0.416139\n",
      "iteration 752: train_acc 0.804238, train_loss 0.424220, test_acc 0.804987, test_loss 0.416105\n",
      "iteration 753: train_acc 0.804115, train_loss 0.424187, test_acc 0.805172, test_loss 0.416071\n",
      "iteration 754: train_acc 0.804177, train_loss 0.424154, test_acc 0.805172, test_loss 0.416038\n",
      "iteration 755: train_acc 0.804361, train_loss 0.424121, test_acc 0.805479, test_loss 0.416004\n",
      "iteration 756: train_acc 0.804545, train_loss 0.424087, test_acc 0.805909, test_loss 0.415970\n",
      "iteration 757: train_acc 0.804853, train_loss 0.424054, test_acc 0.805909, test_loss 0.415937\n",
      "iteration 758: train_acc 0.804791, train_loss 0.424021, test_acc 0.805909, test_loss 0.415903\n",
      "iteration 759: train_acc 0.804791, train_loss 0.423989, test_acc 0.805909, test_loss 0.415870\n",
      "iteration 760: train_acc 0.804791, train_loss 0.423956, test_acc 0.805970, test_loss 0.415836\n",
      "iteration 761: train_acc 0.804853, train_loss 0.423923, test_acc 0.806032, test_loss 0.415803\n",
      "iteration 762: train_acc 0.804914, train_loss 0.423890, test_acc 0.806154, test_loss 0.415770\n",
      "iteration 763: train_acc 0.804975, train_loss 0.423857, test_acc 0.806154, test_loss 0.415736\n",
      "iteration 764: train_acc 0.804975, train_loss 0.423824, test_acc 0.806339, test_loss 0.415703\n",
      "iteration 765: train_acc 0.804914, train_loss 0.423792, test_acc 0.806462, test_loss 0.415670\n",
      "iteration 766: train_acc 0.804914, train_loss 0.423759, test_acc 0.806584, test_loss 0.415636\n",
      "iteration 767: train_acc 0.804975, train_loss 0.423726, test_acc 0.806646, test_loss 0.415603\n",
      "iteration 768: train_acc 0.805037, train_loss 0.423694, test_acc 0.807199, test_loss 0.415570\n",
      "iteration 769: train_acc 0.806081, train_loss 0.423661, test_acc 0.807321, test_loss 0.415537\n",
      "iteration 770: train_acc 0.806143, train_loss 0.423629, test_acc 0.807567, test_loss 0.415504\n",
      "iteration 771: train_acc 0.806388, train_loss 0.423596, test_acc 0.807567, test_loss 0.415471\n",
      "iteration 772: train_acc 0.806572, train_loss 0.423564, test_acc 0.807567, test_loss 0.415438\n",
      "iteration 773: train_acc 0.806634, train_loss 0.423531, test_acc 0.807567, test_loss 0.415405\n",
      "iteration 774: train_acc 0.806634, train_loss 0.423499, test_acc 0.807567, test_loss 0.415372\n",
      "iteration 775: train_acc 0.806572, train_loss 0.423467, test_acc 0.807567, test_loss 0.415339\n",
      "iteration 776: train_acc 0.806634, train_loss 0.423435, test_acc 0.807690, test_loss 0.415307\n",
      "iteration 777: train_acc 0.806634, train_loss 0.423402, test_acc 0.807690, test_loss 0.415274\n",
      "iteration 778: train_acc 0.806634, train_loss 0.423370, test_acc 0.807813, test_loss 0.415241\n",
      "iteration 779: train_acc 0.806634, train_loss 0.423338, test_acc 0.807936, test_loss 0.415208\n",
      "iteration 780: train_acc 0.806695, train_loss 0.423306, test_acc 0.807997, test_loss 0.415176\n",
      "iteration 781: train_acc 0.807125, train_loss 0.423274, test_acc 0.808427, test_loss 0.415143\n",
      "iteration 782: train_acc 0.807555, train_loss 0.423242, test_acc 0.808427, test_loss 0.415111\n",
      "iteration 783: train_acc 0.807678, train_loss 0.423210, test_acc 0.808488, test_loss 0.415078\n",
      "iteration 784: train_acc 0.807740, train_loss 0.423178, test_acc 0.808488, test_loss 0.415046\n",
      "iteration 785: train_acc 0.807740, train_loss 0.423146, test_acc 0.808488, test_loss 0.415013\n",
      "iteration 786: train_acc 0.807740, train_loss 0.423114, test_acc 0.808550, test_loss 0.414981\n",
      "iteration 787: train_acc 0.807678, train_loss 0.423082, test_acc 0.808611, test_loss 0.414948\n",
      "iteration 788: train_acc 0.807678, train_loss 0.423050, test_acc 0.808673, test_loss 0.414916\n",
      "iteration 789: train_acc 0.807678, train_loss 0.423019, test_acc 0.808550, test_loss 0.414884\n",
      "iteration 790: train_acc 0.807924, train_loss 0.422987, test_acc 0.808488, test_loss 0.414852\n",
      "iteration 791: train_acc 0.807862, train_loss 0.422955, test_acc 0.808488, test_loss 0.414819\n",
      "iteration 792: train_acc 0.807924, train_loss 0.422924, test_acc 0.808488, test_loss 0.414787\n",
      "iteration 793: train_acc 0.807924, train_loss 0.422892, test_acc 0.809164, test_loss 0.414755\n",
      "iteration 794: train_acc 0.808231, train_loss 0.422860, test_acc 0.809225, test_loss 0.414723\n",
      "iteration 795: train_acc 0.808231, train_loss 0.422829, test_acc 0.809225, test_loss 0.414691\n",
      "iteration 796: train_acc 0.808354, train_loss 0.422797, test_acc 0.809225, test_loss 0.414659\n",
      "iteration 797: train_acc 0.808354, train_loss 0.422766, test_acc 0.809287, test_loss 0.414627\n",
      "iteration 798: train_acc 0.808354, train_loss 0.422734, test_acc 0.809287, test_loss 0.414595\n",
      "iteration 799: train_acc 0.808354, train_loss 0.422703, test_acc 0.809348, test_loss 0.414563\n",
      "iteration 800: train_acc 0.808477, train_loss 0.422672, test_acc 0.809287, test_loss 0.414531\n",
      "iteration 801: train_acc 0.808538, train_loss 0.422640, test_acc 0.809225, test_loss 0.414499\n",
      "iteration 802: train_acc 0.808538, train_loss 0.422609, test_acc 0.809225, test_loss 0.414467\n",
      "iteration 803: train_acc 0.808477, train_loss 0.422578, test_acc 0.809225, test_loss 0.414436\n",
      "iteration 804: train_acc 0.808477, train_loss 0.422547, test_acc 0.809225, test_loss 0.414404\n",
      "iteration 805: train_acc 0.808538, train_loss 0.422516, test_acc 0.809287, test_loss 0.414372\n",
      "iteration 806: train_acc 0.808661, train_loss 0.422484, test_acc 0.809348, test_loss 0.414341\n",
      "iteration 807: train_acc 0.808907, train_loss 0.422453, test_acc 0.809410, test_loss 0.414309\n",
      "iteration 808: train_acc 0.808845, train_loss 0.422422, test_acc 0.809471, test_loss 0.414278\n",
      "iteration 809: train_acc 0.808845, train_loss 0.422391, test_acc 0.809471, test_loss 0.414246\n",
      "iteration 810: train_acc 0.808845, train_loss 0.422360, test_acc 0.809471, test_loss 0.414215\n",
      "iteration 811: train_acc 0.808845, train_loss 0.422329, test_acc 0.809533, test_loss 0.414183\n",
      "iteration 812: train_acc 0.808845, train_loss 0.422298, test_acc 0.809471, test_loss 0.414152\n",
      "iteration 813: train_acc 0.808968, train_loss 0.422268, test_acc 0.809471, test_loss 0.414120\n",
      "iteration 814: train_acc 0.808968, train_loss 0.422237, test_acc 0.809471, test_loss 0.414089\n",
      "iteration 815: train_acc 0.808968, train_loss 0.422206, test_acc 0.809410, test_loss 0.414058\n",
      "iteration 816: train_acc 0.808907, train_loss 0.422175, test_acc 0.809471, test_loss 0.414026\n",
      "iteration 817: train_acc 0.808907, train_loss 0.422145, test_acc 0.809533, test_loss 0.413995\n",
      "iteration 818: train_acc 0.808907, train_loss 0.422114, test_acc 0.809594, test_loss 0.413964\n",
      "iteration 819: train_acc 0.809152, train_loss 0.422083, test_acc 0.810085, test_loss 0.413933\n",
      "iteration 820: train_acc 0.809337, train_loss 0.422053, test_acc 0.810577, test_loss 0.413902\n",
      "iteration 821: train_acc 0.809644, train_loss 0.422022, test_acc 0.810577, test_loss 0.413871\n",
      "iteration 822: train_acc 0.809644, train_loss 0.421992, test_acc 0.810577, test_loss 0.413840\n",
      "iteration 823: train_acc 0.809582, train_loss 0.421961, test_acc 0.810515, test_loss 0.413809\n",
      "iteration 824: train_acc 0.809705, train_loss 0.421931, test_acc 0.810515, test_loss 0.413778\n",
      "iteration 825: train_acc 0.809644, train_loss 0.421900, test_acc 0.810515, test_loss 0.413747\n",
      "iteration 826: train_acc 0.809644, train_loss 0.421870, test_acc 0.810515, test_loss 0.413716\n",
      "iteration 827: train_acc 0.809644, train_loss 0.421840, test_acc 0.810515, test_loss 0.413685\n",
      "iteration 828: train_acc 0.809644, train_loss 0.421809, test_acc 0.810454, test_loss 0.413654\n",
      "iteration 829: train_acc 0.809644, train_loss 0.421779, test_acc 0.810454, test_loss 0.413624\n",
      "iteration 830: train_acc 0.809644, train_loss 0.421749, test_acc 0.810515, test_loss 0.413593\n",
      "iteration 831: train_acc 0.809644, train_loss 0.421719, test_acc 0.810577, test_loss 0.413562\n",
      "iteration 832: train_acc 0.809828, train_loss 0.421688, test_acc 0.810822, test_loss 0.413531\n",
      "iteration 833: train_acc 0.809951, train_loss 0.421658, test_acc 0.811375, test_loss 0.413501\n",
      "iteration 834: train_acc 0.809951, train_loss 0.421628, test_acc 0.811314, test_loss 0.413470\n",
      "iteration 835: train_acc 0.810012, train_loss 0.421598, test_acc 0.811252, test_loss 0.413440\n",
      "iteration 836: train_acc 0.809951, train_loss 0.421568, test_acc 0.811314, test_loss 0.413409\n",
      "iteration 837: train_acc 0.809889, train_loss 0.421538, test_acc 0.811375, test_loss 0.413379\n",
      "iteration 838: train_acc 0.809828, train_loss 0.421508, test_acc 0.811314, test_loss 0.413348\n",
      "iteration 839: train_acc 0.809828, train_loss 0.421478, test_acc 0.811375, test_loss 0.413318\n",
      "iteration 840: train_acc 0.809644, train_loss 0.421448, test_acc 0.811375, test_loss 0.413287\n",
      "iteration 841: train_acc 0.809644, train_loss 0.421419, test_acc 0.811375, test_loss 0.413257\n",
      "iteration 842: train_acc 0.809767, train_loss 0.421389, test_acc 0.811375, test_loss 0.413227\n",
      "iteration 843: train_acc 0.809767, train_loss 0.421359, test_acc 0.811375, test_loss 0.413197\n",
      "iteration 844: train_acc 0.809705, train_loss 0.421329, test_acc 0.811498, test_loss 0.413166\n",
      "iteration 845: train_acc 0.809767, train_loss 0.421300, test_acc 0.811437, test_loss 0.413136\n",
      "iteration 846: train_acc 0.809889, train_loss 0.421270, test_acc 0.811437, test_loss 0.413106\n",
      "iteration 847: train_acc 0.810012, train_loss 0.421240, test_acc 0.811805, test_loss 0.413076\n",
      "iteration 848: train_acc 0.810688, train_loss 0.421211, test_acc 0.811867, test_loss 0.413046\n",
      "iteration 849: train_acc 0.810811, train_loss 0.421181, test_acc 0.811805, test_loss 0.413016\n",
      "iteration 850: train_acc 0.810872, train_loss 0.421152, test_acc 0.811805, test_loss 0.412986\n",
      "iteration 851: train_acc 0.810934, train_loss 0.421122, test_acc 0.811805, test_loss 0.412956\n",
      "iteration 852: train_acc 0.810995, train_loss 0.421093, test_acc 0.811805, test_loss 0.412926\n",
      "iteration 853: train_acc 0.810934, train_loss 0.421063, test_acc 0.811805, test_loss 0.412896\n",
      "iteration 854: train_acc 0.810934, train_loss 0.421034, test_acc 0.811744, test_loss 0.412866\n",
      "iteration 855: train_acc 0.810934, train_loss 0.421005, test_acc 0.811867, test_loss 0.412836\n",
      "iteration 856: train_acc 0.810934, train_loss 0.420975, test_acc 0.811805, test_loss 0.412806\n",
      "iteration 857: train_acc 0.810995, train_loss 0.420946, test_acc 0.811805, test_loss 0.412777\n",
      "iteration 858: train_acc 0.810934, train_loss 0.420917, test_acc 0.811805, test_loss 0.412747\n",
      "iteration 859: train_acc 0.810934, train_loss 0.420888, test_acc 0.811928, test_loss 0.412717\n",
      "iteration 860: train_acc 0.810934, train_loss 0.420859, test_acc 0.811989, test_loss 0.412688\n",
      "iteration 861: train_acc 0.811118, train_loss 0.420829, test_acc 0.813279, test_loss 0.412658\n",
      "iteration 862: train_acc 0.811425, train_loss 0.420800, test_acc 0.813341, test_loss 0.412628\n",
      "iteration 863: train_acc 0.811364, train_loss 0.420771, test_acc 0.813341, test_loss 0.412599\n",
      "iteration 864: train_acc 0.811364, train_loss 0.420742, test_acc 0.813279, test_loss 0.412569\n",
      "iteration 865: train_acc 0.811302, train_loss 0.420713, test_acc 0.813279, test_loss 0.412540\n",
      "iteration 866: train_acc 0.811241, train_loss 0.420684, test_acc 0.813279, test_loss 0.412510\n",
      "iteration 867: train_acc 0.811241, train_loss 0.420655, test_acc 0.813279, test_loss 0.412481\n",
      "iteration 868: train_acc 0.811241, train_loss 0.420626, test_acc 0.813279, test_loss 0.412452\n",
      "iteration 869: train_acc 0.811241, train_loss 0.420598, test_acc 0.813279, test_loss 0.412422\n",
      "iteration 870: train_acc 0.811241, train_loss 0.420569, test_acc 0.813279, test_loss 0.412393\n",
      "iteration 871: train_acc 0.811241, train_loss 0.420540, test_acc 0.813341, test_loss 0.412364\n",
      "iteration 872: train_acc 0.811241, train_loss 0.420511, test_acc 0.813341, test_loss 0.412335\n",
      "iteration 873: train_acc 0.811241, train_loss 0.420483, test_acc 0.813341, test_loss 0.412305\n",
      "iteration 874: train_acc 0.811486, train_loss 0.420454, test_acc 0.813279, test_loss 0.412276\n",
      "iteration 875: train_acc 0.811732, train_loss 0.420425, test_acc 0.813709, test_loss 0.412247\n",
      "iteration 876: train_acc 0.811855, train_loss 0.420397, test_acc 0.813955, test_loss 0.412218\n",
      "iteration 877: train_acc 0.812039, train_loss 0.420368, test_acc 0.813893, test_loss 0.412189\n",
      "iteration 878: train_acc 0.812039, train_loss 0.420340, test_acc 0.813893, test_loss 0.412160\n",
      "iteration 879: train_acc 0.811978, train_loss 0.420311, test_acc 0.814016, test_loss 0.412131\n",
      "iteration 880: train_acc 0.811978, train_loss 0.420283, test_acc 0.813955, test_loss 0.412102\n",
      "iteration 881: train_acc 0.811916, train_loss 0.420254, test_acc 0.813955, test_loss 0.412073\n",
      "iteration 882: train_acc 0.811916, train_loss 0.420226, test_acc 0.813955, test_loss 0.412044\n",
      "iteration 883: train_acc 0.811855, train_loss 0.420197, test_acc 0.813955, test_loss 0.412015\n",
      "iteration 884: train_acc 0.811794, train_loss 0.420169, test_acc 0.813955, test_loss 0.411986\n",
      "iteration 885: train_acc 0.811794, train_loss 0.420141, test_acc 0.813955, test_loss 0.411958\n",
      "iteration 886: train_acc 0.811794, train_loss 0.420112, test_acc 0.814016, test_loss 0.411929\n",
      "iteration 887: train_acc 0.811978, train_loss 0.420084, test_acc 0.814016, test_loss 0.411900\n",
      "iteration 888: train_acc 0.811978, train_loss 0.420056, test_acc 0.814139, test_loss 0.411872\n",
      "iteration 889: train_acc 0.812101, train_loss 0.420028, test_acc 0.814139, test_loss 0.411843\n",
      "iteration 890: train_acc 0.812162, train_loss 0.420000, test_acc 0.814385, test_loss 0.411814\n",
      "iteration 891: train_acc 0.812408, train_loss 0.419972, test_acc 0.814569, test_loss 0.411786\n",
      "iteration 892: train_acc 0.812408, train_loss 0.419944, test_acc 0.814446, test_loss 0.411757\n",
      "iteration 893: train_acc 0.812469, train_loss 0.419916, test_acc 0.814508, test_loss 0.411729\n",
      "iteration 894: train_acc 0.812469, train_loss 0.419888, test_acc 0.814446, test_loss 0.411700\n",
      "iteration 895: train_acc 0.812469, train_loss 0.419860, test_acc 0.814569, test_loss 0.411672\n",
      "iteration 896: train_acc 0.812469, train_loss 0.419832, test_acc 0.814631, test_loss 0.411643\n",
      "iteration 897: train_acc 0.812531, train_loss 0.419804, test_acc 0.814631, test_loss 0.411615\n",
      "iteration 898: train_acc 0.812592, train_loss 0.419776, test_acc 0.814569, test_loss 0.411587\n",
      "iteration 899: train_acc 0.812654, train_loss 0.419748, test_acc 0.814569, test_loss 0.411558\n",
      "iteration 900: train_acc 0.812654, train_loss 0.419720, test_acc 0.814569, test_loss 0.411530\n",
      "iteration 901: train_acc 0.812592, train_loss 0.419693, test_acc 0.814508, test_loss 0.411502\n",
      "iteration 902: train_acc 0.812592, train_loss 0.419665, test_acc 0.814508, test_loss 0.411474\n",
      "iteration 903: train_acc 0.812592, train_loss 0.419637, test_acc 0.814508, test_loss 0.411445\n",
      "iteration 904: train_acc 0.812654, train_loss 0.419609, test_acc 0.814508, test_loss 0.411417\n",
      "iteration 905: train_acc 0.812715, train_loss 0.419582, test_acc 0.814753, test_loss 0.411389\n",
      "iteration 906: train_acc 0.812776, train_loss 0.419554, test_acc 0.814753, test_loss 0.411361\n",
      "iteration 907: train_acc 0.812776, train_loss 0.419527, test_acc 0.814753, test_loss 0.411333\n",
      "iteration 908: train_acc 0.812838, train_loss 0.419499, test_acc 0.814753, test_loss 0.411305\n",
      "iteration 909: train_acc 0.812899, train_loss 0.419472, test_acc 0.814753, test_loss 0.411277\n",
      "iteration 910: train_acc 0.812899, train_loss 0.419444, test_acc 0.814753, test_loss 0.411249\n",
      "iteration 911: train_acc 0.812899, train_loss 0.419417, test_acc 0.814753, test_loss 0.411221\n",
      "iteration 912: train_acc 0.812899, train_loss 0.419389, test_acc 0.814692, test_loss 0.411193\n",
      "iteration 913: train_acc 0.812899, train_loss 0.419362, test_acc 0.814753, test_loss 0.411166\n",
      "iteration 914: train_acc 0.812899, train_loss 0.419335, test_acc 0.814753, test_loss 0.411138\n",
      "iteration 915: train_acc 0.812899, train_loss 0.419307, test_acc 0.814692, test_loss 0.411110\n",
      "iteration 916: train_acc 0.812838, train_loss 0.419280, test_acc 0.814692, test_loss 0.411082\n",
      "iteration 917: train_acc 0.812776, train_loss 0.419253, test_acc 0.814815, test_loss 0.411055\n",
      "iteration 918: train_acc 0.812838, train_loss 0.419226, test_acc 0.814876, test_loss 0.411027\n",
      "iteration 919: train_acc 0.812961, train_loss 0.419198, test_acc 0.814999, test_loss 0.410999\n",
      "iteration 920: train_acc 0.812961, train_loss 0.419171, test_acc 0.815060, test_loss 0.410972\n",
      "iteration 921: train_acc 0.812899, train_loss 0.419144, test_acc 0.815060, test_loss 0.410944\n",
      "iteration 922: train_acc 0.812961, train_loss 0.419117, test_acc 0.815060, test_loss 0.410917\n",
      "iteration 923: train_acc 0.813084, train_loss 0.419090, test_acc 0.815122, test_loss 0.410889\n",
      "iteration 924: train_acc 0.812899, train_loss 0.419063, test_acc 0.815183, test_loss 0.410862\n",
      "iteration 925: train_acc 0.812961, train_loss 0.419036, test_acc 0.815122, test_loss 0.410834\n",
      "iteration 926: train_acc 0.812899, train_loss 0.419009, test_acc 0.815122, test_loss 0.410807\n",
      "iteration 927: train_acc 0.812899, train_loss 0.418982, test_acc 0.815122, test_loss 0.410779\n",
      "iteration 928: train_acc 0.812961, train_loss 0.418955, test_acc 0.815183, test_loss 0.410752\n",
      "iteration 929: train_acc 0.812961, train_loss 0.418928, test_acc 0.815183, test_loss 0.410725\n",
      "iteration 930: train_acc 0.812961, train_loss 0.418902, test_acc 0.815183, test_loss 0.410697\n",
      "iteration 931: train_acc 0.812961, train_loss 0.418875, test_acc 0.815183, test_loss 0.410670\n",
      "iteration 932: train_acc 0.812961, train_loss 0.418848, test_acc 0.815183, test_loss 0.410643\n",
      "iteration 933: train_acc 0.812899, train_loss 0.418821, test_acc 0.815306, test_loss 0.410616\n",
      "iteration 934: train_acc 0.812961, train_loss 0.418795, test_acc 0.815245, test_loss 0.410589\n",
      "iteration 935: train_acc 0.812961, train_loss 0.418768, test_acc 0.815798, test_loss 0.410562\n",
      "iteration 936: train_acc 0.812899, train_loss 0.418741, test_acc 0.815920, test_loss 0.410534\n",
      "iteration 937: train_acc 0.812961, train_loss 0.418715, test_acc 0.815920, test_loss 0.410507\n",
      "iteration 938: train_acc 0.812961, train_loss 0.418688, test_acc 0.815920, test_loss 0.410480\n",
      "iteration 939: train_acc 0.812961, train_loss 0.418662, test_acc 0.815920, test_loss 0.410453\n",
      "iteration 940: train_acc 0.812961, train_loss 0.418635, test_acc 0.815982, test_loss 0.410426\n",
      "iteration 941: train_acc 0.813145, train_loss 0.418609, test_acc 0.815982, test_loss 0.410400\n",
      "iteration 942: train_acc 0.813145, train_loss 0.418582, test_acc 0.816043, test_loss 0.410373\n",
      "iteration 943: train_acc 0.813206, train_loss 0.418556, test_acc 0.816043, test_loss 0.410346\n",
      "iteration 944: train_acc 0.813206, train_loss 0.418530, test_acc 0.816043, test_loss 0.410319\n",
      "iteration 945: train_acc 0.813206, train_loss 0.418503, test_acc 0.816043, test_loss 0.410292\n",
      "iteration 946: train_acc 0.813084, train_loss 0.418477, test_acc 0.816043, test_loss 0.410265\n",
      "iteration 947: train_acc 0.813268, train_loss 0.418451, test_acc 0.816043, test_loss 0.410239\n",
      "iteration 948: train_acc 0.813268, train_loss 0.418424, test_acc 0.816105, test_loss 0.410212\n",
      "iteration 949: train_acc 0.813329, train_loss 0.418398, test_acc 0.816166, test_loss 0.410185\n",
      "iteration 950: train_acc 0.813329, train_loss 0.418372, test_acc 0.816535, test_loss 0.410159\n",
      "iteration 951: train_acc 0.813452, train_loss 0.418346, test_acc 0.816535, test_loss 0.410132\n",
      "iteration 952: train_acc 0.813452, train_loss 0.418320, test_acc 0.816535, test_loss 0.410105\n",
      "iteration 953: train_acc 0.813329, train_loss 0.418294, test_acc 0.816535, test_loss 0.410079\n",
      "iteration 954: train_acc 0.813268, train_loss 0.418268, test_acc 0.816596, test_loss 0.410052\n",
      "iteration 955: train_acc 0.813268, train_loss 0.418242, test_acc 0.816596, test_loss 0.410026\n",
      "iteration 956: train_acc 0.813268, train_loss 0.418216, test_acc 0.816535, test_loss 0.409999\n",
      "iteration 957: train_acc 0.813329, train_loss 0.418190, test_acc 0.816535, test_loss 0.409973\n",
      "iteration 958: train_acc 0.813329, train_loss 0.418164, test_acc 0.816596, test_loss 0.409947\n",
      "iteration 959: train_acc 0.813391, train_loss 0.418138, test_acc 0.816657, test_loss 0.409920\n",
      "iteration 960: train_acc 0.813329, train_loss 0.418112, test_acc 0.816657, test_loss 0.409894\n",
      "iteration 961: train_acc 0.813391, train_loss 0.418086, test_acc 0.816719, test_loss 0.409868\n",
      "iteration 962: train_acc 0.813391, train_loss 0.418060, test_acc 0.816842, test_loss 0.409841\n",
      "iteration 963: train_acc 0.813391, train_loss 0.418034, test_acc 0.817026, test_loss 0.409815\n",
      "iteration 964: train_acc 0.813391, train_loss 0.418009, test_acc 0.817026, test_loss 0.409789\n",
      "iteration 965: train_acc 0.813329, train_loss 0.417983, test_acc 0.817149, test_loss 0.409763\n",
      "iteration 966: train_acc 0.813452, train_loss 0.417957, test_acc 0.817087, test_loss 0.409737\n",
      "iteration 967: train_acc 0.813575, train_loss 0.417932, test_acc 0.816965, test_loss 0.409711\n",
      "iteration 968: train_acc 0.813514, train_loss 0.417906, test_acc 0.817026, test_loss 0.409685\n",
      "iteration 969: train_acc 0.813514, train_loss 0.417880, test_acc 0.817026, test_loss 0.409658\n",
      "iteration 970: train_acc 0.813514, train_loss 0.417855, test_acc 0.817087, test_loss 0.409632\n",
      "iteration 971: train_acc 0.813514, train_loss 0.417829, test_acc 0.817087, test_loss 0.409606\n",
      "iteration 972: train_acc 0.813514, train_loss 0.417804, test_acc 0.817087, test_loss 0.409581\n",
      "iteration 973: train_acc 0.813514, train_loss 0.417778, test_acc 0.817087, test_loss 0.409555\n",
      "iteration 974: train_acc 0.813514, train_loss 0.417753, test_acc 0.817087, test_loss 0.409529\n",
      "iteration 975: train_acc 0.813514, train_loss 0.417727, test_acc 0.817149, test_loss 0.409503\n",
      "iteration 976: train_acc 0.813514, train_loss 0.417702, test_acc 0.817149, test_loss 0.409477\n",
      "iteration 977: train_acc 0.813514, train_loss 0.417677, test_acc 0.817210, test_loss 0.409451\n",
      "iteration 978: train_acc 0.813514, train_loss 0.417651, test_acc 0.817272, test_loss 0.409425\n",
      "iteration 979: train_acc 0.813514, train_loss 0.417626, test_acc 0.817333, test_loss 0.409400\n",
      "iteration 980: train_acc 0.813636, train_loss 0.417601, test_acc 0.817333, test_loss 0.409374\n",
      "iteration 981: train_acc 0.813636, train_loss 0.417576, test_acc 0.817272, test_loss 0.409348\n",
      "iteration 982: train_acc 0.813759, train_loss 0.417550, test_acc 0.817272, test_loss 0.409323\n",
      "iteration 983: train_acc 0.813759, train_loss 0.417525, test_acc 0.817272, test_loss 0.409297\n",
      "iteration 984: train_acc 0.813821, train_loss 0.417500, test_acc 0.817210, test_loss 0.409272\n",
      "iteration 985: train_acc 0.813882, train_loss 0.417475, test_acc 0.817210, test_loss 0.409246\n",
      "iteration 986: train_acc 0.813882, train_loss 0.417450, test_acc 0.817210, test_loss 0.409220\n",
      "iteration 987: train_acc 0.813943, train_loss 0.417425, test_acc 0.817149, test_loss 0.409195\n",
      "iteration 988: train_acc 0.813943, train_loss 0.417400, test_acc 0.817087, test_loss 0.409169\n",
      "iteration 989: train_acc 0.813882, train_loss 0.417375, test_acc 0.817149, test_loss 0.409144\n",
      "iteration 990: train_acc 0.813759, train_loss 0.417350, test_acc 0.817210, test_loss 0.409119\n",
      "iteration 991: train_acc 0.813759, train_loss 0.417325, test_acc 0.817210, test_loss 0.409093\n",
      "iteration 992: train_acc 0.813759, train_loss 0.417300, test_acc 0.817210, test_loss 0.409068\n",
      "iteration 993: train_acc 0.813759, train_loss 0.417275, test_acc 0.817456, test_loss 0.409043\n",
      "iteration 994: train_acc 0.813759, train_loss 0.417250, test_acc 0.817517, test_loss 0.409017\n",
      "iteration 995: train_acc 0.813759, train_loss 0.417226, test_acc 0.817517, test_loss 0.408992\n",
      "iteration 996: train_acc 0.813759, train_loss 0.417201, test_acc 0.817517, test_loss 0.408967\n",
      "iteration 997: train_acc 0.813759, train_loss 0.417176, test_acc 0.817579, test_loss 0.408942\n",
      "iteration 998: train_acc 0.813821, train_loss 0.417151, test_acc 0.817702, test_loss 0.408917\n",
      "iteration 999: train_acc 0.813882, train_loss 0.417127, test_acc 0.817702, test_loss 0.408891\n",
      "iteration 1000: train_acc 0.813821, train_loss 0.417102, test_acc 0.817702, test_loss 0.408866\n"
     ]
    }
   ],
   "source": [
    "for i in range(training_epoch):\n",
    "    \"\"\"\n",
    "    This is the main training loop.\n",
    "    You need to first run a forward pass, get the predicted probability, \n",
    "    put it into the loss function, calculate the loss and do a back pass.\n",
    "    Then update the network.\n",
    "    Calculate the test loss and the current accuracy on both the train and test sets.\n",
    "    Save these to a list for plotting later.\n",
    "    Experiment to find a good learning rate.\n",
    "    \"\"\"\n",
    "\n",
    "    p = net.forward_pass(X_train)\n",
    "    \n",
    "    predict = (p > 0.5)\n",
    "\n",
    "    train_acc = accuracy_score(y_train, predict)\n",
    "    \n",
    "    train_loss = bce.forward_pass(p, y_train)\n",
    "    \n",
    "    train_acc_list[i] = train_acc\n",
    "    train_loss_list[i] = train_loss\n",
    "\n",
    "    grad = bce.backward_pass()\n",
    "    \n",
    "    net.backward_pass(grad)\n",
    "    \n",
    "    net.update(0.1)\n",
    "    \n",
    "    p = net.forward_pass(X_test)\n",
    "    \n",
    "    predict = (p > 0.5)\n",
    "\n",
    "    test_acc = accuracy_score(y_test, predict)\n",
    "    test_loss = bce.forward_pass(p, y_test)\n",
    "    \n",
    "    test_acc_list[i] = test_acc\n",
    "    test_loss_list[i] = test_loss\n",
    "\n",
    "    print(\"iteration %d: train_acc %f, train_loss %f, test_acc %f, test_loss %f\" %(i+1, train_acc, train_loss, test_acc, test_loss))"
   ]
  },
  {
   "cell_type": "markdown",
   "metadata": {},
   "source": [
    "Plots of training accuracy curve against testing accuracy curve, and training loss curve against testing loss curve."
   ]
  },
  {
   "cell_type": "code",
   "execution_count": 12,
   "metadata": {
    "ExecuteTime": {
     "end_time": "2019-03-20T08:30:13.462006Z",
     "start_time": "2019-03-20T08:30:13.341416Z"
    }
   },
   "outputs": [
    {
     "data": {
      "image/png": "[encoded data removed]",
      "text/plain": [
       "<Figure size 432x288 with 1 Axes>"
      ]
     },
     "metadata": {
      "needs_background": "light"
     },
     "output_type": "display_data"
    }
   ],
   "source": [
    "plt.title(\"Accuracy over epochs\")\n",
    "plt.plot(train_acc_list, label=\"Train\")\n",
    "plt.plot(test_acc_list, label=\"Test\")\n",
    "plt.xlabel(\"Epochs\")\n",
    "plt.ylabel(\"Accuracy\")\n",
    "plt.legend()\n",
    "plt.show()"
   ]
  },
  {
   "cell_type": "code",
   "execution_count": 13,
   "metadata": {
    "ExecuteTime": {
     "end_time": "2019-03-20T08:30:13.556594Z",
     "start_time": "2019-03-20T08:30:13.464025Z"
    }
   },
   "outputs": [
    {
     "data": {
      "image/png": "[encoded data removed]",
      "text/plain": [
       "<Figure size 432x288 with 1 Axes>"
      ]
     },
     "metadata": {
      "needs_background": "light"
     },
     "output_type": "display_data"
    }
   ],
   "source": [
    "plt.title(\"Loss over epochs\")\n",
    "plt.plot(train_loss_list, label=\"Train\")\n",
    "plt.plot(test_loss_list, label=\"Test\")\n",
    "plt.xlabel(\"Epochs\")\n",
    "plt.ylabel(\"Loss\")\n",
    "plt.legend()\n",
    "plt.show()"
   ]
  },
  {
   "cell_type": "markdown",
   "metadata": {},
   "source": [
    "Here is an super cool website:https://playground.tensorflow.org/.\n",
    "Have fun in there."
   ]
  },
  {
   "cell_type": "code",
   "execution_count": null,
   "metadata": {},
   "outputs": [],
   "source": []
  },
  {
   "cell_type": "markdown",
   "metadata": {},
   "source": [
    "# AutoGrad in Pytorch"
   ]
  },
  {
   "cell_type": "markdown",
   "metadata": {},
   "source": [
    "### Question: \n",
    "\n"
   ]
  },
  {
   "cell_type": "markdown",
   "metadata": {},
   "source": [
    "#### 1. What is Autodiff? "
   ]
  },
  {
   "cell_type": "markdown",
   "metadata": {},
   "source": [
    "Autograd is a reverse automatic differentiation system. Conceptually, autograd records a graph recording all of the operations that created the data as you execute operations, giving you a directed acyclic graph whose leaves are the input tensors and roots are the output tensors.\n",
    "\n",
    "**Easy-to-understand Analogy:**\n",
    "\n",
    "Imagine you are a baker, and you have a recipe for a cake that involves several ingredients, such as flour, sugar, eggs, and butter. You want to know how much each ingredient contributes to the final taste of the cake, so you decide to experiment by changing the amount of each ingredient and tasting the cake afterwards.\n",
    "\n",
    "To keep track of the changes you make to the recipe and their effect on the taste of the cake, you write down each step and its corresponding result in a notebook. For example, you might write \"added 100g of sugar, cake tasted sweeter\" or \"reduced flour by 50g, cake tasted less dense\".\n",
    "\n",
    "Autograd works in a similar way, by keeping track of the operations performed on tensors (which are like the ingredients in our recipe) and their corresponding gradients (which are like the taste of the cake). When a tensor is created with requires_grad=True, autograd records the operations performed on that tensor and builds a computational graph that allows it to compute the gradients of the output with respect to the input tensors."
   ]
  },
  {
   "cell_type": "markdown",
   "metadata": {},
   "source": [
    "**For example, suppose we have the following code:**"
   ]
  },
  {
   "cell_type": "code",
   "execution_count": null,
   "metadata": {},
   "outputs": [],
   "source": [
    "import torch\n",
    "\n",
    "x = torch.tensor([3.0], requires_grad=True)\n",
    "y = x**2 + 2*x + 1\n",
    "y.backward()\n",
    "print(x.grad)"
   ]
  },
  {
   "cell_type": "markdown",
   "metadata": {},
   "source": [
    "In this code, we create a tensor x with the value of 3.0 and set requires_grad=True to enable autograd to compute the gradients. We define y as x**2 + 2*x + 1, which is a function of x. We then call y.backward() to compute the gradients of y with respect to x, which are stored in x.grad. Finally, we print the value of x.grad, which should be equal to 8.0.\n",
    "\n",
    "In this example, autograd records the operations performed on x, which are squaring (x**2), multiplying by 2 (2*x), and adding 1 (+1). It then computes the gradients of y with respect to x using the chain rule, which involves multiplying the gradients of each operation in reverse order. The resulting gradient of y with respect to x is 2x + 2, which evaluates to 8 when x=3."
   ]
  },
  {
   "cell_type": "markdown",
   "metadata": {},
   "source": [
    "\n",
    "#### 2. Which is more efficient, auto differentiation or symbolic differentiation? And why?"
   ]
  },
  {
   "cell_type": "markdown",
   "metadata": {},
   "source": [
    "Autodiff is more efficient. \n",
    "In training a model, we want to minimize the loss. In the idealized case\n",
    "of a perfect model, that means adjusting its learning weights - that is,\n",
    "the adjustable parameters of the function - such that loss is zero for\n",
    "all inputs. In the real world, it means an iterative process of nudging\n",
    "the learning weights until we see that we get a tolerable loss for a\n",
    "wide variety of inputs.\n",
    "\n",
    "How do we decide how far and in which direction to nudge the weights? We\n",
    "want to *minimize* the loss, which means making its first derivative\n",
    "with respect to the input equal to 0:\n",
    "$\\frac{\\partial L}{\\partial x} = 0$.\n",
    "\n",
    "Recall, though, that the loss is not *directly* derived from the input,\n",
    "but a function of the model’s output (which is a function of the input\n",
    "directly), $\\frac{\\partial L}{\\partial x}$ =\n",
    "$\\frac{\\partial {L({\\vec y})}}{\\partial x}$. By the chain rule of\n",
    "differential calculus, we have\n",
    "$\\frac{\\partial {L({\\vec y})}}{\\partial x}$ =\n",
    "$\\frac{\\partial L}{\\partial y}\\frac{\\partial y}{\\partial x}$ =\n",
    "$\\frac{\\partial L}{\\partial y}\\frac{\\partial M(x)}{\\partial x}$.\n",
    "\n",
    "$\\frac{\\partial M(x)}{\\partial x}$ is where things get complex.\n",
    "The partial derivatives of the model’s outputs with respect to its\n",
    "inputs, if we were to expand the expression using the chain rule again,\n",
    "would involve many local partial derivatives over every multiplied\n",
    "learning weight, every activation function, and every other mathematical\n",
    "transformation in the model. The full expression for each such partial\n",
    "derivative is the sum of the products of the local gradient of *every\n",
    "possible path* through the computation graph that ends with the variable\n",
    "whose gradient we are trying to measure.\n",
    "\n",
    "In particular, the gradients over the learning weights are of interest\n",
    "to us - they tell us *what direction to change each weight* to get the\n",
    "loss function closer to zero.\n",
    "\n",
    "Since the number of such local derivatives (each corresponding to a\n",
    "separate path through the model’s computation graph) will tend to go up\n",
    "exponentially with the depth of a neural network, so does the complexity\n",
    "in computing them. This is where autograd comes in: It tracks the\n",
    "history of every computation. Every computed tensor in your PyTorch\n",
    "model carries a history of its input tensors and the function used to\n",
    "create it. Combined with the fact that PyTorch functions meant to act on\n",
    "tensors each have a built-in implementation for computing their own\n",
    "derivatives, this greatly speeds the computation of the local\n",
    "derivatives needed for learning."
   ]
  },
  {
   "cell_type": "markdown",
   "metadata": {},
   "source": [
    "\n",
    "## 1. A Simple Example\n",
    "\n",
    "That was a lot of theory - but what does it look like to use autograd in\n",
    "practice?\n",
    "\n",
    "Let’s start with a straightforward example. First, we’ll do some imports\n",
    "to let us graph our results:\n",
    "\n",
    "\n"
   ]
  },
  {
   "cell_type": "code",
   "execution_count": null,
   "metadata": {},
   "outputs": [],
   "source": [
    "# %matplotlib inline\n",
    "\n",
    "import torch\n",
    "\n",
    "import matplotlib.pyplot as plt\n",
    "import matplotlib.ticker as ticker\n",
    "import math"
   ]
  },
  {
   "cell_type": "markdown",
   "metadata": {},
   "source": [
    "Next, we’ll create an input tensor full of evenly spaced values on the\n",
    "interval $[0, 2{\\pi}]$, and specify ``requires_grad=True``. (Like\n",
    "most functions that create tensors, ``torch.linspace()`` accepts an\n",
    "optional ``requires_grad`` option.) Setting this flag means that in\n",
    "every computation that follows, autograd will be accumulating the\n",
    "history of the computation in the output tensors of that computation.\n",
    "\n",
    "\n"
   ]
  },
  {
   "cell_type": "code",
   "execution_count": null,
   "metadata": {},
   "outputs": [
    {
     "name": "stdout",
     "output_type": "stream",
     "text": [
      "tensor([0.0000, 0.2618, 0.5236, 0.7854, 1.0472, 1.3090, 1.5708, 1.8326, 2.0944,\n",
      "        2.3562, 2.6180, 2.8798, 3.1416, 3.4034, 3.6652, 3.9270, 4.1888, 4.4506,\n",
      "        4.7124, 4.9742, 5.2360, 5.4978, 5.7596, 6.0214, 6.2832],\n",
      "       requires_grad=True)\n"
     ]
    }
   ],
   "source": [
    "a = torch.linspace(0., 2. * math.pi, steps=25, requires_grad=True)\n",
    "print(a)"
   ]
  },
  {
   "cell_type": "markdown",
   "metadata": {},
   "source": [
    "Next, we’ll perform a computation, and plot its output in terms of its\n",
    "inputs:\n",
    "\n",
    "\n"
   ]
  },
  {
   "cell_type": "code",
   "execution_count": null,
   "metadata": {},
   "outputs": [
    {
     "data": {
      "text/plain": [
       "[<matplotlib.lines.Line2D at 0x7f86a2431670>]"
      ]
     },
     "metadata": {},
     "output_type": "display_data"
    },
    {
     "data": {
      "image/png": "[encoded data removed]",
      "text/plain": [
       "<Figure size 432x288 with 1 Axes>"
      ]
     },
     "metadata": {},
     "output_type": "display_data"
    }
   ],
   "source": [
    "b = torch.sin(a)\n",
    "plt.plot(a.detach(), b.detach())"
   ]
  },
  {
   "cell_type": "markdown",
   "metadata": {},
   "source": [
    "Let’s have a closer look at the tensor ``b``. When we print it, we see\n",
    "an indicator that it is tracking its computation history:\n",
    "\n",
    "\n"
   ]
  },
  {
   "cell_type": "code",
   "execution_count": null,
   "metadata": {},
   "outputs": [
    {
     "name": "stdout",
     "output_type": "stream",
     "text": [
      "tensor([ 0.0000e+00,  2.5882e-01,  5.0000e-01,  7.0711e-01,  8.6603e-01,\n",
      "         9.6593e-01,  1.0000e+00,  9.6593e-01,  8.6603e-01,  7.0711e-01,\n",
      "         5.0000e-01,  2.5882e-01, -8.7423e-08, -2.5882e-01, -5.0000e-01,\n",
      "        -7.0711e-01, -8.6603e-01, -9.6593e-01, -1.0000e+00, -9.6593e-01,\n",
      "        -8.6603e-01, -7.0711e-01, -5.0000e-01, -2.5882e-01,  1.7485e-07],\n",
      "       grad_fn=<SinBackward>)\n"
     ]
    }
   ],
   "source": [
    "print(b)"
   ]
  },
  {
   "cell_type": "markdown",
   "metadata": {},
   "source": [
    "This ``grad_fn`` gives us a hint that when we execute the\n",
    "backpropagation step and compute gradients, we’ll need to compute the\n",
    "derivative of $sin(x)$ for all this tensor’s inputs.\n",
    "\n",
    "Let’s perform some more computations:\n",
    "\n",
    "\n"
   ]
  },
  {
   "cell_type": "code",
   "execution_count": null,
   "metadata": {},
   "outputs": [
    {
     "name": "stdout",
     "output_type": "stream",
     "text": [
      "tensor([ 0.0000e+00,  5.1764e-01,  1.0000e+00,  1.4142e+00,  1.7321e+00,\n",
      "         1.9319e+00,  2.0000e+00,  1.9319e+00,  1.7321e+00,  1.4142e+00,\n",
      "         1.0000e+00,  5.1764e-01, -1.7485e-07, -5.1764e-01, -1.0000e+00,\n",
      "        -1.4142e+00, -1.7321e+00, -1.9319e+00, -2.0000e+00, -1.9319e+00,\n",
      "        -1.7321e+00, -1.4142e+00, -1.0000e+00, -5.1764e-01,  3.4969e-07],\n",
      "       grad_fn=<MulBackward0>)\n",
      "tensor([ 1.0000e+00,  1.5176e+00,  2.0000e+00,  2.4142e+00,  2.7321e+00,\n",
      "         2.9319e+00,  3.0000e+00,  2.9319e+00,  2.7321e+00,  2.4142e+00,\n",
      "         2.0000e+00,  1.5176e+00,  1.0000e+00,  4.8236e-01, -3.5763e-07,\n",
      "        -4.1421e-01, -7.3205e-01, -9.3185e-01, -1.0000e+00, -9.3185e-01,\n",
      "        -7.3205e-01, -4.1421e-01,  4.7684e-07,  4.8236e-01,  1.0000e+00],\n",
      "       grad_fn=<AddBackward0>)\n"
     ]
    }
   ],
   "source": [
    "c = 2 * b\n",
    "print(c)\n",
    "\n",
    "d = c + 1\n",
    "print(d)"
   ]
  },
  {
   "cell_type": "markdown",
   "metadata": {},
   "source": [
    "Finally, let’s compute a single-element output. When you call\n",
    "``.backward()`` on a tensor with no arguments, it expects the calling\n",
    "tensor to contain only a single element, as is the case when computing a\n",
    "loss function.\n",
    "\n",
    "\n"
   ]
  },
  {
   "cell_type": "code",
   "execution_count": null,
   "metadata": {},
   "outputs": [
    {
     "name": "stdout",
     "output_type": "stream",
     "text": [
      "tensor(25., grad_fn=<SumBackward0>)\n"
     ]
    }
   ],
   "source": [
    "out = d.sum()\n",
    "print(out)"
   ]
  },
  {
   "cell_type": "markdown",
   "metadata": {},
   "source": [
    "Each ``grad_fn`` stored with our tensors allows you to walk the\n",
    "computation all the way back to its inputs with its ``next_functions``\n",
    "property. We can see below that drilling down on this property on ``d``\n",
    "shows us the gradient functions for all the prior tensors. Note that\n",
    "``a.grad_fn`` is reported as ``None``, indicating that this was an input\n",
    "to the function with no history of its own.\n",
    "\n",
    "\n"
   ]
  },
  {
   "cell_type": "code",
   "execution_count": null,
   "metadata": {},
   "outputs": [
    {
     "name": "stdout",
     "output_type": "stream",
     "text": [
      "d:\n",
      "<AddBackward0 object at 0x7f86a27861f0>\n",
      "((<MulBackward0 object at 0x7f86a2786520>, 0), (None, 0))\n",
      "((<SinBackward object at 0x7f86a27861f0>, 0), (None, 0))\n",
      "((<AccumulateGrad object at 0x7f86a27865e0>, 0),)\n",
      "()\n",
      "\n",
      "c:\n",
      "<MulBackward0 object at 0x7f86a27867f0>\n",
      "\n",
      "b:\n",
      "<SinBackward object at 0x7f86a27867f0>\n",
      "\n",
      "a:\n",
      "None\n"
     ]
    }
   ],
   "source": [
    "print('d:')\n",
    "print(d.grad_fn)\n",
    "print(d.grad_fn.next_functions)\n",
    "print(d.grad_fn.next_functions[0][0].next_functions)\n",
    "print(d.grad_fn.next_functions[0][0].next_functions[0][0].next_functions)\n",
    "print(d.grad_fn.next_functions[0][0].next_functions[0][0].next_functions[0][0].next_functions)\n",
    "print('\\nc:')\n",
    "print(c.grad_fn)\n",
    "print('\\nb:')\n",
    "print(b.grad_fn)\n",
    "print('\\na:')\n",
    "print(a.grad_fn)"
   ]
  },
  {
   "cell_type": "markdown",
   "metadata": {},
   "source": [
    "With all this machinery in place, how do we get derivatives out? You\n",
    "call the ``backward()`` method on the output, and check the input’s\n",
    "``grad`` property to inspect the gradients:\n",
    "\n",
    "\n"
   ]
  },
  {
   "cell_type": "code",
   "execution_count": null,
   "metadata": {},
   "outputs": [
    {
     "name": "stdout",
     "output_type": "stream",
     "text": [
      "tensor([ 2.0000e+00,  1.9319e+00,  1.7321e+00,  1.4142e+00,  1.0000e+00,\n",
      "         5.1764e-01, -8.7423e-08, -5.1764e-01, -1.0000e+00, -1.4142e+00,\n",
      "        -1.7321e+00, -1.9319e+00, -2.0000e+00, -1.9319e+00, -1.7321e+00,\n",
      "        -1.4142e+00, -1.0000e+00, -5.1764e-01,  2.3850e-08,  5.1764e-01,\n",
      "         1.0000e+00,  1.4142e+00,  1.7321e+00,  1.9319e+00,  2.0000e+00])\n"
     ]
    },
    {
     "data": {
      "text/plain": [
       "[<matplotlib.lines.Line2D at 0x7f86a27ada90>]"
      ]
     },
     "metadata": {},
     "output_type": "display_data"
    },
    {
     "data": {
      "image/png": "[encoded data removed]",
      "text/plain": [
       "<Figure size 432x288 with 1 Axes>"
      ]
     },
     "metadata": {},
     "output_type": "display_data"
    }
   ],
   "source": [
    "out.backward()\n",
    "print(a.grad)\n",
    "plt.plot(a.detach(), a.grad.detach())"
   ]
  },
  {
   "cell_type": "markdown",
   "metadata": {},
   "source": [
    "Recall the computation steps we took to get here:\n",
    "\n",
    "::\n",
    "\n",
    "   a = torch.linspace(0., 2. * math.pi, steps=25, requires_grad=True)\n",
    "   b = torch.sin(a)\n",
    "   c = 2 * b\n",
    "   d = c + 1\n",
    "   out = d.sum()\n",
    "\n",
    "Adding a constant, as we did to compute ``d``, does not change the\n",
    "derivative. That leaves $c = 2 * b = 2 * sin(a)$, the derivative\n",
    "of which should be $2 * cos(a)$. Looking at the graph above,\n",
    "that’s just what we see.\n",
    "\n",
    "Be aware that only *leaf nodes* of the computation have their gradients\n",
    "computed. If you tried, for example, ``print(c.grad)`` you’d get back\n",
    "``None``. In this simple example, only the input is a leaf node, so only\n",
    "it has gradients computed.\n",
    "\n",
    "## 2. Autograd in Training\n",
    "\n",
    "We’ve had a brief look at how autograd works, but how does it look when\n",
    "it’s used for its intended purpose? Let’s define a small model and\n",
    "examine how it changes after a single training batch. First, define a\n",
    "few constants, our model, and some stand-ins for inputs and outputs:\n",
    "\n",
    "\n"
   ]
  },
  {
   "cell_type": "code",
   "execution_count": null,
   "metadata": {},
   "outputs": [],
   "source": [
    "BATCH_SIZE = 16\n",
    "DIM_IN = 1000\n",
    "HIDDEN_SIZE = 100\n",
    "DIM_OUT = 10\n",
    "\n",
    "class TinyModel(torch.nn.Module):\n",
    "\n",
    "    def __init__(self):\n",
    "        super(TinyModel, self).__init__()\n",
    "        \n",
    "        self.layer1 = torch.nn.Linear(1000, 100)\n",
    "        self.relu = torch.nn.ReLU()\n",
    "        self.layer2 = torch.nn.Linear(100, 10)\n",
    "    \n",
    "    def forward(self, x):\n",
    "        x = self.layer1(x)\n",
    "        x = self.relu(x)\n",
    "        x = self.layer2(x)\n",
    "        return x\n",
    "    \n",
    "some_input = torch.randn(BATCH_SIZE, DIM_IN, requires_grad=False)\n",
    "ideal_output = torch.randn(BATCH_SIZE, DIM_OUT, requires_grad=False)\n",
    "\n",
    "model = TinyModel()"
   ]
  },
  {
   "cell_type": "markdown",
   "metadata": {},
   "source": [
    "One thing you might notice is that we never specify\n",
    "``requires_grad=True`` for the model’s layers. Within a subclass of\n",
    "``torch.nn.Module``, it’s assumed that we want to track gradients on the\n",
    "layers’ weights for learning.\n",
    "\n",
    "If we look at the layers of the model, we can examine the values of the\n",
    "weights, and verify that no gradients have been computed yet:\n",
    "\n",
    "\n"
   ]
  },
  {
   "cell_type": "code",
   "execution_count": null,
   "metadata": {},
   "outputs": [
    {
     "name": "stdout",
     "output_type": "stream",
     "text": [
      "tensor([ 0.0405,  0.0517,  0.0298, -0.0291,  0.0160, -0.0314,  0.0809,  0.0138,\n",
      "         0.0822,  0.0788], grad_fn=<SliceBackward>)\n",
      "None\n"
     ]
    }
   ],
   "source": [
    "print(model.layer2.weight[0][0:10]) # just a small slice\n",
    "print(model.layer2.weight.grad)"
   ]
  },
  {
   "cell_type": "markdown",
   "metadata": {},
   "source": [
    "Let’s see how this changes when we run through one training batch. For a\n",
    "loss function, we’ll just use the square of the Euclidean distance\n",
    "between our ``prediction`` and the ``ideal_output``, and we’ll use a\n",
    "basic stochastic gradient descent optimizer.\n",
    "\n",
    "\n"
   ]
  },
  {
   "cell_type": "code",
   "execution_count": null,
   "metadata": {},
   "outputs": [
    {
     "name": "stdout",
     "output_type": "stream",
     "text": [
      "tensor(178.6028, grad_fn=<SumBackward0>)\n"
     ]
    }
   ],
   "source": [
    "optimizer = torch.optim.SGD(model.parameters(), lr=0.001)\n",
    "\n",
    "prediction = model(some_input)\n",
    "\n",
    "loss = (ideal_output - prediction).pow(2).sum()\n",
    "print(loss)"
   ]
  },
  {
   "cell_type": "markdown",
   "metadata": {},
   "source": [
    "Now, let’s call ``loss.backward()`` and see what happens:\n",
    "\n",
    "\n"
   ]
  },
  {
   "cell_type": "code",
   "execution_count": null,
   "metadata": {},
   "outputs": [
    {
     "name": "stdout",
     "output_type": "stream",
     "text": [
      "tensor([ 0.0405,  0.0517,  0.0298, -0.0291,  0.0160, -0.0314,  0.0809,  0.0138,\n",
      "         0.0822,  0.0788], grad_fn=<SliceBackward>)\n",
      "tensor([ 3.6615,  1.1695,  6.9167,  0.2765, -4.1262,  0.2296,  2.6350,  6.8546,\n",
      "         8.7117,  3.2128])\n"
     ]
    }
   ],
   "source": [
    "loss.backward()\n",
    "print(model.layer2.weight[0][0:10])\n",
    "print(model.layer2.weight.grad[0][0:10])"
   ]
  },
  {
   "cell_type": "markdown",
   "metadata": {},
   "source": [
    "We can see that the gradients have been computed for each learning\n",
    "weight, but the weights remain unchanged, because we haven’t run the\n",
    "optimizer yet. The optimizer is responsible for updating model weights\n",
    "based on the computed gradients.\n",
    "\n",
    "\n"
   ]
  },
  {
   "cell_type": "code",
   "execution_count": null,
   "metadata": {},
   "outputs": [
    {
     "name": "stdout",
     "output_type": "stream",
     "text": [
      "tensor([ 0.0368,  0.0505,  0.0229, -0.0294,  0.0202, -0.0317,  0.0783,  0.0070,\n",
      "         0.0735,  0.0756], grad_fn=<SliceBackward>)\n",
      "tensor([ 3.6615,  1.1695,  6.9167,  0.2765, -4.1262,  0.2296,  2.6350,  6.8546,\n",
      "         8.7117,  3.2128])\n"
     ]
    }
   ],
   "source": [
    "optimizer.step()\n",
    "print(model.layer2.weight[0][0:10])\n",
    "print(model.layer2.weight.grad[0][0:10])"
   ]
  },
  {
   "cell_type": "markdown",
   "metadata": {},
   "source": [
    "You should see that ``layer2``\\ ’s weights have changed.\n",
    "\n",
    "One important thing about the process: After calling\n",
    "``optimizer.step()``, you need to call ``optimizer.zero_grad()``, or\n",
    "else every time you run ``loss.backward()``, the gradients on the\n",
    "learning weights will accumulate:\n",
    "\n",
    "\n"
   ]
  },
  {
   "cell_type": "code",
   "execution_count": null,
   "metadata": {},
   "outputs": [
    {
     "name": "stdout",
     "output_type": "stream",
     "text": [
      "tensor([ 3.6615,  1.1695,  6.9167,  0.2765, -4.1262,  0.2296,  2.6350,  6.8546,\n",
      "         8.7117,  3.2128])\n",
      "tensor([ 25.3625,  16.5202,  18.0125,   4.7924, -23.3872,   2.7822,  -2.8591,\n",
      "         18.3361,  17.5841,   4.7051])\n",
      "tensor([0., 0., 0., 0., 0., 0., 0., 0., 0., 0.])\n"
     ]
    }
   ],
   "source": [
    "print(model.layer2.weight.grad[0][0:10])\n",
    "\n",
    "for i in range(0, 5):\n",
    "    prediction = model(some_input)\n",
    "    loss = (ideal_output - prediction).pow(2).sum()\n",
    "    loss.backward()\n",
    "    \n",
    "print(model.layer2.weight.grad[0][0:10])\n",
    "\n",
    "optimizer.zero_grad(set_to_none=False)\n",
    "\n",
    "print(model.layer2.weight.grad[0][0:10])"
   ]
  },
  {
   "cell_type": "markdown",
   "metadata": {},
   "source": [
    "After running the cell above, you should see that after running\n",
    "``loss.backward()`` multiple times, the magnitudes of most of the\n",
    "gradients will be much larger. Failing to zero the gradients before\n",
    "running your next training batch will cause the gradients to blow up in\n",
    "this manner, causing incorrect and unpredictable learning results.\n"
   ]
  },
  {
   "cell_type": "markdown",
   "metadata": {},
   "source": [
    "\n",
    "## 3. Advanced Topic: More Autograd Detail and the High-Level API\n",
    "\n",
    "If you have a function with an n-dimensional input and m-dimensional\n",
    "output, $\\vec{y}=f(\\vec{x})$, the complete gradient is a matrix of\n",
    "the derivative of every output with respect to every input, called the\n",
    "*Jacobian:*\n",
    "\n",
    "\\begin{align}J\n",
    "     =\n",
    "     \\left(\\begin{array}{ccc}\n",
    "     \\frac{\\partial y_{1}}{\\partial x_{1}} & \\cdots & \\frac{\\partial y_{1}}{\\partial x_{n}}\\\\\n",
    "     \\vdots & \\ddots & \\vdots\\\\\n",
    "     \\frac{\\partial y_{m}}{\\partial x_{1}} & \\cdots & \\frac{\\partial y_{m}}{\\partial x_{n}}\n",
    "     \\end{array}\\right)\\end{align}\n",
    "\n",
    "If you have a second function, $l=g\\left(\\vec{y}\\right)$ that\n",
    "takes m-dimensional input (that is, the same dimensionality as the\n",
    "output above), and returns a scalar output, you can express its\n",
    "gradients with respect to $\\vec{y}$ as a column vector,\n",
    "$v=\\left(\\begin{array}{ccc}\\frac{\\partial l}{\\partial y_{1}} & \\cdots & \\frac{\\partial l}{\\partial y_{m}}\\end{array}\\right)^{T}$\n",
    "- which is really just a one-column Jacobian.\n",
    "\n",
    "More concretely, imagine the first function as your PyTorch model (with\n",
    "potentially many inputs and many outputs) and the second function as a\n",
    "loss function (with the model’s output as input, and the loss value as\n",
    "the scalar output).\n",
    "\n",
    "If we multiply the first function’s Jacobian by the gradient of the\n",
    "second function, and apply the chain rule, we get:\n",
    "\n",
    "$$\n",
    "\\begin{align}\n",
    "J^{T}\\cdot v &= \\left(\\begin{array}{ccc}\n",
    "   \\frac{\\partial y_{1}}{\\partial x_{1}} & \\cdots & \\frac{\\partial y_{m}}{\\partial x_{1}}\\\\\n",
    "   \\vdots & \\ddots & \\vdots\\\\\n",
    "   \\frac{\\partial y_{1}}{\\partial x_{n}} & \\cdots & \\frac{\\partial y_{m}}{\\partial x_{n}}\n",
    "   \\end{array}\\right) \\left(\\begin{array}{c}\n",
    "   \\frac{\\partial l}{\\partial y_{1}}\\\\\n",
    "   \\vdots\\\\\n",
    "   \\frac{\\partial l}{\\partial y_{m}}\n",
    "   \\end{array}\\right)\\\\\n",
    "   &= \\left(\\begin{array}{c}\n",
    "   \\frac{\\partial l}{\\partial x_{1}}\\\\\n",
    "   \\vdots\\\\\n",
    "   \\frac{\\partial l}{\\partial x_{n}}\n",
    "   \\end{array}\\right)\n",
    "\\end{align}\n",
    "$$\n",
    "\n",
    "Note: You could also use the equivalent operation $v^{T}\\cdot J$,\n",
    "and get back a row vector.\n",
    "\n",
    "The resulting column vector is the *gradient of the second function with\n",
    "respect to the inputs of the first* - or in the case of our model and\n",
    "loss function, the gradient of the loss with respect to the model\n",
    "inputs.\n",
    "\n",
    "**``torch.autograd`` is an engine for computing these products.** This\n",
    "is how we accumulate the gradients over the learning weights during the\n",
    "backward pass.\n",
    "\n",
    "For this reason, the ``backward()`` call can *also* take an optional\n",
    "vector input. This vector represents a set of gradients over the tensor,\n",
    "which are multiplied by the Jacobian of the autograd-traced tensor that\n",
    "precedes it. Let’s try a specific example with a small vector:\n",
    "\n",
    "\n"
   ]
  },
  {
   "cell_type": "code",
   "execution_count": null,
   "metadata": {},
   "outputs": [
    {
     "name": "stdout",
     "output_type": "stream",
     "text": [
      "tensor([-614.4812,   47.1418, 1018.6722], grad_fn=<MulBackward0>)\n"
     ]
    }
   ],
   "source": [
    "x = torch.randn(3, requires_grad=True)\n",
    "\n",
    "y = x * 2\n",
    "while y.data.norm() < 1000:\n",
    "    y = y * 2\n",
    "\n",
    "print(y)"
   ]
  },
  {
   "cell_type": "markdown",
   "metadata": {},
   "source": [
    "If we tried to call ``y.backward()`` now, we’d get a runtime error and a\n",
    "message that gradients can only be *implicitly* computed for scalar\n",
    "outputs. For a multi-dimensional output, autograd expects us to provide\n",
    "gradients for those three outputs that it can multiply into the\n",
    "Jacobian:\n",
    "\n",
    "\n"
   ]
  },
  {
   "cell_type": "code",
   "execution_count": null,
   "metadata": {},
   "outputs": [
    {
     "name": "stdout",
     "output_type": "stream",
     "text": [
      "tensor([5.1200e+01, 5.1200e+02, 5.1200e-02])\n"
     ]
    }
   ],
   "source": [
    "v = torch.tensor([0.1, 1.0, 0.0001], dtype=torch.float) # stand-in for gradients\n",
    "y.backward(v)\n",
    "\n",
    "print(x.grad)"
   ]
  },
  {
   "cell_type": "markdown",
   "metadata": {},
   "source": [
    "(Note that the output gradients are all related to powers of two - which\n",
    "we’d expect from a repeated doubling operation.)\n",
    "\n",
    "### The High-Level API\n",
    "\n",
    "There is an API on autograd that gives you direct access to important\n",
    "differential matrix and vector operations. In particular, it allows you\n",
    "to calculate the Jacobian and the *Hessian* matrices of a particular\n",
    "function for particular inputs. (The Hessian is like the Jacobian, but\n",
    "expresses all partial *second* derivatives.) It also provides methods\n",
    "for taking vector products with these matrices.\n",
    "\n",
    "Let’s take the Jacobian of a simple function, evaluated for a 2\n",
    "single-element inputs:\n",
    "\n",
    "\n"
   ]
  },
  {
   "cell_type": "code",
   "execution_count": null,
   "metadata": {},
   "outputs": [
    {
     "name": "stdout",
     "output_type": "stream",
     "text": [
      "(tensor([0.2711]), tensor([0.7939]))\n"
     ]
    },
    {
     "data": {
      "text/plain": [
       "(tensor([[2.6229]]), tensor([[3.]]))"
      ]
     },
     "metadata": {},
     "output_type": "display_data"
    }
   ],
   "source": [
    "def exp_adder(x, y):\n",
    "    return 2 * x.exp() + 3 * y\n",
    "\n",
    "inputs = (torch.rand(1), torch.rand(1)) # arguments for the function\n",
    "print(inputs)\n",
    "torch.autograd.functional.jacobian(exp_adder, inputs)"
   ]
  },
  {
   "cell_type": "markdown",
   "metadata": {},
   "source": [
    "If you look closely, the first output should equal $2e^x$ (since\n",
    "the derivative of $e^x$ is $e^x$), and the second value\n",
    "should be 3.\n",
    "\n",
    "You can, of course, do this with higher-order tensors:\n",
    "\n",
    "\n"
   ]
  },
  {
   "cell_type": "code",
   "execution_count": null,
   "metadata": {},
   "outputs": [
    {
     "name": "stdout",
     "output_type": "stream",
     "text": [
      "(tensor([0.4968, 0.6422, 0.2565]), tensor([0.3290, 0.3193, 0.3449]))\n"
     ]
    },
    {
     "data": {
      "text/plain": [
       "(tensor([[3.2869, 0.0000, 0.0000],\n",
       "         [0.0000, 3.8012, 0.0000],\n",
       "         [0.0000, 0.0000, 2.5847]]),\n",
       " tensor([[3., 0., 0.],\n",
       "         [0., 3., 0.],\n",
       "         [0., 0., 3.]]))"
      ]
     },
     "metadata": {},
     "output_type": "display_data"
    }
   ],
   "source": [
    "inputs = (torch.rand(3), torch.rand(3)) # arguments for the function\n",
    "print(inputs)\n",
    "torch.autograd.functional.jacobian(exp_adder, inputs)"
   ]
  },
  {
   "cell_type": "markdown",
   "metadata": {},
   "source": [
    "The ``torch.autograd.functional.hessian()`` method works identically\n",
    "(assuming your function is twice differentiable), but returns a matrix\n",
    "of all second derivatives.\n",
    "\n",
    "There is also a function to directly compute the vector-Jacobian\n",
    "product, if you provide the vector:\n",
    "\n",
    "\n"
   ]
  },
  {
   "cell_type": "code",
   "execution_count": null,
   "metadata": {},
   "outputs": [
    {
     "data": {
      "text/plain": [
       "(tensor([ 500.6450, -980.7059, 1476.7811]),\n",
       " tensor([1.0240e+02, 1.0240e+03, 1.0240e-01]))"
      ]
     },
     "metadata": {},
     "output_type": "display_data"
    }
   ],
   "source": [
    "def do_some_doubling(x):\n",
    "    y = x * 2\n",
    "    while y.data.norm() < 1000:\n",
    "        y = y * 2\n",
    "    return y\n",
    "\n",
    "inputs = torch.randn(3)\n",
    "my_gradients = torch.tensor([0.1, 1.0, 0.0001])\n",
    "torch.autograd.functional.vjp(do_some_doubling, inputs, v=my_gradients)"
   ]
  }
 ],
 "metadata": {
  "kernelspec": {
   "display_name": "Python 3 (ipykernel)",
   "language": "python",
   "name": "python3"
  },
  "language_info": {
   "codemirror_mode": {
    "name": "ipython",
    "version": 3
   },
   "file_extension": ".py",
   "mimetype": "text/x-python",
   "name": "python",
   "nbconvert_exporter": "python",
   "pygments_lexer": "ipython3",
   "version": "3.11.5"
  },
  "vscode": {
   "interpreter": {
    "hash": "202c25a4b63441e845682276eb560d05440adad8d270bb9ed06e7caaa47d9276"
   }
  }
 },
 "nbformat": 4,
 "nbformat_minor": 1
}
