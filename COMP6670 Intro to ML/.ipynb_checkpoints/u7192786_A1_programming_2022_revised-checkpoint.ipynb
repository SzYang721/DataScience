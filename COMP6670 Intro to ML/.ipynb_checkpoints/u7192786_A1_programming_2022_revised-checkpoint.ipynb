{
 "cells": [
  {
   "cell_type": "markdown",
   "metadata": {},
   "source": [
    "## COMP3670/6670 Programming Assignment 1 - Linear Algebra and Analytic Geometry\n",
    "---\n",
    "\n",
    "**Enter Your Student ID:** u7192786\n",
    "\n",
    "**Your Name:**Songze Yang\n",
    "    \n",
    "**Deadline:**\n",
    "\n",
    "**Submit:** Write your answers in this file, and submit a single Jupyter Notebook file (.ipynb) on Wattle. Rename this file with your student number as 'uXXXXXXX.ipynb'.\n",
    "\n",
    "**Enter Discussion Partner IDs Below:**\n",
    "You could add more IDs with the same markdown format above.\n",
    "\n",
    "\n",
    "\n",
    "---\n",
    "**Marking distribution for the assignment**\n",
    "\n",
    "- Task1 = 10%\n",
    "- Task2 = 50%\n",
    "- Task3 = 40%\n",
    "\n",
    "**You will get full marks if your program passes all the tests; you will get partial marks if it passes some cases. There is no process marks (we do not look into your codes).**"
   ]
  },
  {
   "cell_type": "markdown",
   "metadata": {},
   "source": [
    "## Task 0: Introduction\n",
    "---\n",
    "\n",
    "**NOTE:** *This part of the first assignment is by necessity somewhat tedious as its primary purpose is to introduce syntax, how to access and understand the Numpy documentation and some very basic concepts. If you are already familiar with Numpy, you can just read the **TASK** headings and complete the questions without worrying about all the additional information. This is designed for people who have never seen Numpy before, so it's a very easy 1st year style introduction to just introduce syntax.*\n",
    "\n",
    "*As this is a third year subject, it is assumed you already know to to program well (but may be unfamiliar with Python and Numpy).*\n",
    "\n",
    "---\n",
    "\n",
    "Arguably the most fundamental tool needed to engage with machine learning in Python is Numpy *(np)*. To include Numpy in any project, simply type the following line at the top of your python file:"
   ]
  },
  {
   "cell_type": "code",
   "execution_count": 1,
   "metadata": {},
   "outputs": [
    {
     "name": "stdout",
     "output_type": "stream",
     "text": [
      "Requirement already satisfied: sympy in c:\\users\\yangs\\anaconda3\\lib\\site-packages (1.9)\n",
      "Requirement already satisfied: mpmath>=0.19 in c:\\users\\yangs\\anaconda3\\lib\\site-packages (from sympy) (1.2.1)\n"
     ]
    }
   ],
   "source": [
    "# numpy\n",
    "import numpy as np\n",
    "\n",
    "!pip install sympy\n",
    "import sympy as sp\n",
    "\n",
    "# matplotlib\n",
    "import matplotlib.pyplot as plt\n",
    "%matplotlib inline"
   ]
  },
  {
   "cell_type": "markdown",
   "metadata": {},
   "source": [
    "A Jupyter Notebook is divided into cells, each of which works like a Python module or Latex file. When a cell is run, any cells that follow it will have access to its results. Running the above cell will give all following cells access to the Numpy library.\n",
    "\n",
    "-----------\n",
    "\n",
    "   **TASK 0.1:** To run the above cell, select it by clicking on it, hold **shift** and press **return**. If you have succeeded, then the cell will print \"Done\" just above.\n",
    "\n",
    "\n",
    "-----------\n",
    "\n",
    "Numpy is a library of common mathematical data structures and algorithms used in machine learning. For example:\n",
    "\n",
    "- It allows you to declare vectors and matrices, with all the associated mathematical operations like matrix vector products, matrix addition / subtraction.\n",
    "- It provides convenient, efficient implementations of algorithms to solve matrix equations, find the inverse of a matrix or perform Eigen decomposition. The implementation of these algorithms is compiled from C code, making Numpy much faster than programming these algorithms yourself in Python.\n",
    "\n",
    "You'll need to know Numpy inside and out. We'll start by getting you familiar with the easy to access online documentation and performing a few basic operations.\n",
    "\n",
    "Below I have declared the matrices: \n",
    "\n",
    "$$A = \n",
    "\\begin{bmatrix}\n",
    "2&3\\\\\n",
    "0&1\\\\\n",
    "\\end{bmatrix}\n",
    "\\\\\n",
    "x = \n",
    "\\begin{bmatrix}\n",
    "1\\\\\n",
    "3\\\\\n",
    "\\end{bmatrix}\n",
    "$$. \n",
    "\n",
    "---\n",
    "**TASK 0.2:** Run the cell below and observe what it prints.\n",
    "\n",
    "\n",
    "---\n",
    "(If it throws an error, you have the wrong version of python installed. This entire course will use Python 3, not Python 2)\n",
    "\n"
   ]
  },
  {
   "cell_type": "code",
   "execution_count": 2,
   "metadata": {},
   "outputs": [
    {
     "name": "stdout",
     "output_type": "stream",
     "text": [
      "\n",
      "Matrix Multiplication\n",
      "[[11]\n",
      " [ 3]]\n"
     ]
    }
   ],
   "source": [
    "A = np.array([[2, 3], [0, 1]])\n",
    "x = np.array([[1], [3]])\n",
    "\n",
    "\n",
    "#Matrix Multiplication Example\n",
    "b = A @ x\n",
    "print('\\nMatrix Multiplication')\n",
    "print(b)"
   ]
  },
  {
   "cell_type": "markdown",
   "metadata": {},
   "source": [
    "The above code illustrates how to perform matrix multiplication. Memorise it. Below are some other basic operations you'll likely need over the coming semester:"
   ]
  },
  {
   "cell_type": "code",
   "execution_count": 3,
   "metadata": {},
   "outputs": [
    {
     "name": "stdout",
     "output_type": "stream",
     "text": [
      "\n",
      "Matrix Addition\n",
      "[[3 4]\n",
      " [3 4]]\n",
      "\n",
      "Elementwise Matrix Multiplication\n",
      "[[2 3]\n",
      " [0 3]]\n",
      "\n",
      "Single Element Extraction\n",
      "2\n",
      "\n",
      "Column Extraction\n",
      "[2 0]\n",
      "\n",
      "Row Extraction\n",
      "[2 3]\n",
      "\n",
      "Transpose\n",
      "[[2 0]\n",
      " [3 1]]\n"
     ]
    }
   ],
   "source": [
    "#Matrix Addition Example\n",
    "b = A + x\n",
    "print('\\nMatrix Addition')\n",
    "print(b)\n",
    "\n",
    "#Elementwise Multiplication Example\n",
    "b = A * x\n",
    "print('\\nElementwise Matrix Multiplication')\n",
    "print(b)\n",
    "\n",
    "#Extract a single element of a matrix:\n",
    "print('\\nSingle Element Extraction')\n",
    "b = A[0, 0]\n",
    "print(b)\n",
    "\n",
    "#Extract an entire column of a matrix:\n",
    "print('\\nColumn Extraction')\n",
    "b = A[:, 0]\n",
    "print(b)\n",
    "\n",
    "#Extract an entire row of a matrix:\n",
    "print('\\nRow Extraction')\n",
    "b = A[0, :]\n",
    "print(b)\n",
    "\n",
    "#Transpose of a matrix:\n",
    "print('\\nTranspose')\n",
    "A_Transpose = A.T\n",
    "print(A_Transpose)"
   ]
  },
  {
   "cell_type": "markdown",
   "metadata": {},
   "source": [
    "## Task1: Solving a system of linear equations\n",
    "---\n",
    "\n",
    "A vital part of linear algebra is to know how to solve a system of linear equations. For e.g. \n",
    "\n",
    "$$a_{11}x_1+a_{12}x_2 \\dots a_{1d}x_d=b_1$$\n",
    "$$a_{21}x_1+a_{22}x_2 \\dots a_{2d}x_d=b_2$$\n",
    "$$\\vdots$$\n",
    "$$a_{n1}x_1+a_{n2}x_2 \\dots a_{nd}x_d=b_n$$\n",
    "\n",
    "The above system of linear equations can also be written down in a compact matrix form as follows:\n",
    "\n",
    "$$AX = B$$\n",
    "\n",
    "where,\n",
    "$$A = \\begin{bmatrix}\n",
    "a_{11} & \\dots & a_{1d}\\\\\n",
    "\\vdots & \\ddots & \\vdots \\\\\n",
    "a_{n1} & \\dots & a_{nd}\n",
    "\\end{bmatrix}, \\quad\n",
    "B = \\begin{bmatrix}\n",
    "b_1 \\\\ \\vdots \\\\ b_n\n",
    "\\end{bmatrix}, \\quad\n",
    "X = \\begin{bmatrix}\n",
    "x_1 \\\\ \\vdots \\\\ x_d\n",
    "\\end{bmatrix}.\n",
    "$$"
   ]
  },
  {
   "cell_type": "markdown",
   "metadata": {},
   "source": [
    "---\n",
    "**Task 1.1**: Use numpy's solve function to compute X\n",
    "\n",
    "---\n",
    "**HINT**: https://docs.scipy.org/doc/numpy/reference/generated/numpy.linalg.solve.html"
   ]
  },
  {
   "cell_type": "code",
   "execution_count": 4,
   "metadata": {},
   "outputs": [
    {
     "name": "stdout",
     "output_type": "stream",
     "text": [
      "[[-0.5]\n",
      " [ 0.5]\n",
      " [ 1. ]]\n"
     ]
    }
   ],
   "source": [
    "# define A,B\n",
    "A = np.array([[2, 0, 3], [1, -1, 2], [1, -3, 4]])\n",
    "B = np.array([[2], [1], [2]])\n",
    "\n",
    "def solve_with_numpy(A,B):\n",
    "    return np.linalg.solve(A,B)\n",
    "\n",
    "# show solution\n",
    "X = solve_with_numpy(A,B)\n",
    "print (X)"
   ]
  },
  {
   "cell_type": "markdown",
   "metadata": {},
   "source": [
    "A more hands on way for solving for X, involves computing first computing the inverse of the matrix $A$\n",
    "\n",
    "---\n",
    "**Task 1.2**: Use numpy's inbuilt method for computing the inverse of the matrix $A$\n",
    "\n",
    "---\n",
    "\n",
    "**HINT**: https://docs.scipy.org/doc/numpy/reference/generated/numpy.linalg.inv.html"
   ]
  },
  {
   "cell_type": "code",
   "execution_count": 5,
   "metadata": {},
   "outputs": [
    {
     "name": "stdout",
     "output_type": "stream",
     "text": [
      "[[-1. -2.]\n",
      " [ 1.  3.]]\n"
     ]
    }
   ],
   "source": [
    "A = np.array([[-3, -2], [1, 1]])\n",
    "\n",
    "A_inv = np.linalg.inv(A)\n",
    "print(A_inv)"
   ]
  },
  {
   "cell_type": "markdown",
   "metadata": {},
   "source": [
    "---\n",
    "**Task 1.3**: Use the inverse of matrix $A$, to solve for $X$\n",
    "\n",
    "---"
   ]
  },
  {
   "cell_type": "code",
   "execution_count": 6,
   "metadata": {},
   "outputs": [
    {
     "name": "stdout",
     "output_type": "stream",
     "text": [
      "[[-16.]\n",
      " [ 22.]]\n"
     ]
    }
   ],
   "source": [
    "A = np.array([[-3, -2], [1, 1]])\n",
    "B = np.array([[4], [6]])\n",
    "\n",
    "X = np.linalg.inv(A)@B\n",
    "\n",
    "print(X)"
   ]
  },
  {
   "cell_type": "markdown",
   "metadata": {},
   "source": [
    "But what if $A$ is not a square matrix?\n",
    "\n",
    "---\n",
    "**Task 1.4**: Compute the Moore-Penrose pseudo inverse for matrix $A$ and use it for computing $X$. Note that, you must not directly use `np.linalg.pinv` for computing the pseudo-inverse.\n",
    "\n",
    "---\n",
    "\n",
    "**HINT**: https://en.wikipedia.org/wiki/Moore–Penrose_inverse"
   ]
  },
  {
   "cell_type": "code",
   "execution_count": 7,
   "metadata": {},
   "outputs": [
    {
     "name": "stdout",
     "output_type": "stream",
     "text": [
      "[[1.]\n",
      " [4.]]\n"
     ]
    }
   ],
   "source": [
    "A = np.array([[1, 3], [2, 7], [5, 1]])\n",
    "B = np.array([[13], [30], [9]])\n",
    "\n",
    "A_pseudo_inverse = (A.T @ A)@A.T\n",
    "X =  np.linalg.inv(A.T @ A)@A.T@B\n",
    "print(X)"
   ]
  },
  {
   "cell_type": "markdown",
   "metadata": {},
   "source": [
    "## Task 2: Solving a system of linear equations with Gaussian elimination"
   ]
  },
  {
   "cell_type": "markdown",
   "metadata": {},
   "source": [
    "In the last task, we used numpy's inbulit functions to solve a system of linear equations. Lets do it without using these functions!\n",
    "\n",
    "---\n",
    "**Task 2.1**:  Complete the following gaussian elimnation function to compute the **reduced row-echelon form** of matrix $A$. You must implement the gaussian elimination algorithm yourself, not merely call someone else's library function. You **MUST NOT** copy codes from any source. Your function needs to work under **different shapes** of matrix. Negative zero is a result of the floating-point number standard. If you have some -0s instead of 0s, that should be fine.\n",
    "\n",
    "---"
   ]
  },
  {
   "cell_type": "code",
   "execution_count": 10,
   "metadata": {},
   "outputs": [],
   "source": [
    "def gaussian_elim(X):\n",
    "    m, n = X.shape\n",
    "    X = np.float64(X)\n",
    "    res = np.zeros((m, n))\n",
    "    # YOUR CODE HERE\n",
    "    pcol = 0\n",
    "    prow = 0\n",
    "    while pcol < n and prow < m:\n",
    "        if X[prow, pcol] == 0:\n",
    "            for k in range(prow + 1, m): ## Swap two rows to get a pivot\n",
    "                if X[k, pcol] != 0:\n",
    "                    X[[k, prow]] = X[[prow, k]]\n",
    "                    break\n",
    "        if X[prow, pcol]!= 0:\n",
    "            X[prow, :] = X[prow, :] / X[prow, pcol]\n",
    "            for j in range(0, m): ## gaussian elimination\n",
    "                if j != prow and X[j, pcol] != 0:\n",
    "                    X[j, :] = X[j, :] - X[prow, :] * X[j, pcol]\n",
    "            prow+=1 ## Continue to find the next row\n",
    "        pcol+=1\n",
    "    res = np.float64(X)\n",
    "    return res"
   ]
  },
  {
   "cell_type": "code",
   "execution_count": 11,
   "metadata": {},
   "outputs": [
    {
     "name": "stdout",
     "output_type": "stream",
     "text": [
      "[[ 1.  0.  0. -1.]\n",
      " [ 0.  1.  0. -1.]\n",
      " [-0. -0.  1.  2.]\n",
      " [ 0.  0.  0.  0.]\n",
      " [ 0.  0.  0.  0.]]\n"
     ]
    }
   ],
   "source": [
    "A = np.array([[1, 0, 1, 1],\n",
    "             [1, 0, 1, 1],\n",
    "             [0, 1, 1, 1],\n",
    "             [1, 1, 1, 0],\n",
    "             [1, 1, 1, 0]], dtype=np.float64)\n",
    "print(gaussian_elim(A))\n",
    "#The result should look like\n",
    "# [[ 1.,  0.,  0., -1.],\n",
    "#  [ 0.,  1.,  0., -1.],\n",
    "#  [-0., -0.,  1.,  2.],\n",
    "#  [ 0.,  0.,  0.,  0.],\n",
    "#  [ 0.,  0.,  0.,  0.]]"
   ]
  },
  {
   "cell_type": "code",
   "execution_count": 12,
   "metadata": {},
   "outputs": [
    {
     "name": "stdout",
     "output_type": "stream",
     "text": [
      "[[ 1.          0.          0.          0.36363636 -0.81818182  0.18181818]\n",
      " [ 0.          1.          0.         -0.18181818  0.90909091 -0.09090909]\n",
      " [-0.         -0.          1.          0.09090909  0.54545455  0.54545455]]\n"
     ]
    }
   ],
   "source": [
    "B = np.array([[2, 0, 3, 1, 0, 2],\n",
    "             [1, 3, 2, 0, 3, 1],\n",
    "             [3, 2, 3, 1, 1, 2]])\n",
    "print(gaussian_elim(B))\n",
    "#The result should look like\n",
    "# [[ 1.          0.          0.          0.36363636 -0.81818182  0.18181818]\n",
    "#  [ 0.          1.          0.         -0.18181818  0.90909091 -0.09090909]\n",
    "#  [ 0.          0.          1.          0.09090909  0.54545455  0.54545455]]"
   ]
  },
  {
   "cell_type": "markdown",
   "metadata": {},
   "source": [
    "We will evaluate your code with many different matrices. "
   ]
  },
  {
   "cell_type": "markdown",
   "metadata": {},
   "source": [
    "---\n",
    "**Task 2.2**: A system of linear equations is called homogeneous if the right hand side is the zero vector. Sometimes there will be only trivial solution, namely the zero vector. An example of this matrix is:\n",
    "$$2x_1+4x_2 =0$$\n",
    "$$2x_1+5x_2 =0$$\n",
    "Sometimes there will be non-trivial solutions, e.g.,\n",
    "$$2x_1+4x_2 =0$$\n",
    "$$1x_1+2x_2 =0$$\n",
    "The solution can be $x_1 =-2$, $x_2 =1$.\n",
    " \n",
    "$A=\\big(\\begin{smallmatrix}\n",
    "  2 & 4\\\\\n",
    "  1 & 2\n",
    "\\end{smallmatrix}\\big)$ is called coefficient matrix.\n",
    "Your task is solving a homogeneous system of linear equations based on its reduced row-echelon form, i.e., the output of your *gaussian_elim* function in Task 2.1. You **MUST NOT** revoke any numpy inbuilt functions you used in Task 1. Your function needs to work under **different shapes** of $A$. \n",
    "\n",
    "The *solve_homogeneous* function should be according to the following specifications:\n",
    "* Take as input the coefficient matrix $A$. \n",
    "* Return:\n",
    "    - 0 if it only has trivial solution. Type: int.\n",
    "    - otherwise, return any two different non-trivial solutions. Type: tuple((np.ndarray, Type: np.ndarray)).  Note that the dimensions of the np.ndarray should be 1, i.e., using one pair of square brackets. See demo outputs below."
   ]
  },
  {
   "cell_type": "code",
   "execution_count": 18,
   "metadata": {},
   "outputs": [],
   "source": [
    "def solve_homogeneous(A):\n",
    "    # YOUR CODE HERE\n",
    "    RREF = gaussian_elim(A)\n",
    "    m, n = RREF.shape\n",
    "    pcol = []\n",
    "    for i in range(0,m): # grid search algorithm\n",
    "        for j in range(0,n):\n",
    "            if RREF[i,j]!=0:\n",
    "                pcol.append(j)\n",
    "                break\n",
    "    if len(pcol)== n: ## case of full rank\n",
    "        return int(0)\n",
    "    else:\n",
    "        freecol = list(range(0,n))\n",
    "        freecol = [e for e in freecol if e not in pcol]\n",
    "        sol = np.array(range(0, n),dtype=np.float64)\n",
    "        for i in range(0,n):\n",
    "            if freecol[0]!=i and i<m: # try to find one solution\n",
    "                sol[i] = RREF[i,freecol[0]]\n",
    "            elif freecol[0]==i:\n",
    "                sol[i] = -1\n",
    "            else:\n",
    "                sol[i] = 0\n",
    "        return sol, sol*2"
   ]
  },
  {
   "cell_type": "code",
   "execution_count": 19,
   "metadata": {},
   "outputs": [
    {
     "name": "stdout",
     "output_type": "stream",
     "text": [
      "0\n"
     ]
    }
   ],
   "source": [
    "A = np.array([[2, 2, 3],\n",
    "              [4, 5, 6],\n",
    "              [7, 8, 9]], dtype=np.float64)\n",
    "print(solve_homogeneous(A))\n",
    "#The result should look like\n",
    "# 0"
   ]
  },
  {
   "cell_type": "code",
   "execution_count": 20,
   "metadata": {},
   "outputs": [
    {
     "name": "stdout",
     "output_type": "stream",
     "text": [
      "(array([ 3. ,  0.5, -1. ]), array([ 6.,  1., -2.]))\n"
     ]
    }
   ],
   "source": [
    "B = np.array([[1, 2, 4],\n",
    "              [1, 2, 4],\n",
    "              [1, 8, 7]], dtype=np.float64)\n",
    "print(solve_homogeneous(B))\n",
    "#The result should look like\n",
    "# (array([-3. , -0.5,  1. ]), array([-6., -1.,  2.]))\n",
    "\n",
    "# Note that results are not unique"
   ]
  },
  {
   "cell_type": "code",
   "execution_count": 21,
   "metadata": {},
   "outputs": [
    {
     "name": "stdout",
     "output_type": "stream",
     "text": [
      "(array([-1.,  2., -1.]), array([-2.,  4., -2.]))\n"
     ]
    }
   ],
   "source": [
    "C = np.array([[1, 2, 3],\n",
    "              [4, 5, 6]], dtype=np.float64)\n",
    "print(solve_homogeneous(C))\n",
    "#The result should look like\n",
    "# (array([ 1., -2.,  1.]), array([ 2., -4.,  2.]))\n",
    "\n",
    "# Note that results are not unique"
   ]
  },
  {
   "cell_type": "code",
   "execution_count": 22,
   "metadata": {},
   "outputs": [
    {
     "name": "stdout",
     "output_type": "stream",
     "text": [
      "0\n"
     ]
    }
   ],
   "source": [
    "D = np.array([[1, 2],\n",
    "              [3, 4],\n",
    "              [5, 6]], dtype=np.float64)\n",
    "print(solve_homogeneous(D))\n",
    "#The result should look like\n",
    "# 0"
   ]
  },
  {
   "cell_type": "markdown",
   "metadata": {},
   "source": [
    "We will evaluate your code with many different matrices."
   ]
  },
  {
   "cell_type": "markdown",
   "metadata": {},
   "source": [
    "---\n",
    "**Task 2.3**: A system of linear equations is called non-homogeneous if the right hand side is not the zero vector. A non-homogeneous system of linear equations has\n",
    "* no solution, or\n",
    "* a unique solution, or\n",
    "* infinite number of solutions\n",
    "\n",
    "Similar to Task 2.2, your task is solving a non-homogeneous system of linear equations. You **MUST NOT** revoke any numpy inbuilt functions you used in Task 1, however, you are allowed to use the functions you defined in Task 2.2. Your function needs to work under **different shapes** of augmented matrix $[A|b]$. \n",
    "\n",
    "The *solve_nonhomogeneous* function should be according to following specifications:\n",
    "* Take as input the augmented matrix $[A|b]$. \n",
    "* Return:\n",
    "    - None if it has no solution at all. Type: None.\n",
    "    - the single solution if it only has one solution. Type: np.ndarray.\n",
    "    - otherwise, return any two different solutions if it has more than one solutions. Type: tuple((np.ndarray, Type: np.ndarray)).\n",
    "*  Note that the dimensions of the np.ndarray should be 1, especially, one pair of square brackets. See demo outputs below.    "
   ]
  },
  {
   "cell_type": "code",
   "execution_count": 23,
   "metadata": {},
   "outputs": [],
   "source": [
    "def solve_nonhomogeneous(A_aug):\n",
    "    # YOUR CODE HERE\n",
    "    Ab = gaussian_elim(A_aug)\n",
    "    A,b = np.hsplit(Ab,[-1])\n",
    "    m, n = A.shape\n",
    "    pcol = []\n",
    "    for i in range(0,m): # grid search for pivot column in A\n",
    "        zerocol = True\n",
    "        for j in range(0,n):\n",
    "            if A[i,j]!=0:\n",
    "                pcol.append(j)\n",
    "                zerocol = False\n",
    "                break\n",
    "        if zerocol==True and b[i]!=0:\n",
    "            return None ## situation of no solution\n",
    "    freecol = list(range(0,n))\n",
    "    freecol = [e for e in freecol if e not in pcol]\n",
    "    if len(freecol)==0: ## situation with 1 solution\n",
    "        return b.T[0]\n",
    "    else: ## situation with infinite solution\n",
    "        sol = np.array(range(0, n), dtype=np.float64)\n",
    "        counts = 0\n",
    "        for i in range(0, n):\n",
    "            if freecol[0] != i and i < m:  # try to find one solution\n",
    "                sol[i] = b[counts]\n",
    "                counts+=1\n",
    "            else:\n",
    "                sol[i] = 0\n",
    "        sol_non,sol_non_2 = sol.T + solve_homogeneous(A)\n",
    "        return sol_non,sol_non_2\n",
    "    "
   ]
  },
  {
   "cell_type": "code",
   "execution_count": 24,
   "metadata": {},
   "outputs": [
    {
     "name": "stdout",
     "output_type": "stream",
     "text": [
      "None\n"
     ]
    }
   ],
   "source": [
    "A = np.array([\n",
    "    [1, 2, 3, 1],\n",
    "    [2, 4, 6, 3],\n",
    "    [7, 8, 9, 4]\n",
    "])\n",
    "print(solve_nonhomogeneous(A))\n",
    "#The result should look like\n",
    "# None"
   ]
  },
  {
   "cell_type": "code",
   "execution_count": 25,
   "metadata": {},
   "outputs": [
    {
     "name": "stdout",
     "output_type": "stream",
     "text": [
      "[ 2. -1.  4.]\n"
     ]
    }
   ],
   "source": [
    "B = np.array([\n",
    "    [1, 0, 1, 6],\n",
    "    [0, -3, 1, 7],\n",
    "    [2, 1, 3, 15]\n",
    "])\n",
    "print(solve_nonhomogeneous(B))\n",
    "#The result should look like\n",
    "# [ 2. -1.  4.]"
   ]
  },
  {
   "cell_type": "code",
   "execution_count": 26,
   "metadata": {},
   "outputs": [
    {
     "name": "stdout",
     "output_type": "stream",
     "text": [
      "(array([-1. ,  2.5, -1. ]), array([-2. ,  4.5, -2. ]))\n"
     ]
    }
   ],
   "source": [
    "C = np.array([\n",
    "    [1, 2, 3, 1],\n",
    "    [2, 4, 6, 2],\n",
    "    [7, 8, 9, 4]\n",
    "])\n",
    "print(solve_nonhomogeneous(C))\n",
    "#The result should look like\n",
    "# (array([ 1. , -1.5,  1. ]), array([ 2. , -3.5,  2. ]))"
   ]
  },
  {
   "cell_type": "markdown",
   "metadata": {},
   "source": [
    "We will evaluate your code with many different matrices."
   ]
  },
  {
   "cell_type": "markdown",
   "metadata": {},
   "source": [
    "## Task 3: Gram-Schmidt orthogonalization\n",
    "\n",
    "The Gram-Schmidt algorithm is used for finding an orthonormal basis for the subspace spanned by a set of vectors.\n",
    "\n",
    "Given a linearly independent set of vectors $S = \\lbrace \\mathbf{v_1}, \\mathbf{v_2}, ..., \\mathbf{v_n} \\rbrace$, an orthogonal set $S' = \\lbrace \\mathbf{u_1}, \\mathbf{u_2}, ..., \\mathbf{u_n} \\rbrace $ can be generated under this procedure:\n",
    "\n",
    "\n",
    "$\\mathbf{u_1} = \\mathbf{v_1}$\\\n",
    "$\\mathbf{u_2} = \\mathbf{v_2} - \\textrm{proj}_{\\mathbf{u_1}}(\\mathbf{v_2})$\\\n",
    "$\\mathbf{u_3} = \\mathbf{v_3} - \\textrm{proj}_{\\mathbf{u_1}}(\\mathbf{v_3}) - \\textrm{proj}_{\\mathbf{u_2}}(\\mathbf{v_3})$\\\n",
    "...\\\n",
    "$\\mathbf{u_n} = \\mathbf{v_n} - \\sum_{i=1}^{n-1}\\textrm{proj}_{\\mathbf{u_i}}(\\mathbf{v_n})$,\n",
    "\n",
    "where $\\textrm{proj}_{\\mathbf{u}}(\\mathbf{v}) = \\dfrac{\\langle \\mathbf{u}, \\mathbf{v} \\rangle}{\\langle \\mathbf{u}, \\mathbf{u} \\rangle}\\mathbf{u}$\n",
    "\n",
    "The orthogonal set is not normalized, you can normalize it by $\\mathbf{e_i} = \\dfrac{\\mathbf{u_i}}{||\\mathbf{u_i}||}$\n",
    "\n",
    "---\n",
    "**Read more:** https://en.wikipedia.org/wiki/Gram–Schmidt_process"
   ]
  },
  {
   "cell_type": "markdown",
   "metadata": {},
   "source": [
    "---\n",
    "**Task 3.1**: Implement a function that finds an orthonormal basis of row vectors for matrix $A$. The *gram_schmidt* function should be according to following specifications: \n",
    "* Take as input any matrix $A$.\n",
    "* Return a matrix with the orthonormal basis vectors as the rows.\n",
    "\n",
    "---\n",
    "**NOTE**: The resulting basis should be orthonormal, so each basis vector should be of norm 1."
   ]
  },
  {
   "cell_type": "code",
   "execution_count": 27,
   "metadata": {},
   "outputs": [],
   "source": [
    "# Find orthonormal basis using gram-schmidt \n",
    "def gram_schmidt(A):\n",
    "    # YOUR CODE HERE\n",
    "    A = np.float64(A)\n",
    "    m, n = A.shape\n",
    "    for i in range(1,m):\n",
    "        for j in range(0,i):\n",
    "            base = np.sum(np.power(A[j,:],2))\n",
    "            if(base!=0):\n",
    "                frac = (np.sum(A[i,:]*A[j,:]))/base\n",
    "                A[i,:] = A[i,:]-frac*A[j,:]\n",
    "    i = 0\n",
    "    while i < len(A):\n",
    "        norm = np.sqrt(np.sum(np.power(A[i,:],2)))\n",
    "        if(norm!=0):\n",
    "            A[i,:] = A[i,:]/norm\n",
    "            i += 1\n",
    "        else:\n",
    "            A = np.delete(A, i, 0)\n",
    "    return A"
   ]
  },
  {
   "cell_type": "code",
   "execution_count": 28,
   "metadata": {},
   "outputs": [
    {
     "name": "stdout",
     "output_type": "stream",
     "text": [
      "[[ 0.         -0.33333333  0.66666667  0.          0.66666667]\n",
      " [-0.53881591  0.71842121  0.1796053   0.3592106   0.1796053 ]\n",
      " [-0.43112399 -0.23515854 -0.66628253 -0.11757927  0.54870326]]\n"
     ]
    }
   ],
   "source": [
    "# A = np.array([[0, -1, 2, 0, 2],\n",
    "#               [1, -3, 1, -1, 2],\n",
    "#               [-3, 4, 1, 2, 1],\n",
    "#               [-1, -3, 5, 0, 7]])\n",
    "A = np.array([[0, -1, 2, 0, 2],\n",
    "              [0, -0, 0, -0, 0],\n",
    "              [-3, 4, 1, 2, 1],\n",
    "              [-1, -3, 5, 0, 7]])\n",
    "print(gram_schmidt(A))\n",
    "\n",
    "#The result should look like\n",
    "# [[ 0.         -0.33333333  0.66666667  0.          0.66666667]\n",
    "#  [ 0.37796447 -0.75592895 -0.37796447 -0.37796447  0.        ]\n",
    "#  [-0.57735027  0.         -0.57735027  0.          0.57735027]]"
   ]
  },
  {
   "cell_type": "markdown",
   "metadata": {},
   "source": [
    "We will evaluate your code with many different matrices."
   ]
  },
  {
   "cell_type": "markdown",
   "metadata": {},
   "source": [
    "---\n",
    "**TASK 3.2:** Implement a function that accepts a matrix and returns TRUE if all the rows of that matrix are orthogonal to one another, and each one of them is of length 1. Use this function to verify the output of your *gram_schmidt* function is actually correct. Again, you must program this function yourself, rather than relying on a library function.\n",
    "\n",
    "You can check whether your algorithms work using the last 6 lines in the code given below."
   ]
  },
  {
   "cell_type": "code",
   "execution_count": 29,
   "metadata": {},
   "outputs": [
    {
     "name": "stdout",
     "output_type": "stream",
     "text": [
      "\n",
      "CHECKING TRUE TEST (SHOULD RETURN TRUE):\n",
      "True\n",
      "\n",
      "CHECKING FALSE TEST (SHOULD RETURN FALSE):\n",
      "False\n"
     ]
    }
   ],
   "source": [
    "def orthogonality_checker(A):\n",
    "    # YOUR CODE HERE\n",
    "    A = np.float64(A)\n",
    "    m, n = A.shape\n",
    "    for i in range(0,m):\n",
    "        length = np.sqrt(np.sum(np.power(A[i,:],2)))\n",
    "        if(length !=1):\n",
    "            return False\n",
    "        for j in range(i+1,m):\n",
    "            prod = np.sum(A[i,:]*A[j,:])\n",
    "            if prod!=0:\n",
    "                return False\n",
    "    return True\n",
    "                \n",
    "            \n",
    "\n",
    "true_test = np.eye(3,3)\n",
    "false_test = np.ones((3,3))\n",
    "print('\\nCHECKING TRUE TEST (SHOULD RETURN TRUE):')\n",
    "print(orthogonality_checker(true_test))\n",
    "print('\\nCHECKING FALSE TEST (SHOULD RETURN FALSE):')\n",
    "print(orthogonality_checker(false_test))"
   ]
  },
  {
   "cell_type": "markdown",
   "metadata": {},
   "source": [
    "We will evaluate your code with many different matrices."
   ]
  }
 ],
 "metadata": {
  "kernelspec": {
   "display_name": "Python 3",
   "language": "python",
   "name": "python3"
  },
  "language_info": {
   "codemirror_mode": {
    "name": "ipython",
    "version": 3
   },
   "file_extension": ".py",
   "mimetype": "text/x-python",
   "name": "python",
   "nbconvert_exporter": "python",
   "pygments_lexer": "ipython3",
   "version": "3.9.6 (default, Sep 26 2022, 11:37:49) \n[Clang 14.0.0 (clang-1400.0.29.202)]"
  },
  "vscode": {
   "interpreter": {
    "hash": "31f2aee4e71d21fbe5cf8b01ff0e069b9275f58929596ceb00d14d90e3e16cd6"
   }
  }
 },
 "nbformat": 4,
 "nbformat_minor": 2
}
